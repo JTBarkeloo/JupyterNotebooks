{
 "cells": [
  {
   "cell_type": "markdown",
   "metadata": {},
   "source": [
    "# Nationwide Application Assessment for Computational Telematics\n",
    "# Jason Barkeloo\n",
    "\n",
    "Now let's import necessary libraries. <br>\n",
    "numpy for various linear algebra libraries<br>\n",
    "pandas for convenient file reading as well as dataframe structures that are convenient to work with<br>\n",
    "matplotlib for various basic plots<br>\n",
    "geopy for geodesic distances used for calculations in part 1\n",
    "sklearn, keras (using locally installed tensorflow) for neural network applications"
   ]
  },
  {
   "cell_type": "code",
   "execution_count": 3,
   "metadata": {},
   "outputs": [],
   "source": [
    "import numpy as np\n",
    "import pandas as pd\n",
    "import matplotlib.pyplot as plt\n",
    "from geopy.distance import geodesic\n",
    "import sys\n",
    "import sklearn\n",
    "import keras\n",
    "from sklearn.model_selection import train_test_split\n",
    "from keras.models import Model,Sequential\n",
    "from keras.layers import Dense, Dropout, Input\n",
    "from keras.callbacks import EarlyStopping\n",
    "from sklearn.metrics import roc_curve,roc_auc_score\n",
    "from sklearn.preprocessing import LabelEncoder\n",
    "from sklearn.metrics import confusion_matrix\n",
    "import xgboost as xgb"
   ]
  },
  {
   "cell_type": "markdown",
   "metadata": {},
   "source": [
    "# Part 2 Modeling"
   ]
  },
  {
   "cell_type": "code",
   "execution_count": 2,
   "metadata": {},
   "outputs": [],
   "source": [
    "sim_sum_tot = pd.read_csv(r\"C:\\Users\\JTBar\\Documents\\Telematics Exercise Files\\simulated_summary_total.csv\")"
   ]
  },
  {
   "cell_type": "code",
   "execution_count": 4,
   "metadata": {},
   "outputs": [
    {
     "data": {
      "text/html": [
       "<div>\n",
       "<style scoped>\n",
       "    .dataframe tbody tr th:only-of-type {\n",
       "        vertical-align: middle;\n",
       "    }\n",
       "\n",
       "    .dataframe tbody tr th {\n",
       "        vertical-align: top;\n",
       "    }\n",
       "\n",
       "    .dataframe thead th {\n",
       "        text-align: right;\n",
       "    }\n",
       "</style>\n",
       "<table border=\"1\" class=\"dataframe\">\n",
       "  <thead>\n",
       "    <tr style=\"text-align: right;\">\n",
       "      <th></th>\n",
       "      <th>Vehicle</th>\n",
       "      <th>Days</th>\n",
       "      <th>Distance</th>\n",
       "      <th>HardBrakes</th>\n",
       "      <th>HardAccelerations</th>\n",
       "      <th>NightTime_Pct</th>\n",
       "      <th>VehicleType</th>\n",
       "      <th>Loss</th>\n",
       "    </tr>\n",
       "  </thead>\n",
       "  <tbody>\n",
       "    <tr>\n",
       "      <th>0</th>\n",
       "      <td>1</td>\n",
       "      <td>365</td>\n",
       "      <td>13114</td>\n",
       "      <td>152</td>\n",
       "      <td>56</td>\n",
       "      <td>0.005</td>\n",
       "      <td>SUV</td>\n",
       "      <td>0</td>\n",
       "    </tr>\n",
       "    <tr>\n",
       "      <th>1</th>\n",
       "      <td>2</td>\n",
       "      <td>365</td>\n",
       "      <td>18707</td>\n",
       "      <td>147</td>\n",
       "      <td>1</td>\n",
       "      <td>0.010</td>\n",
       "      <td>SUV</td>\n",
       "      <td>0</td>\n",
       "    </tr>\n",
       "    <tr>\n",
       "      <th>2</th>\n",
       "      <td>3</td>\n",
       "      <td>365</td>\n",
       "      <td>16659</td>\n",
       "      <td>151</td>\n",
       "      <td>127</td>\n",
       "      <td>0.019</td>\n",
       "      <td>Truck</td>\n",
       "      <td>0</td>\n",
       "    </tr>\n",
       "    <tr>\n",
       "      <th>3</th>\n",
       "      <td>4</td>\n",
       "      <td>365</td>\n",
       "      <td>13330</td>\n",
       "      <td>126</td>\n",
       "      <td>147</td>\n",
       "      <td>0.000</td>\n",
       "      <td>SUV</td>\n",
       "      <td>1</td>\n",
       "    </tr>\n",
       "    <tr>\n",
       "      <th>4</th>\n",
       "      <td>5</td>\n",
       "      <td>365</td>\n",
       "      <td>22533</td>\n",
       "      <td>10</td>\n",
       "      <td>11</td>\n",
       "      <td>0.001</td>\n",
       "      <td>Truck</td>\n",
       "      <td>0</td>\n",
       "    </tr>\n",
       "  </tbody>\n",
       "</table>\n",
       "</div>"
      ],
      "text/plain": [
       "   Vehicle  Days  Distance  HardBrakes  HardAccelerations  NightTime_Pct  \\\n",
       "0        1   365     13114         152                 56          0.005   \n",
       "1        2   365     18707         147                  1          0.010   \n",
       "2        3   365     16659         151                127          0.019   \n",
       "3        4   365     13330         126                147          0.000   \n",
       "4        5   365     22533          10                 11          0.001   \n",
       "\n",
       "  VehicleType  Loss  \n",
       "0         SUV     0  \n",
       "1         SUV     0  \n",
       "2       Truck     0  \n",
       "3         SUV     1  \n",
       "4       Truck     0  "
      ]
     },
     "execution_count": 4,
     "metadata": {},
     "output_type": "execute_result"
    }
   ],
   "source": [
    "sim_sum_tot.head()"
   ]
  },
  {
   "cell_type": "code",
   "execution_count": 5,
   "metadata": {},
   "outputs": [
    {
     "data": {
      "text/plain": [
       "VehicleType\n",
       "Car         9085\n",
       "Minivan     1520\n",
       "SUV         7463\n",
       "Truck      11932\n",
       "Name: Loss, dtype: int64"
      ]
     },
     "execution_count": 5,
     "metadata": {},
     "output_type": "execute_result"
    }
   ],
   "source": [
    "sim_sum_tot.groupby(['VehicleType'])['Loss'].count()"
   ]
  },
  {
   "cell_type": "markdown",
   "metadata": {},
   "source": [
    "\n",
    "This dataset contains 30,000 vehicles, of which 4031 have been in a collision.  For a further breakdown of how many vehicles have been in a collision by VehicleType:"
   ]
  },
  {
   "cell_type": "code",
   "execution_count": 6,
   "metadata": {},
   "outputs": [
    {
     "data": {
      "text/plain": [
       "VehicleType  Loss\n",
       "Car          0        7955\n",
       "             1        1130\n",
       "Minivan      0        1365\n",
       "             1         155\n",
       "SUV          0        6368\n",
       "             1        1095\n",
       "Truck        0       10281\n",
       "             1        1651\n",
       "Name: Loss, dtype: int64"
      ]
     },
     "execution_count": 6,
     "metadata": {},
     "output_type": "execute_result"
    }
   ],
   "source": [
    "sim_sum_tot.groupby(['VehicleType','Loss'])['Loss'].count()"
   ]
  },
  {
   "cell_type": "markdown",
   "metadata": {},
   "source": [
    "# (4) Is there a statistically significant difference between vehicle types?\n",
    "If we assume the loss populations are sampled from a binomial distribution with probability given by TotalLossPerType/TotalType a simple z-test can be conducted to determine if the null hypothesis, the distributions being 'sampled' from a similar distribution, can be rejected.  For a significance $\\alpha = 0.05$ a z-value greater than the critical value of 1.64 means the null hypothesis is rejected and the population proportions are statistically significantly different at the 0.05 significance level.  However, there is a nonzero chance that continually looking at distributions will result in a positive effect (The Look-Elsewhere effect) one way to combat this is to divide the significance value youre looking for by the number of unique trials (here 6) and using that critical value.  This then is $\\alpha = 0.083$ and chances $z_{critical}=2.64$.  However, the choice of p<0.05 rejecting the null hypothesis is a convention and the distinction here is somewhat arbitrary.  The conclusions that I draw depend on how liberal we want to be in the definition of statistical significance.\n",
    "\\begin{equation*}\n",
    "z   = \\frac{p_1 - p_2}{\\sqrt{p (1-p)(1/n_1 + 1/n_2)}}\n",
    "\\end{equation*}"
   ]
  },
  {
   "cell_type": "code",
   "execution_count": 7,
   "metadata": {},
   "outputs": [],
   "source": [
    "ProbDict={}\n",
    "ProbDict['Car']     = [1130.,9085.];\n",
    "ProbDict['Minivan'] = [155.,1520.] ;\n",
    "ProbDict['SUV']     = [1095.,7463.];\n",
    "ProbDict['Truck']   = [1651.,11932.];"
   ]
  },
  {
   "cell_type": "code",
   "execution_count": 8,
   "metadata": {},
   "outputs": [
    {
     "name": "stdout",
     "output_type": "stream",
     "text": [
      "z value for Car and Minivan: 2.48\n",
      "z value for Car and SUV: 4.19\n",
      "z value for Car and Truck: 2.96\n",
      "z value for Minivan and SUV: 4.59\n",
      "z value for Minivan and Truck: 3.92\n",
      "z value for SUV and Truck: 1.62\n"
     ]
    }
   ],
   "source": [
    "def calculateZ(ProbDict,Vehicle1,Vehicle2):\n",
    "    #Takes the total sample size of two distributions and number of 'favorable' cases here the Loss and returns a z-test value\n",
    "    n1=ProbDict[Vehicle1][1]\n",
    "    x1=ProbDict[Vehicle1][0]\n",
    "    n2=ProbDict[Vehicle2][1]\n",
    "    x2=ProbDict[Vehicle2][0]\n",
    "    p1 = x1/n1\n",
    "    p2 = x2/n2\n",
    "    p  = (x1+x2)/(n1+n2)\n",
    "    z  = np.abs(p1-p2)/np.sqrt(p*(1-p)*(1/n1+1/n2))\n",
    "    print('z value for %s and %s: %.2f'%(Vehicle1,Vehicle2,z))\n",
    "    return z\n",
    "usedKeys=[]\n",
    "for key in ProbDict:\n",
    "    usedKeys.append(key)\n",
    "    for key2 in ProbDict:\n",
    "        if key !=key2 and key2 not in usedKeys:\n",
    "            calculateZ(ProbDict,key,key2)\n",
    "    "
   ]
  },
  {
   "cell_type": "markdown",
   "metadata": {},
   "source": [
    "## Applying this z test for all possible combinations all combinations can be said to be statistically significant except for the combination of populations of Trucks and SUVs.  Including the Look-elsewhere effect also can bring back into statistical insignificance the combination of Cars/Minivans"
   ]
  },
  {
   "cell_type": "markdown",
   "metadata": {},
   "source": [
    "# (5) Are hard brakes and hard accelerations equally important in predicting risks?"
   ]
  },
  {
   "cell_type": "code",
   "execution_count": 9,
   "metadata": {},
   "outputs": [
    {
     "name": "stdout",
     "output_type": "stream",
     "text": [
      "Hard Brakes per Loss Event- Mean: 170.24, Stdev: 495.04, Median: 98.00 \n",
      "Hard Accelerations per Loss Event- Mean: 138.25, Stdev: 534.86, Median: 68.00 \n"
     ]
    }
   ],
   "source": [
    "print(\"Hard Brakes per Loss Event- Mean: %.2f, Stdev: %.2f, Median: %.2f \"%(sim_sum_tot[sim_sum_tot['Loss']==1]['HardBrakes'].mean(),sim_sum_tot[sim_sum_tot['Loss']==1]['HardBrakes'].std(), sim_sum_tot[sim_sum_tot['Loss']==1]['HardBrakes'].median()))\n",
    "print(\"Hard Accelerations per Loss Event- Mean: %.2f, Stdev: %.2f, Median: %.2f \"%(sim_sum_tot[sim_sum_tot['Loss']==1]['HardAccelerations'].mean(),sim_sum_tot[sim_sum_tot['Loss']==1]['HardAccelerations'].std(),sim_sum_tot[sim_sum_tot['Loss']==1]['HardAccelerations'].median()))"
   ]
  },
  {
   "cell_type": "code",
   "execution_count": 10,
   "metadata": {},
   "outputs": [
    {
     "name": "stdout",
     "output_type": "stream",
     "text": [
      "Hard Brakes per 0 Loss Event- Mean: 167.44, Stdev: 570.00, Median: 98.00 \n",
      "Hard Accelerations per 0 Loss Event- Mean: 104.53, Stdev: 376.43, Median: 56.00 \n"
     ]
    }
   ],
   "source": [
    "print(\"Hard Brakes per 0 Loss Event- Mean: %.2f, Stdev: %.2f, Median: %.2f \"%(sim_sum_tot[sim_sum_tot['Loss']==0]['HardBrakes'].mean(),sim_sum_tot[sim_sum_tot['Loss']==0]['HardBrakes'].std(), sim_sum_tot[sim_sum_tot['Loss']==0]['HardBrakes'].median()))\n",
    "print(\"Hard Accelerations per 0 Loss Event- Mean: %.2f, Stdev: %.2f, Median: %.2f \"%(sim_sum_tot[sim_sum_tot['Loss']==0]['HardAccelerations'].mean(),sim_sum_tot[sim_sum_tot['Loss']==0]['HardAccelerations'].std(),sim_sum_tot[sim_sum_tot['Loss']==0]['HardAccelerations'].median()))"
   ]
  },
  {
   "cell_type": "code",
   "execution_count": 11,
   "metadata": {},
   "outputs": [
    {
     "data": {
      "text/html": [
       "<div>\n",
       "<style scoped>\n",
       "    .dataframe tbody tr th:only-of-type {\n",
       "        vertical-align: middle;\n",
       "    }\n",
       "\n",
       "    .dataframe tbody tr th {\n",
       "        vertical-align: top;\n",
       "    }\n",
       "\n",
       "    .dataframe thead th {\n",
       "        text-align: right;\n",
       "    }\n",
       "</style>\n",
       "<table border=\"1\" class=\"dataframe\">\n",
       "  <thead>\n",
       "    <tr style=\"text-align: right;\">\n",
       "      <th></th>\n",
       "      <th>Vehicle</th>\n",
       "      <th>Days</th>\n",
       "      <th>Distance</th>\n",
       "      <th>HardBrakes</th>\n",
       "      <th>HardAccelerations</th>\n",
       "      <th>NightTime_Pct</th>\n",
       "      <th>Loss</th>\n",
       "    </tr>\n",
       "  </thead>\n",
       "  <tbody>\n",
       "    <tr>\n",
       "      <th>count</th>\n",
       "      <td>4031.000000</td>\n",
       "      <td>4031.0</td>\n",
       "      <td>4031.000000</td>\n",
       "      <td>4031.000000</td>\n",
       "      <td>4031.000000</td>\n",
       "      <td>4031.000000</td>\n",
       "      <td>4031.0</td>\n",
       "    </tr>\n",
       "    <tr>\n",
       "      <th>mean</th>\n",
       "      <td>15052.420491</td>\n",
       "      <td>365.0</td>\n",
       "      <td>14757.022823</td>\n",
       "      <td>170.241131</td>\n",
       "      <td>138.251054</td>\n",
       "      <td>0.031782</td>\n",
       "      <td>1.0</td>\n",
       "    </tr>\n",
       "    <tr>\n",
       "      <th>std</th>\n",
       "      <td>8614.665175</td>\n",
       "      <td>0.0</td>\n",
       "      <td>4514.713625</td>\n",
       "      <td>495.044167</td>\n",
       "      <td>534.856132</td>\n",
       "      <td>0.054822</td>\n",
       "      <td>0.0</td>\n",
       "    </tr>\n",
       "    <tr>\n",
       "      <th>min</th>\n",
       "      <td>4.000000</td>\n",
       "      <td>365.0</td>\n",
       "      <td>2488.000000</td>\n",
       "      <td>0.000000</td>\n",
       "      <td>0.000000</td>\n",
       "      <td>0.000000</td>\n",
       "      <td>1.0</td>\n",
       "    </tr>\n",
       "    <tr>\n",
       "      <th>25%</th>\n",
       "      <td>7653.500000</td>\n",
       "      <td>365.0</td>\n",
       "      <td>11550.500000</td>\n",
       "      <td>41.000000</td>\n",
       "      <td>25.000000</td>\n",
       "      <td>0.001000</td>\n",
       "      <td>1.0</td>\n",
       "    </tr>\n",
       "    <tr>\n",
       "      <th>50%</th>\n",
       "      <td>15071.000000</td>\n",
       "      <td>365.0</td>\n",
       "      <td>14369.000000</td>\n",
       "      <td>98.000000</td>\n",
       "      <td>68.000000</td>\n",
       "      <td>0.008000</td>\n",
       "      <td>1.0</td>\n",
       "    </tr>\n",
       "    <tr>\n",
       "      <th>75%</th>\n",
       "      <td>22361.000000</td>\n",
       "      <td>365.0</td>\n",
       "      <td>17477.500000</td>\n",
       "      <td>208.000000</td>\n",
       "      <td>159.000000</td>\n",
       "      <td>0.038000</td>\n",
       "      <td>1.0</td>\n",
       "    </tr>\n",
       "    <tr>\n",
       "      <th>max</th>\n",
       "      <td>29981.000000</td>\n",
       "      <td>365.0</td>\n",
       "      <td>34805.000000</td>\n",
       "      <td>16315.000000</td>\n",
       "      <td>24629.000000</td>\n",
       "      <td>0.761000</td>\n",
       "      <td>1.0</td>\n",
       "    </tr>\n",
       "  </tbody>\n",
       "</table>\n",
       "</div>"
      ],
      "text/plain": [
       "            Vehicle    Days      Distance    HardBrakes  HardAccelerations  \\\n",
       "count   4031.000000  4031.0   4031.000000   4031.000000        4031.000000   \n",
       "mean   15052.420491   365.0  14757.022823    170.241131         138.251054   \n",
       "std     8614.665175     0.0   4514.713625    495.044167         534.856132   \n",
       "min        4.000000   365.0   2488.000000      0.000000           0.000000   \n",
       "25%     7653.500000   365.0  11550.500000     41.000000          25.000000   \n",
       "50%    15071.000000   365.0  14369.000000     98.000000          68.000000   \n",
       "75%    22361.000000   365.0  17477.500000    208.000000         159.000000   \n",
       "max    29981.000000   365.0  34805.000000  16315.000000       24629.000000   \n",
       "\n",
       "       NightTime_Pct    Loss  \n",
       "count    4031.000000  4031.0  \n",
       "mean        0.031782     1.0  \n",
       "std         0.054822     0.0  \n",
       "min         0.000000     1.0  \n",
       "25%         0.001000     1.0  \n",
       "50%         0.008000     1.0  \n",
       "75%         0.038000     1.0  \n",
       "max         0.761000     1.0  "
      ]
     },
     "execution_count": 11,
     "metadata": {},
     "output_type": "execute_result"
    }
   ],
   "source": [
    "sim_sum_tot[sim_sum_tot['Loss']==1].describe()"
   ]
  },
  {
   "cell_type": "code",
   "execution_count": 12,
   "metadata": {
    "scrolled": true
   },
   "outputs": [
    {
     "data": {
      "text/html": [
       "<div>\n",
       "<style scoped>\n",
       "    .dataframe tbody tr th:only-of-type {\n",
       "        vertical-align: middle;\n",
       "    }\n",
       "\n",
       "    .dataframe tbody tr th {\n",
       "        vertical-align: top;\n",
       "    }\n",
       "\n",
       "    .dataframe thead th {\n",
       "        text-align: right;\n",
       "    }\n",
       "</style>\n",
       "<table border=\"1\" class=\"dataframe\">\n",
       "  <thead>\n",
       "    <tr style=\"text-align: right;\">\n",
       "      <th></th>\n",
       "      <th>Vehicle</th>\n",
       "      <th>Days</th>\n",
       "      <th>Distance</th>\n",
       "      <th>HardBrakes</th>\n",
       "      <th>HardAccelerations</th>\n",
       "      <th>NightTime_Pct</th>\n",
       "      <th>Loss</th>\n",
       "    </tr>\n",
       "  </thead>\n",
       "  <tbody>\n",
       "    <tr>\n",
       "      <th>count</th>\n",
       "      <td>25969.000000</td>\n",
       "      <td>25969.0</td>\n",
       "      <td>25969.000000</td>\n",
       "      <td>25969.000000</td>\n",
       "      <td>25969.000000</td>\n",
       "      <td>25969.000000</td>\n",
       "      <td>25969.0</td>\n",
       "    </tr>\n",
       "    <tr>\n",
       "      <th>mean</th>\n",
       "      <td>14992.440718</td>\n",
       "      <td>365.0</td>\n",
       "      <td>13440.090762</td>\n",
       "      <td>167.442951</td>\n",
       "      <td>104.528130</td>\n",
       "      <td>0.029429</td>\n",
       "      <td>0.0</td>\n",
       "    </tr>\n",
       "    <tr>\n",
       "      <th>std</th>\n",
       "      <td>8667.612853</td>\n",
       "      <td>0.0</td>\n",
       "      <td>4204.589699</td>\n",
       "      <td>569.999916</td>\n",
       "      <td>376.432155</td>\n",
       "      <td>0.054906</td>\n",
       "      <td>0.0</td>\n",
       "    </tr>\n",
       "    <tr>\n",
       "      <th>min</th>\n",
       "      <td>1.000000</td>\n",
       "      <td>365.0</td>\n",
       "      <td>2911.000000</td>\n",
       "      <td>0.000000</td>\n",
       "      <td>0.000000</td>\n",
       "      <td>0.000000</td>\n",
       "      <td>0.0</td>\n",
       "    </tr>\n",
       "    <tr>\n",
       "      <th>25%</th>\n",
       "      <td>7477.000000</td>\n",
       "      <td>365.0</td>\n",
       "      <td>10405.000000</td>\n",
       "      <td>39.000000</td>\n",
       "      <td>20.000000</td>\n",
       "      <td>0.001000</td>\n",
       "      <td>0.0</td>\n",
       "    </tr>\n",
       "    <tr>\n",
       "      <th>50%</th>\n",
       "      <td>14992.000000</td>\n",
       "      <td>365.0</td>\n",
       "      <td>13039.000000</td>\n",
       "      <td>98.000000</td>\n",
       "      <td>56.000000</td>\n",
       "      <td>0.007000</td>\n",
       "      <td>0.0</td>\n",
       "    </tr>\n",
       "    <tr>\n",
       "      <th>75%</th>\n",
       "      <td>22530.000000</td>\n",
       "      <td>365.0</td>\n",
       "      <td>16028.000000</td>\n",
       "      <td>205.000000</td>\n",
       "      <td>129.000000</td>\n",
       "      <td>0.033000</td>\n",
       "      <td>0.0</td>\n",
       "    </tr>\n",
       "    <tr>\n",
       "      <th>max</th>\n",
       "      <td>30000.000000</td>\n",
       "      <td>365.0</td>\n",
       "      <td>35159.000000</td>\n",
       "      <td>35639.000000</td>\n",
       "      <td>38221.000000</td>\n",
       "      <td>0.888000</td>\n",
       "      <td>0.0</td>\n",
       "    </tr>\n",
       "  </tbody>\n",
       "</table>\n",
       "</div>"
      ],
      "text/plain": [
       "            Vehicle     Days      Distance    HardBrakes  HardAccelerations  \\\n",
       "count  25969.000000  25969.0  25969.000000  25969.000000       25969.000000   \n",
       "mean   14992.440718    365.0  13440.090762    167.442951         104.528130   \n",
       "std     8667.612853      0.0   4204.589699    569.999916         376.432155   \n",
       "min        1.000000    365.0   2911.000000      0.000000           0.000000   \n",
       "25%     7477.000000    365.0  10405.000000     39.000000          20.000000   \n",
       "50%    14992.000000    365.0  13039.000000     98.000000          56.000000   \n",
       "75%    22530.000000    365.0  16028.000000    205.000000         129.000000   \n",
       "max    30000.000000    365.0  35159.000000  35639.000000       38221.000000   \n",
       "\n",
       "       NightTime_Pct     Loss  \n",
       "count   25969.000000  25969.0  \n",
       "mean        0.029429      0.0  \n",
       "std         0.054906      0.0  \n",
       "min         0.000000      0.0  \n",
       "25%         0.001000      0.0  \n",
       "50%         0.007000      0.0  \n",
       "75%         0.033000      0.0  \n",
       "max         0.888000      0.0  "
      ]
     },
     "execution_count": 12,
     "metadata": {},
     "output_type": "execute_result"
    }
   ],
   "source": [
    "sim_sum_tot[sim_sum_tot['Loss']==0].describe()"
   ]
  },
  {
   "cell_type": "markdown",
   "metadata": {},
   "source": [
    "# Model\n",
    "This model will be employeeing a densely connected feed forward neural network for event classification\n",
    "Activation functions: \n",
    "    rectified linear unit (ReLU) activation function such that the gradients of activation functions will not diminish as you increase the depth of the network\n",
    "    sigmoid activation function is applied to the output layer as is standard for classification problems\n",
    "    \n",
    "Loss/Response Function:\n",
    "    Binary Cross Entropy will be used to calculate the predicted probability (probability of correct classification based on the input values)  Larger predicted probabilites correspond to lower response function values for correctly identified events.\n",
    "\n",
    "Optimization Function:\n",
    "    Adam (Adaptive moment estimation) Optimizer which is the standard efficient optimization function that calulates adaptive learning rates for all parameters in the network.  It computes exponentially weighted averages of past gradients and squares of gradients\n",
    "    \n",
    "I'll split up the input dataset into 2 dataframes, X:the useful input values (dropping Loss as it is the classifier, Vehicle which is effectively an index, and Days which is 365 for every row, and y: the truth value of loss prediction\n",
    "\n",
    "First I'll show an extremely naive approach just taking in the disparate raw datasets before moving onto using the same approach with oversampled minority case events using both the SMOTE and ADASYN oversampling techniques."
   ]
  },
  {
   "cell_type": "code",
   "execution_count": 13,
   "metadata": {},
   "outputs": [],
   "source": [
    "sim_sum_tot = sim_sum_tot.replace(\"Car\", 0)\n",
    "sim_sum_tot = sim_sum_tot.replace(\"SUV\", 1)\n",
    "sim_sum_tot = sim_sum_tot.replace(\"Truck\", 2)\n",
    "sim_sum_tot = sim_sum_tot.replace(\"Minivan\", 3)\n",
    "\n",
    "X = sim_sum_tot.drop(['Loss','Vehicle', 'Days'], axis=1)\n",
    "y = sim_sum_tot['Loss']"
   ]
  },
  {
   "cell_type": "code",
   "execution_count": 14,
   "metadata": {},
   "outputs": [],
   "source": [
    "#splitting up the signal and background datasets into training sets, testing sets, and validation sets. \n",
    "#This splits into 64% to be used for training and 16% testing and 16% validation\n",
    "ix = range(y.shape[0]) \n",
    "X_train, X_test, y_train, y_test, ix_train, ix_test = train_test_split(X, y, ix, train_size=0.8)\n",
    "X_train, X_val,y_train, y_val,ix_train, ix_val=train_test_split(X_train,y_train,ix_train,test_size=0.2)"
   ]
  },
  {
   "cell_type": "code",
   "execution_count": 15,
   "metadata": {},
   "outputs": [],
   "source": [
    "#Neural networks prefer inputs that are similar to each other while at the same time as normally distributed as possible\n",
    "#sklearn has a variety of scalers that can be used to perform this transformation, here I use RobustScalar\n",
    "from sklearn.preprocessing import RobustScaler\n",
    "scaler = RobustScaler()\n",
    "X_train = scaler.fit_transform(X_train)\n",
    "X_val = scaler.transform(X_val)\n",
    "X_test = scaler.transform(X_test)"
   ]
  },
  {
   "cell_type": "code",
   "execution_count": 16,
   "metadata": {},
   "outputs": [],
   "source": [
    "#A Function for making various depths and complexities of dense neural networks\n",
    "def DNNmodel(Input_shape=(10,), n_hidden=1, n_nodesHidden=20, dropout=0.2, optimizer='adam'):\n",
    "        inputs=Input(shape=Input_shape)\n",
    "        i=0\n",
    "        if n_hidden>0:\n",
    "                hidden=Dense(n_nodesHidden, activation='relu')(inputs)\n",
    "                hidden=Dropout(dropout)(hidden)\n",
    "                i+=1\n",
    "        while i<n_hidden:\n",
    "                hidden=Dense(n_nodesHidden, activation='relu')(hidden)\n",
    "                hidden=Dropout(dropout)(hidden)\n",
    "                i+=1\n",
    "        outputs = Dense(1,activation='sigmoid')(hidden)\n",
    "        model = Model(inputs,outputs)\n",
    "        model.compile(optimizer=optimizer, loss='binary_crossentropy', metrics=['accuracy'])\n",
    "        model.summary()\n",
    "        return model"
   ]
  },
  {
   "cell_type": "code",
   "execution_count": 17,
   "metadata": {},
   "outputs": [
    {
     "name": "stdout",
     "output_type": "stream",
     "text": [
      "WARNING:tensorflow:From D:\\ProgramData\\Anaconda3\\lib\\site-packages\\tensorflow\\python\\ops\\nn_impl.py:180: add_dispatch_support.<locals>.wrapper (from tensorflow.python.ops.array_ops) is deprecated and will be removed in a future version.\n",
      "Instructions for updating:\n",
      "Use tf.where in 2.0, which has the same broadcast rule as np.where\n",
      "Model: \"model_1\"\n",
      "_________________________________________________________________\n",
      "Layer (type)                 Output Shape              Param #   \n",
      "=================================================================\n",
      "input_1 (InputLayer)         (None, 5)                 0         \n",
      "_________________________________________________________________\n",
      "dense_1 (Dense)              (None, 20)                120       \n",
      "_________________________________________________________________\n",
      "dropout_1 (Dropout)          (None, 20)                0         \n",
      "_________________________________________________________________\n",
      "dense_2 (Dense)              (None, 20)                420       \n",
      "_________________________________________________________________\n",
      "dropout_2 (Dropout)          (None, 20)                0         \n",
      "_________________________________________________________________\n",
      "dense_3 (Dense)              (None, 1)                 21        \n",
      "=================================================================\n",
      "Total params: 561\n",
      "Trainable params: 561\n",
      "Non-trainable params: 0\n",
      "_________________________________________________________________\n"
     ]
    }
   ],
   "source": [
    "model = DNNmodel(Input_shape=(5,),n_hidden=2)"
   ]
  },
  {
   "cell_type": "code",
   "execution_count": 18,
   "metadata": {},
   "outputs": [
    {
     "name": "stdout",
     "output_type": "stream",
     "text": [
      "WARNING:tensorflow:From D:\\ProgramData\\Anaconda3\\lib\\site-packages\\keras\\backend\\tensorflow_backend.py:422: The name tf.global_variables is deprecated. Please use tf.compat.v1.global_variables instead.\n",
      "\n",
      "Train on 19200 samples, validate on 4800 samples\n",
      "Epoch 1/50\n",
      "19200/19200 [==============================] - 2s 91us/step - loss: 0.4288 - accuracy: 0.8557 - val_loss: 0.4065 - val_accuracy: 0.8596\n",
      "Epoch 2/50\n",
      "19200/19200 [==============================] - 2s 81us/step - loss: 0.3985 - accuracy: 0.8672 - val_loss: 0.4040 - val_accuracy: 0.8596\n",
      "Epoch 3/50\n",
      "19200/19200 [==============================] - 2s 80us/step - loss: 0.3937 - accuracy: 0.8672 - val_loss: 0.4047 - val_accuracy: 0.8592\n",
      "Epoch 4/50\n",
      "19200/19200 [==============================] - 1s 78us/step - loss: 0.3916 - accuracy: 0.8673 - val_loss: 0.4064 - val_accuracy: 0.8587\n",
      "Epoch 5/50\n",
      "19200/19200 [==============================] - 2s 80us/step - loss: 0.3903 - accuracy: 0.8672 - val_loss: 0.4019 - val_accuracy: 0.8592\n",
      "Epoch 6/50\n",
      "19200/19200 [==============================] - 2s 80us/step - loss: 0.3879 - accuracy: 0.8672 - val_loss: 0.4006 - val_accuracy: 0.8596\n",
      "Epoch 7/50\n",
      "19200/19200 [==============================] - 2s 79us/step - loss: 0.3883 - accuracy: 0.8673 - val_loss: 0.4013 - val_accuracy: 0.8596\n",
      "Epoch 8/50\n",
      "19200/19200 [==============================] - 2s 80us/step - loss: 0.3873 - accuracy: 0.8673 - val_loss: 0.4035 - val_accuracy: 0.8592\n",
      "Epoch 9/50\n",
      "19200/19200 [==============================] - 2s 81us/step - loss: 0.3867 - accuracy: 0.8674 - val_loss: 0.4025 - val_accuracy: 0.8592\n",
      "Epoch 10/50\n",
      "19200/19200 [==============================] - 2s 81us/step - loss: 0.3870 - accuracy: 0.8673 - val_loss: 0.4007 - val_accuracy: 0.8596\n",
      "Epoch 11/50\n",
      "19200/19200 [==============================] - 2s 81us/step - loss: 0.3865 - accuracy: 0.8674 - val_loss: 0.4025 - val_accuracy: 0.8592\n",
      "Epoch 12/50\n",
      "19200/19200 [==============================] - 2s 79us/step - loss: 0.3864 - accuracy: 0.8674 - val_loss: 0.4013 - val_accuracy: 0.8594\n",
      "Epoch 13/50\n",
      "19200/19200 [==============================] - 2s 81us/step - loss: 0.3865 - accuracy: 0.8674 - val_loss: 0.4011 - val_accuracy: 0.8596\n",
      "Epoch 14/50\n",
      "19200/19200 [==============================] - 2s 81us/step - loss: 0.3863 - accuracy: 0.8672 - val_loss: 0.4012 - val_accuracy: 0.8596\n",
      "Epoch 15/50\n",
      "19200/19200 [==============================] - 2s 79us/step - loss: 0.3860 - accuracy: 0.8674 - val_loss: 0.4005 - val_accuracy: 0.8596\n",
      "Epoch 16/50\n",
      "19200/19200 [==============================] - 2s 79us/step - loss: 0.3860 - accuracy: 0.8673 - val_loss: 0.4010 - val_accuracy: 0.8596\n",
      "Epoch 17/50\n",
      "19200/19200 [==============================] - 2s 80us/step - loss: 0.3862 - accuracy: 0.8672 - val_loss: 0.4007 - val_accuracy: 0.8596\n",
      "Epoch 18/50\n",
      "19200/19200 [==============================] - 2s 79us/step - loss: 0.3852 - accuracy: 0.8672 - val_loss: 0.4008 - val_accuracy: 0.8594\n",
      "Epoch 19/50\n",
      "19200/19200 [==============================] - 2s 80us/step - loss: 0.3854 - accuracy: 0.8674 - val_loss: 0.4013 - val_accuracy: 0.8594\n",
      "Epoch 20/50\n",
      "19200/19200 [==============================] - 2s 81us/step - loss: 0.3855 - accuracy: 0.8672 - val_loss: 0.4009 - val_accuracy: 0.8596\n",
      "Epoch 21/50\n",
      "19200/19200 [==============================] - 2s 80us/step - loss: 0.3860 - accuracy: 0.8672 - val_loss: 0.4009 - val_accuracy: 0.8596\n",
      "Epoch 22/50\n",
      "19200/19200 [==============================] - 2s 81us/step - loss: 0.3854 - accuracy: 0.8673 - val_loss: 0.4015 - val_accuracy: 0.8596\n",
      "Epoch 23/50\n",
      "19200/19200 [==============================] - 2s 80us/step - loss: 0.3852 - accuracy: 0.8673 - val_loss: 0.4043 - val_accuracy: 0.8592\n",
      "Epoch 24/50\n",
      "19200/19200 [==============================] - 2s 80us/step - loss: 0.3849 - accuracy: 0.8673 - val_loss: 0.4014 - val_accuracy: 0.8594\n",
      "Epoch 25/50\n",
      "19200/19200 [==============================] - 2s 80us/step - loss: 0.3852 - accuracy: 0.8673 - val_loss: 0.4011 - val_accuracy: 0.8596\n",
      "Epoch 00025: early stopping\n"
     ]
    },
    {
     "data": {
      "text/plain": [
       "<keras.callbacks.callbacks.History at 0x1f85d81ef88>"
      ]
     },
     "execution_count": 18,
     "metadata": {},
     "output_type": "execute_result"
    }
   ],
   "source": [
    "model.fit(X_train,y_train,epochs=50,callbacks=[EarlyStopping(verbose=True,patience=10,monitor='val_loss')], validation_data=(X_val, y_val),batch_size=10)"
   ]
  },
  {
   "cell_type": "code",
   "execution_count": 19,
   "metadata": {},
   "outputs": [
    {
     "name": "stdout",
     "output_type": "stream",
     "text": [
      "history keys:  dict_keys(['val_loss', 'val_accuracy', 'loss', 'accuracy'])\n"
     ]
    }
   ],
   "source": [
    "history = model.history.history\n",
    "print(\"history keys: \", history.keys())"
   ]
  },
  {
   "cell_type": "code",
   "execution_count": 20,
   "metadata": {},
   "outputs": [
    {
     "data": {
      "text/plain": [
       "<matplotlib.legend.Legend at 0x1f85d93c648>"
      ]
     },
     "execution_count": 20,
     "metadata": {},
     "output_type": "execute_result"
    },
    {
     "data": {
      "image/png": "[encoded data removed]",
      "text/plain": [
       "<Figure size 432x288 with 1 Axes>"
      ]
     },
     "metadata": {
      "needs_background": "light"
     },
     "output_type": "display_data"
    }
   ],
   "source": [
    "#Accuracy plot\n",
    "plt.plot(100 * np.array(history['accuracy']), label='training')\n",
    "plt.plot(100 * np.array(history['val_accuracy']), label='validation')\n",
    "plt.xlim(0)\n",
    "plt.xlabel('epoch')\n",
    "plt.ylabel('accuracy %')\n",
    "plt.legend(loc='lower right', fontsize=20)\n"
   ]
  },
  {
   "cell_type": "code",
   "execution_count": 21,
   "metadata": {},
   "outputs": [
    {
     "name": "stdout",
     "output_type": "stream",
     "text": [
      "6000/6000 [==============================] - 0s 5us/step\n"
     ]
    }
   ],
   "source": [
    "yhat = model.predict(X_test, verbose = True, batch_size = 512) "
   ]
  },
  {
   "cell_type": "code",
   "execution_count": 22,
   "metadata": {},
   "outputs": [],
   "source": [
    "yhat_cls = np.argmax(yhat, axis=1)"
   ]
  },
  {
   "cell_type": "code",
   "execution_count": 23,
   "metadata": {},
   "outputs": [
    {
     "data": {
      "text/plain": [
       "<matplotlib.legend.Legend at 0x1f85f12aac8>"
      ]
     },
     "execution_count": 23,
     "metadata": {},
     "output_type": "execute_result"
    },
    {
     "data": {
      "image/png": "[encoded data removed]",
      "text/plain": [
       "<Figure size 432x288 with 1 Axes>"
      ]
     },
     "metadata": {
      "needs_background": "light"
     },
     "output_type": "display_data"
    }
   ],
   "source": [
    "bins = np.linspace(0, 1, 20)\n",
    "_ = plt.hist(yhat[y_test==1], histtype='stepfilled', alpha=0.5, color='red', label=r\"Loss\", bins=bins)\n",
    "_ = plt.hist(yhat[y_test==0], histtype='stepfilled', alpha=0.5, color='blue', label=r'NoLoss', bins=bins)\n",
    "plt.axvline(x=0.5, linestyle='--')\n",
    "plt.legend(loc='upper right', fontsize=20)"
   ]
  },
  {
   "cell_type": "code",
   "execution_count": 24,
   "metadata": {},
   "outputs": [
    {
     "name": "stdout",
     "output_type": "stream",
     "text": [
      "Loss Event Accuracy: 0.0%\n"
     ]
    }
   ],
   "source": [
    "LossAcc = yhat[y_test==1].round().sum()/y_test.sum()\n",
    "print(\"Loss Event Accuracy: %.1f%%\" %(LossAcc*100))"
   ]
  },
  {
   "cell_type": "markdown",
   "metadata": {},
   "source": [
    "It is obvious from this that the neural network, at least with the sample given is not sufficient without taking into consideration the disparate nature of the signal/background like events. Even though there is clearly a shape difference in the distributions all events are classified as 'No Loss' because of the large pull from the significant number of 'No Loss' events compared to 'Loss' Events.  The network accuracy goes to the percentage of events in the majority case while classifying all signal events incorrectly. To account for this I will preform oversampling\n",
    "\n",
    "# Resampling, NN part 2\n",
    "Let's try to do some resampling using Adaptive Synthetic Sampling, focuses on data that are hard to learn, fills in more edge cases than the next technique (SMOTE) which fills more linearlly between events.\n",
    "https://imbalanced-learn.readthedocs.io/en/stable/generated/imblearn.over_sampling.ADASYN.html"
   ]
  },
  {
   "cell_type": "code",
   "execution_count": 25,
   "metadata": {},
   "outputs": [
    {
     "data": {
      "text/plain": [
       "array([16654, 16012], dtype=int64)"
      ]
     },
     "execution_count": 25,
     "metadata": {},
     "output_type": "execute_result"
    }
   ],
   "source": [
    "#Upscale the minority class such that each class has roughly equal representation\n",
    "from imblearn.over_sampling import ADASYN\n",
    "adasyn = ADASYN(sampling_strategy=\"auto\")\n",
    "X_train_adasyn, y_train_adasyn = adasyn.fit_resample(X_train, y_train)\n",
    "np.bincount(y_train_adasyn)"
   ]
  },
  {
   "cell_type": "code",
   "execution_count": 26,
   "metadata": {},
   "outputs": [
    {
     "name": "stdout",
     "output_type": "stream",
     "text": [
      "Model: \"model_2\"\n",
      "_________________________________________________________________\n",
      "Layer (type)                 Output Shape              Param #   \n",
      "=================================================================\n",
      "input_2 (InputLayer)         (None, 5)                 0         \n",
      "_________________________________________________________________\n",
      "dense_4 (Dense)              (None, 20)                120       \n",
      "_________________________________________________________________\n",
      "dropout_3 (Dropout)          (None, 20)                0         \n",
      "_________________________________________________________________\n",
      "dense_5 (Dense)              (None, 20)                420       \n",
      "_________________________________________________________________\n",
      "dropout_4 (Dropout)          (None, 20)                0         \n",
      "_________________________________________________________________\n",
      "dense_6 (Dense)              (None, 20)                420       \n",
      "_________________________________________________________________\n",
      "dropout_5 (Dropout)          (None, 20)                0         \n",
      "_________________________________________________________________\n",
      "dense_7 (Dense)              (None, 1)                 21        \n",
      "=================================================================\n",
      "Total params: 981\n",
      "Trainable params: 981\n",
      "Non-trainable params: 0\n",
      "_________________________________________________________________\n",
      "Train on 32666 samples, validate on 4800 samples\n",
      "Epoch 1/100\n",
      "32666/32666 [==============================] - 3s 89us/step - loss: 0.6894 - accuracy: 0.5421 - val_loss: 0.6942 - val_accuracy: 0.5115\n",
      "Epoch 2/100\n",
      "32666/32666 [==============================] - 3s 82us/step - loss: 0.6862 - accuracy: 0.5563 - val_loss: 0.6755 - val_accuracy: 0.5340\n",
      "Epoch 3/100\n",
      "32666/32666 [==============================] - 3s 83us/step - loss: 0.6833 - accuracy: 0.5606 - val_loss: 0.6778 - val_accuracy: 0.5725\n",
      "Epoch 4/100\n",
      "32666/32666 [==============================] - 3s 84us/step - loss: 0.6810 - accuracy: 0.5615 - val_loss: 0.7095 - val_accuracy: 0.4183\n",
      "Epoch 5/100\n",
      "32666/32666 [==============================] - 3s 84us/step - loss: 0.6807 - accuracy: 0.5642 - val_loss: 0.6559 - val_accuracy: 0.5675\n",
      "Epoch 6/100\n",
      "32666/32666 [==============================] - 3s 85us/step - loss: 0.6787 - accuracy: 0.5671 - val_loss: 0.6672 - val_accuracy: 0.5325\n",
      "Epoch 7/100\n",
      "32666/32666 [==============================] - 3s 84us/step - loss: 0.6787 - accuracy: 0.5679 - val_loss: 0.6871 - val_accuracy: 0.4877\n",
      "Epoch 8/100\n",
      "32666/32666 [==============================] - 3s 85us/step - loss: 0.6775 - accuracy: 0.5662 - val_loss: 0.6956 - val_accuracy: 0.4573\n",
      "Epoch 9/100\n",
      "32666/32666 [==============================] - 3s 85us/step - loss: 0.6778 - accuracy: 0.5674 - val_loss: 0.6768 - val_accuracy: 0.5004\n",
      "Epoch 10/100\n",
      "32666/32666 [==============================] - 3s 84us/step - loss: 0.6769 - accuracy: 0.5700 - val_loss: 0.6795 - val_accuracy: 0.4946\n",
      "Epoch 11/100\n",
      "32666/32666 [==============================] - 3s 84us/step - loss: 0.6765 - accuracy: 0.5708 - val_loss: 0.6585 - val_accuracy: 0.5154\n",
      "Epoch 12/100\n",
      "32666/32666 [==============================] - 3s 84us/step - loss: 0.6765 - accuracy: 0.5713 - val_loss: 0.6599 - val_accuracy: 0.5650\n",
      "Epoch 13/100\n",
      "32666/32666 [==============================] - 3s 85us/step - loss: 0.6762 - accuracy: 0.5703 - val_loss: 0.6504 - val_accuracy: 0.5660\n",
      "Epoch 14/100\n",
      "32666/32666 [==============================] - 3s 84us/step - loss: 0.6765 - accuracy: 0.5685 - val_loss: 0.6909 - val_accuracy: 0.4894\n",
      "Epoch 15/100\n",
      "32666/32666 [==============================] - 3s 82us/step - loss: 0.6750 - accuracy: 0.5754 - val_loss: 0.6660 - val_accuracy: 0.5517\n",
      "Epoch 16/100\n",
      "32666/32666 [==============================] - 3s 84us/step - loss: 0.6745 - accuracy: 0.5764 - val_loss: 0.6779 - val_accuracy: 0.5046\n",
      "Epoch 17/100\n",
      "32666/32666 [==============================] - 3s 84us/step - loss: 0.6745 - accuracy: 0.5740 - val_loss: 0.6692 - val_accuracy: 0.5317\n",
      "Epoch 18/100\n",
      "32666/32666 [==============================] - 3s 84us/step - loss: 0.6751 - accuracy: 0.5749 - val_loss: 0.6677 - val_accuracy: 0.5179\n",
      "Epoch 19/100\n",
      "32666/32666 [==============================] - 3s 81us/step - loss: 0.6744 - accuracy: 0.5759 - val_loss: 0.6776 - val_accuracy: 0.5021\n",
      "Epoch 20/100\n",
      "32666/32666 [==============================] - 3s 84us/step - loss: 0.6734 - accuracy: 0.5766 - val_loss: 0.6901 - val_accuracy: 0.4867\n",
      "Epoch 21/100\n",
      "32666/32666 [==============================] - 3s 83us/step - loss: 0.6737 - accuracy: 0.5746 - val_loss: 0.6922 - val_accuracy: 0.4996\n",
      "Epoch 22/100\n",
      "32666/32666 [==============================] - 3s 84us/step - loss: 0.6729 - accuracy: 0.5781 - val_loss: 0.6765 - val_accuracy: 0.5129\n",
      "Epoch 23/100\n",
      "32666/32666 [==============================] - 3s 86us/step - loss: 0.6734 - accuracy: 0.5763 - val_loss: 0.6725 - val_accuracy: 0.5340\n",
      "Epoch 24/100\n",
      "32666/32666 [==============================] - 3s 84us/step - loss: 0.6727 - accuracy: 0.5788 - val_loss: 0.6699 - val_accuracy: 0.5150\n",
      "Epoch 25/100\n",
      "32666/32666 [==============================] - 3s 84us/step - loss: 0.6738 - accuracy: 0.5792 - val_loss: 0.6653 - val_accuracy: 0.5304\n",
      "Epoch 26/100\n",
      "32666/32666 [==============================] - 3s 83us/step - loss: 0.6720 - accuracy: 0.5824 - val_loss: 0.6499 - val_accuracy: 0.5792\n",
      "Epoch 27/100\n",
      "32666/32666 [==============================] - 3s 80us/step - loss: 0.6724 - accuracy: 0.5806 - val_loss: 0.6706 - val_accuracy: 0.5494\n",
      "Epoch 28/100\n",
      "32666/32666 [==============================] - 3s 80us/step - loss: 0.6720 - accuracy: 0.5788 - val_loss: 0.6637 - val_accuracy: 0.5517\n",
      "Epoch 29/100\n",
      "32666/32666 [==============================] - 3s 82us/step - loss: 0.6720 - accuracy: 0.5773 - val_loss: 0.6686 - val_accuracy: 0.5050\n",
      "Epoch 30/100\n",
      "32666/32666 [==============================] - 3s 82us/step - loss: 0.6706 - accuracy: 0.5818 - val_loss: 0.6779 - val_accuracy: 0.5185\n",
      "Epoch 31/100\n",
      "32666/32666 [==============================] - 3s 82us/step - loss: 0.6724 - accuracy: 0.5833 - val_loss: 0.6856 - val_accuracy: 0.5117\n",
      "Epoch 32/100\n",
      "32666/32666 [==============================] - 3s 82us/step - loss: 0.6718 - accuracy: 0.5826 - val_loss: 0.6575 - val_accuracy: 0.5537\n",
      "Epoch 33/100\n",
      "32666/32666 [==============================] - 3s 84us/step - loss: 0.6706 - accuracy: 0.5815 - val_loss: 0.6630 - val_accuracy: 0.5600\n",
      "Epoch 34/100\n",
      "32666/32666 [==============================] - 3s 93us/step - loss: 0.6704 - accuracy: 0.5824 - val_loss: 0.6683 - val_accuracy: 0.5477\n",
      "Epoch 35/100\n",
      "32666/32666 [==============================] - 3s 86us/step - loss: 0.6702 - accuracy: 0.5826 - val_loss: 0.6962 - val_accuracy: 0.4998\n",
      "Epoch 36/100\n",
      "32666/32666 [==============================] - 3s 89us/step - loss: 0.6694 - accuracy: 0.5836 - val_loss: 0.6746 - val_accuracy: 0.5542\n",
      "Epoch 37/100\n",
      "32666/32666 [==============================] - 3s 86us/step - loss: 0.6709 - accuracy: 0.5840 - val_loss: 0.7053 - val_accuracy: 0.4810\n",
      "Epoch 38/100\n",
      "32666/32666 [==============================] - 3s 88us/step - loss: 0.6699 - accuracy: 0.5819 - val_loss: 0.6432 - val_accuracy: 0.5873\n",
      "Epoch 39/100\n",
      "32666/32666 [==============================] - 3s 86us/step - loss: 0.6686 - accuracy: 0.5860 - val_loss: 0.6801 - val_accuracy: 0.5129\n",
      "Epoch 40/100\n",
      "32666/32666 [==============================] - 3s 87us/step - loss: 0.6684 - accuracy: 0.5856 - val_loss: 0.6781 - val_accuracy: 0.5206\n",
      "Epoch 41/100\n",
      "32666/32666 [==============================] - 3s 89us/step - loss: 0.6678 - accuracy: 0.5861 - val_loss: 0.6907 - val_accuracy: 0.5140\n",
      "Epoch 42/100\n",
      "32666/32666 [==============================] - 3s 83us/step - loss: 0.6683 - accuracy: 0.5853 - val_loss: 0.6729 - val_accuracy: 0.5469\n",
      "Epoch 43/100\n",
      "32666/32666 [==============================] - 3s 85us/step - loss: 0.6678 - accuracy: 0.5893 - val_loss: 0.6903 - val_accuracy: 0.5013\n",
      "Epoch 44/100\n",
      "32666/32666 [==============================] - 3s 85us/step - loss: 0.6684 - accuracy: 0.5857 - val_loss: 0.6735 - val_accuracy: 0.5615\n",
      "Epoch 45/100\n",
      "32666/32666 [==============================] - 3s 83us/step - loss: 0.6683 - accuracy: 0.5855 - val_loss: 0.6711 - val_accuracy: 0.5419\n",
      "Epoch 46/100\n"
     ]
    },
    {
     "name": "stdout",
     "output_type": "stream",
     "text": [
      "32666/32666 [==============================] - 3s 82us/step - loss: 0.6688 - accuracy: 0.5829 - val_loss: 0.7106 - val_accuracy: 0.4421\n",
      "Epoch 47/100\n",
      "32666/32666 [==============================] - 3s 83us/step - loss: 0.6675 - accuracy: 0.5893 - val_loss: 0.6726 - val_accuracy: 0.5335\n",
      "Epoch 48/100\n",
      "32666/32666 [==============================] - 3s 83us/step - loss: 0.6662 - accuracy: 0.5886 - val_loss: 0.6720 - val_accuracy: 0.5479\n",
      "Epoch 49/100\n",
      "32666/32666 [==============================] - 3s 82us/step - loss: 0.6668 - accuracy: 0.5871 - val_loss: 0.6589 - val_accuracy: 0.5533\n",
      "Epoch 50/100\n",
      "32666/32666 [==============================] - 3s 83us/step - loss: 0.6677 - accuracy: 0.5870 - val_loss: 0.6657 - val_accuracy: 0.5710\n",
      "Epoch 51/100\n",
      "32666/32666 [==============================] - 3s 81us/step - loss: 0.6679 - accuracy: 0.5872 - val_loss: 0.6661 - val_accuracy: 0.5638\n",
      "Epoch 52/100\n",
      "32666/32666 [==============================] - 3s 85us/step - loss: 0.6675 - accuracy: 0.5854 - val_loss: 0.7015 - val_accuracy: 0.5092\n",
      "Epoch 53/100\n",
      "32666/32666 [==============================] - 3s 88us/step - loss: 0.6658 - accuracy: 0.5891 - val_loss: 0.6891 - val_accuracy: 0.5215\n",
      "Epoch 54/100\n",
      "32666/32666 [==============================] - 3s 84us/step - loss: 0.6671 - accuracy: 0.5880 - val_loss: 0.6542 - val_accuracy: 0.5800\n",
      "Epoch 55/100\n",
      "32666/32666 [==============================] - 3s 85us/step - loss: 0.6671 - accuracy: 0.5880 - val_loss: 0.6848 - val_accuracy: 0.5433\n",
      "Epoch 56/100\n",
      "32666/32666 [==============================] - 3s 84us/step - loss: 0.6673 - accuracy: 0.5897 - val_loss: 0.6608 - val_accuracy: 0.5688\n",
      "Epoch 57/100\n",
      "32666/32666 [==============================] - 3s 84us/step - loss: 0.6673 - accuracy: 0.5899 - val_loss: 0.6810 - val_accuracy: 0.5167\n",
      "Epoch 58/100\n",
      "32666/32666 [==============================] - 3s 84us/step - loss: 0.6665 - accuracy: 0.5877 - val_loss: 0.6685 - val_accuracy: 0.5681\n",
      "Epoch 00058: early stopping\n"
     ]
    },
    {
     "data": {
      "text/plain": [
       "<keras.callbacks.callbacks.History at 0x1f8609f8c48>"
      ]
     },
     "execution_count": 26,
     "metadata": {},
     "output_type": "execute_result"
    }
   ],
   "source": [
    "model = DNNmodel(Input_shape=(5,),n_hidden=3);\n",
    "model.fit(X_train_adasyn,y_train_adasyn,epochs=100,callbacks=[EarlyStopping(verbose=True,patience=20,monitor='val_loss')], validation_data=(X_val, y_val),batch_size=10)"
   ]
  },
  {
   "cell_type": "code",
   "execution_count": 27,
   "metadata": {},
   "outputs": [
    {
     "name": "stdout",
     "output_type": "stream",
     "text": [
      "history keys:  dict_keys(['val_loss', 'val_accuracy', 'loss', 'accuracy'])\n"
     ]
    },
    {
     "data": {
      "text/plain": [
       "<matplotlib.legend.Legend at 0x1f86214db48>"
      ]
     },
     "execution_count": 27,
     "metadata": {},
     "output_type": "execute_result"
    },
    {
     "data": {
      "image/png": "[encoded data removed]",
      "text/plain": [
       "<Figure size 432x288 with 1 Axes>"
      ]
     },
     "metadata": {
      "needs_background": "light"
     },
     "output_type": "display_data"
    }
   ],
   "source": [
    "history = model.history.history\n",
    "print(\"history keys: \", history.keys())\n",
    "#Accuracy plot\n",
    "plt.plot(100 * np.array(history['accuracy']), label='training')\n",
    "plt.plot(100 * np.array(history['val_accuracy']), label='validation')\n",
    "plt.xlim(0)\n",
    "plt.xlabel('epoch')\n",
    "plt.ylabel('accuracy %')\n",
    "plt.legend(loc='lower right', fontsize=20)"
   ]
  },
  {
   "cell_type": "code",
   "execution_count": 28,
   "metadata": {},
   "outputs": [
    {
     "name": "stdout",
     "output_type": "stream",
     "text": [
      "6000/6000 [==============================] - 0s 10us/step\n"
     ]
    },
    {
     "data": {
      "text/plain": [
       "<matplotlib.lines.Line2D at 0x1f86113c5c8>"
      ]
     },
     "execution_count": 28,
     "metadata": {},
     "output_type": "execute_result"
    },
    {
     "data": {
      "image/png": "[encoded data removed]",
      "text/plain": [
       "<Figure size 432x288 with 1 Axes>"
      ]
     },
     "metadata": {
      "needs_background": "light"
     },
     "output_type": "display_data"
    }
   ],
   "source": [
    "yhat = model.predict(X_test, verbose = True, batch_size = 512) \n",
    "yhat_cls = np.argmax(yhat, axis=1)\n",
    "sum(yhat_cls)\n",
    "bins = np.linspace(0, 1, 20)\n",
    "_ = plt.hist(yhat[y_test==1], histtype='stepfilled', alpha=0.5, color='red', label=r\"Signal\", bins=bins)\n",
    "_ = plt.hist(yhat[y_test==0], histtype='stepfilled', alpha=0.5, color='blue', label=r'Background', bins=bins)\n",
    "plt.axvline(x=0.5,linestyle='--')"
   ]
  },
  {
   "cell_type": "code",
   "execution_count": 29,
   "metadata": {},
   "outputs": [
    {
     "name": "stdout",
     "output_type": "stream",
     "text": [
      "Loss Events: mean: 0.497, std: 0.097\n",
      "NoLoss Events: mean: 0.472, std: 0.103\n"
     ]
    }
   ],
   "source": [
    "print(\"Loss Events: mean: %.3f, std: %.3f\" %(yhat[y_test==1].mean(),yhat[y_test==1].std()))\n",
    "print(\"NoLoss Events: mean: %.3f, std: %.3f\" %(yhat[y_test==0].mean(),yhat[y_test==0].std()))"
   ]
  },
  {
   "cell_type": "code",
   "execution_count": 30,
   "metadata": {},
   "outputs": [
    {
     "name": "stdout",
     "output_type": "stream",
     "text": [
      "Loss Event Accuracy: 51.9%\n"
     ]
    }
   ],
   "source": [
    "LossAcc = yhat[y_test==1].round().sum()/y_test.sum()\n",
    "print(\"Loss Event Accuracy: %.1f%%\" %(LossAcc*100))"
   ]
  },
  {
   "cell_type": "markdown",
   "metadata": {},
   "source": [
    "# Resampling using SMOTE\n",
    "Synthetic minority oversampling technique (Smote) generates synthetic data that is similar to, but not exactly like the minority class using nearest-neightbors approach to fill in space between neighbors."
   ]
  },
  {
   "cell_type": "code",
   "execution_count": 31,
   "metadata": {},
   "outputs": [
    {
     "data": {
      "text/plain": [
       "array([16654, 16654], dtype=int64)"
      ]
     },
     "execution_count": 31,
     "metadata": {},
     "output_type": "execute_result"
    }
   ],
   "source": [
    "from imblearn.over_sampling import SMOTE\n",
    "smote = SMOTE(sampling_strategy=\"auto\")\n",
    "X_train_smote, y_train_smote = smote.fit_resample(X_train, y_train)\n",
    "np.bincount(y_train_smote)"
   ]
  },
  {
   "cell_type": "code",
   "execution_count": 32,
   "metadata": {},
   "outputs": [
    {
     "name": "stdout",
     "output_type": "stream",
     "text": [
      "Model: \"model_3\"\n",
      "_________________________________________________________________\n",
      "Layer (type)                 Output Shape              Param #   \n",
      "=================================================================\n",
      "input_3 (InputLayer)         (None, 5)                 0         \n",
      "_________________________________________________________________\n",
      "dense_8 (Dense)              (None, 20)                120       \n",
      "_________________________________________________________________\n",
      "dropout_6 (Dropout)          (None, 20)                0         \n",
      "_________________________________________________________________\n",
      "dense_9 (Dense)              (None, 20)                420       \n",
      "_________________________________________________________________\n",
      "dropout_7 (Dropout)          (None, 20)                0         \n",
      "_________________________________________________________________\n",
      "dense_10 (Dense)             (None, 20)                420       \n",
      "_________________________________________________________________\n",
      "dropout_8 (Dropout)          (None, 20)                0         \n",
      "_________________________________________________________________\n",
      "dense_11 (Dense)             (None, 1)                 21        \n",
      "=================================================================\n",
      "Total params: 981\n",
      "Trainable params: 981\n",
      "Non-trainable params: 0\n",
      "_________________________________________________________________\n",
      "Train on 33308 samples, validate on 4800 samples\n",
      "Epoch 1/100\n",
      "33308/33308 [==============================] - 3s 92us/step - loss: 0.6907 - accuracy: 0.5424 - val_loss: 0.6987 - val_accuracy: 0.5500\n",
      "Epoch 2/100\n",
      "33308/33308 [==============================] - 3s 86us/step - loss: 0.6837 - accuracy: 0.5579 - val_loss: 0.6825 - val_accuracy: 0.5835\n",
      "Epoch 3/100\n",
      "33308/33308 [==============================] - 3s 87us/step - loss: 0.6824 - accuracy: 0.5642 - val_loss: 0.6532 - val_accuracy: 0.5700\n",
      "Epoch 4/100\n",
      "33308/33308 [==============================] - 3s 86us/step - loss: 0.6811 - accuracy: 0.5646 - val_loss: 0.6870 - val_accuracy: 0.5125\n",
      "Epoch 5/100\n",
      "33308/33308 [==============================] - 3s 86us/step - loss: 0.6801 - accuracy: 0.5700 - val_loss: 0.6850 - val_accuracy: 0.5444\n",
      "Epoch 6/100\n",
      "33308/33308 [==============================] - 3s 86us/step - loss: 0.6792 - accuracy: 0.5675 - val_loss: 0.6739 - val_accuracy: 0.5854\n",
      "Epoch 7/100\n",
      "33308/33308 [==============================] - 3s 88us/step - loss: 0.6775 - accuracy: 0.5723 - val_loss: 0.6635 - val_accuracy: 0.5919\n",
      "Epoch 8/100\n",
      "33308/33308 [==============================] - 3s 90us/step - loss: 0.6765 - accuracy: 0.5726 - val_loss: 0.6780 - val_accuracy: 0.5410\n",
      "Epoch 9/100\n",
      "33308/33308 [==============================] - 3s 88us/step - loss: 0.6765 - accuracy: 0.5740 - val_loss: 0.6969 - val_accuracy: 0.5194\n",
      "Epoch 10/100\n",
      "33308/33308 [==============================] - 3s 90us/step - loss: 0.6764 - accuracy: 0.5759 - val_loss: 0.6859 - val_accuracy: 0.5206\n",
      "Epoch 11/100\n",
      "33308/33308 [==============================] - 3s 88us/step - loss: 0.6755 - accuracy: 0.5773 - val_loss: 0.6746 - val_accuracy: 0.5656\n",
      "Epoch 12/100\n",
      "33308/33308 [==============================] - 3s 89us/step - loss: 0.6746 - accuracy: 0.5749 - val_loss: 0.6608 - val_accuracy: 0.6100\n",
      "Epoch 13/100\n",
      "33308/33308 [==============================] - 3s 88us/step - loss: 0.6741 - accuracy: 0.5780 - val_loss: 0.6846 - val_accuracy: 0.5213\n",
      "Epoch 14/100\n",
      "33308/33308 [==============================] - 3s 90us/step - loss: 0.6740 - accuracy: 0.5792 - val_loss: 0.6931 - val_accuracy: 0.5206\n",
      "Epoch 15/100\n",
      "33308/33308 [==============================] - 3s 88us/step - loss: 0.6735 - accuracy: 0.5805 - val_loss: 0.6931 - val_accuracy: 0.5342\n",
      "Epoch 16/100\n",
      "33308/33308 [==============================] - 3s 87us/step - loss: 0.6732 - accuracy: 0.5825 - val_loss: 0.6779 - val_accuracy: 0.5458\n",
      "Epoch 17/100\n",
      "33308/33308 [==============================] - 3s 90us/step - loss: 0.6721 - accuracy: 0.5820 - val_loss: 0.6985 - val_accuracy: 0.5038\n",
      "Epoch 18/100\n",
      "33308/33308 [==============================] - 3s 89us/step - loss: 0.6717 - accuracy: 0.5832 - val_loss: 0.6818 - val_accuracy: 0.5308\n",
      "Epoch 19/100\n",
      "33308/33308 [==============================] - 3s 88us/step - loss: 0.6718 - accuracy: 0.5809 - val_loss: 0.6806 - val_accuracy: 0.5717\n",
      "Epoch 20/100\n",
      "33308/33308 [==============================] - 3s 84us/step - loss: 0.6710 - accuracy: 0.5822 - val_loss: 0.7166 - val_accuracy: 0.4765\n",
      "Epoch 21/100\n",
      "33308/33308 [==============================] - 3s 87us/step - loss: 0.6724 - accuracy: 0.5796 - val_loss: 0.7192 - val_accuracy: 0.4787\n",
      "Epoch 22/100\n",
      "33308/33308 [==============================] - 3s 86us/step - loss: 0.6698 - accuracy: 0.5871 - val_loss: 0.7129 - val_accuracy: 0.4856\n",
      "Epoch 23/100\n",
      "33308/33308 [==============================] - 3s 85us/step - loss: 0.6703 - accuracy: 0.5848 - val_loss: 0.6597 - val_accuracy: 0.5840\n",
      "Epoch 00023: early stopping\n"
     ]
    },
    {
     "data": {
      "text/plain": [
       "<keras.callbacks.callbacks.History at 0x1f8624d7e48>"
      ]
     },
     "execution_count": 32,
     "metadata": {},
     "output_type": "execute_result"
    }
   ],
   "source": [
    "model = DNNmodel(Input_shape=(5,),n_hidden=3);\n",
    "model.fit(X_train_smote,y_train_smote,epochs=100,callbacks=[EarlyStopping(verbose=True,patience=20,monitor='val_loss')], validation_data=(X_val, y_val),batch_size=10)"
   ]
  },
  {
   "cell_type": "code",
   "execution_count": 33,
   "metadata": {},
   "outputs": [
    {
     "name": "stdout",
     "output_type": "stream",
     "text": [
      "history keys:  dict_keys(['val_loss', 'val_accuracy', 'loss', 'accuracy'])\n"
     ]
    },
    {
     "data": {
      "text/plain": [
       "<matplotlib.legend.Legend at 0x1f863c32748>"
      ]
     },
     "execution_count": 33,
     "metadata": {},
     "output_type": "execute_result"
    },
    {
     "data": {
      "image/png": "[encoded data removed]",
      "text/plain": [
       "<Figure size 432x288 with 1 Axes>"
      ]
     },
     "metadata": {
      "needs_background": "light"
     },
     "output_type": "display_data"
    }
   ],
   "source": [
    "history = model.history.history\n",
    "print(\"history keys: \", history.keys())\n",
    "#Accuracy plot\n",
    "plt.plot(100 * np.array(history['accuracy']), label='training')\n",
    "plt.plot(100 * np.array(history['val_accuracy']), label='validation')\n",
    "plt.xlim(0)\n",
    "plt.xlabel('epoch')\n",
    "plt.ylabel('accuracy %')\n",
    "plt.legend(loc='lower right', fontsize=20)"
   ]
  },
  {
   "cell_type": "code",
   "execution_count": 34,
   "metadata": {},
   "outputs": [
    {
     "name": "stdout",
     "output_type": "stream",
     "text": [
      "6000/6000 [==============================] - 0s 13us/step\n"
     ]
    },
    {
     "data": {
      "text/plain": [
       "<matplotlib.lines.Line2D at 0x1f863becfc8>"
      ]
     },
     "execution_count": 34,
     "metadata": {},
     "output_type": "execute_result"
    },
    {
     "data": {
      "image/png": "[encoded data removed]",
      "text/plain": [
       "<Figure size 432x288 with 1 Axes>"
      ]
     },
     "metadata": {
      "needs_background": "light"
     },
     "output_type": "display_data"
    }
   ],
   "source": [
    "yhat = model.predict(X_test, verbose = True, batch_size = 512) \n",
    "bins = np.linspace(0, 1, 20)\n",
    "_ = plt.hist(yhat[y_test==1], histtype='stepfilled', alpha=0.5, color='red', label=r\"Signal\", bins=bins)\n",
    "_ = plt.hist(yhat[y_test==0], histtype='stepfilled', alpha=0.5, color='blue', label=r'Background', bins=bins)\n",
    "plt.axvline(x=0.5,linestyle='--')"
   ]
  },
  {
   "cell_type": "code",
   "execution_count": 35,
   "metadata": {},
   "outputs": [
    {
     "name": "stdout",
     "output_type": "stream",
     "text": [
      "Loss Events: mean: 0.494, std: 0.093\n",
      "NoLoss Events: mean: 0.467, std: 0.090\n"
     ]
    }
   ],
   "source": [
    "print(\"Loss Events: mean: %.3f, std: %.3f\" %(yhat[y_test==1].mean(),yhat[y_test==1].std()))\n",
    "print(\"NoLoss Events: mean: %.3f, std: %.3f\" %(yhat[y_test==0].mean(),yhat[y_test==0].std()))"
   ]
  },
  {
   "cell_type": "code",
   "execution_count": 36,
   "metadata": {},
   "outputs": [
    {
     "name": "stdout",
     "output_type": "stream",
     "text": [
      "Loss Event Accuracy: 49.4%\n"
     ]
    }
   ],
   "source": [
    "LossAcc = yhat[y_test==1].round().sum()/y_test.sum()\n",
    "print(\"Loss Event Accuracy: %.1f%%\" %(LossAcc*100))"
   ]
  },
  {
   "cell_type": "markdown",
   "metadata": {},
   "source": [
    "# Let's try a BDT instead of a NN, with ADASYN Resampling"
   ]
  },
  {
   "cell_type": "markdown",
   "metadata": {},
   "source": [
    "Change to XGBoost friendlier format, using all potentially useful columns, dropping Vehicle (an index) and Days (always 365, no chance of separation between loss type events)"
   ]
  },
  {
   "cell_type": "code",
   "execution_count": 108,
   "metadata": {},
   "outputs": [],
   "source": [
    "#splitting up the signal and background datasets into training sets, testing sets, and validation sets. \n",
    "#This splits into 80% to be used for training and 20% testing\n",
    "X = sim_sum_tot.drop(['Vehicle', 'Days'], axis=1)\n",
    "y = sim_sum_tot['Loss']\n",
    "ix = range(y.shape[0]) \n",
    "#X=X.drop('Loss',axis=1)\n",
    "X_train, X_test, y_train, y_test, ix_train, ix_test = train_test_split(X, y, ix, train_size=0.8)\n",
    "#X_train, X_val,y_train, y_val,ix_train, ix_val=train_test_split(X_train,y_train,ix_train,test_size=0.2)"
   ]
  },
  {
   "cell_type": "code",
   "execution_count": 109,
   "metadata": {},
   "outputs": [
    {
     "data": {
      "text/plain": [
       "Index(['Distance', 'HardBrakes', 'HardAccelerations', 'NightTime_Pct',\n",
       "       'VehicleType', 'Loss'],\n",
       "      dtype='object')"
      ]
     },
     "execution_count": 109,
     "metadata": {},
     "output_type": "execute_result"
    }
   ],
   "source": [
    "X.columns"
   ]
  },
  {
   "cell_type": "code",
   "execution_count": 110,
   "metadata": {},
   "outputs": [
    {
     "data": {
      "text/plain": [
       "array([20785, 20183], dtype=int64)"
      ]
     },
     "execution_count": 110,
     "metadata": {},
     "output_type": "execute_result"
    }
   ],
   "source": [
    "adasyn = ADASYN(sampling_strategy=\"auto\")\n",
    "X_train_adasyn, y_train_adasyn = adasyn.fit_resample(X_train, y_train)\n",
    "np.bincount(y_train_adasyn)"
   ]
  },
  {
   "cell_type": "code",
   "execution_count": 111,
   "metadata": {},
   "outputs": [
    {
     "data": {
      "text/html": [
       "<div>\n",
       "<style scoped>\n",
       "    .dataframe tbody tr th:only-of-type {\n",
       "        vertical-align: middle;\n",
       "    }\n",
       "\n",
       "    .dataframe tbody tr th {\n",
       "        vertical-align: top;\n",
       "    }\n",
       "\n",
       "    .dataframe thead th {\n",
       "        text-align: right;\n",
       "    }\n",
       "</style>\n",
       "<table border=\"1\" class=\"dataframe\">\n",
       "  <thead>\n",
       "    <tr style=\"text-align: right;\">\n",
       "      <th></th>\n",
       "      <th>Distance</th>\n",
       "      <th>HardBrakes</th>\n",
       "      <th>HardAccelerations</th>\n",
       "      <th>NightTime_Pct</th>\n",
       "      <th>VehicleType</th>\n",
       "      <th>Loss</th>\n",
       "    </tr>\n",
       "  </thead>\n",
       "  <tbody>\n",
       "    <tr>\n",
       "      <th>0</th>\n",
       "      <td>8405</td>\n",
       "      <td>93</td>\n",
       "      <td>34</td>\n",
       "      <td>0.000000</td>\n",
       "      <td>1</td>\n",
       "      <td>0</td>\n",
       "    </tr>\n",
       "    <tr>\n",
       "      <th>1</th>\n",
       "      <td>19989</td>\n",
       "      <td>325</td>\n",
       "      <td>136</td>\n",
       "      <td>0.001000</td>\n",
       "      <td>1</td>\n",
       "      <td>0</td>\n",
       "    </tr>\n",
       "    <tr>\n",
       "      <th>2</th>\n",
       "      <td>11915</td>\n",
       "      <td>24</td>\n",
       "      <td>115</td>\n",
       "      <td>0.000000</td>\n",
       "      <td>1</td>\n",
       "      <td>0</td>\n",
       "    </tr>\n",
       "    <tr>\n",
       "      <th>3</th>\n",
       "      <td>12914</td>\n",
       "      <td>72</td>\n",
       "      <td>276</td>\n",
       "      <td>0.017000</td>\n",
       "      <td>2</td>\n",
       "      <td>0</td>\n",
       "    </tr>\n",
       "    <tr>\n",
       "      <th>4</th>\n",
       "      <td>11161</td>\n",
       "      <td>56</td>\n",
       "      <td>63</td>\n",
       "      <td>0.035000</td>\n",
       "      <td>0</td>\n",
       "      <td>0</td>\n",
       "    </tr>\n",
       "    <tr>\n",
       "      <th>...</th>\n",
       "      <td>...</td>\n",
       "      <td>...</td>\n",
       "      <td>...</td>\n",
       "      <td>...</td>\n",
       "      <td>...</td>\n",
       "      <td>...</td>\n",
       "    </tr>\n",
       "    <tr>\n",
       "      <th>40963</th>\n",
       "      <td>20539</td>\n",
       "      <td>286</td>\n",
       "      <td>51</td>\n",
       "      <td>0.018966</td>\n",
       "      <td>1</td>\n",
       "      <td>1</td>\n",
       "    </tr>\n",
       "    <tr>\n",
       "      <th>40964</th>\n",
       "      <td>20532</td>\n",
       "      <td>254</td>\n",
       "      <td>76</td>\n",
       "      <td>0.003760</td>\n",
       "      <td>1</td>\n",
       "      <td>1</td>\n",
       "    </tr>\n",
       "    <tr>\n",
       "      <th>40965</th>\n",
       "      <td>20515</td>\n",
       "      <td>263</td>\n",
       "      <td>1</td>\n",
       "      <td>0.032312</td>\n",
       "      <td>1</td>\n",
       "      <td>1</td>\n",
       "    </tr>\n",
       "    <tr>\n",
       "      <th>40966</th>\n",
       "      <td>20523</td>\n",
       "      <td>252</td>\n",
       "      <td>64</td>\n",
       "      <td>0.006781</td>\n",
       "      <td>1</td>\n",
       "      <td>1</td>\n",
       "    </tr>\n",
       "    <tr>\n",
       "      <th>40967</th>\n",
       "      <td>20531</td>\n",
       "      <td>232</td>\n",
       "      <td>71</td>\n",
       "      <td>0.004809</td>\n",
       "      <td>1</td>\n",
       "      <td>1</td>\n",
       "    </tr>\n",
       "  </tbody>\n",
       "</table>\n",
       "<p>40968 rows × 6 columns</p>\n",
       "</div>"
      ],
      "text/plain": [
       "       Distance  HardBrakes  HardAccelerations  NightTime_Pct  VehicleType  \\\n",
       "0          8405          93                 34       0.000000            1   \n",
       "1         19989         325                136       0.001000            1   \n",
       "2         11915          24                115       0.000000            1   \n",
       "3         12914          72                276       0.017000            2   \n",
       "4         11161          56                 63       0.035000            0   \n",
       "...         ...         ...                ...            ...          ...   \n",
       "40963     20539         286                 51       0.018966            1   \n",
       "40964     20532         254                 76       0.003760            1   \n",
       "40965     20515         263                  1       0.032312            1   \n",
       "40966     20523         252                 64       0.006781            1   \n",
       "40967     20531         232                 71       0.004809            1   \n",
       "\n",
       "       Loss  \n",
       "0         0  \n",
       "1         0  \n",
       "2         0  \n",
       "3         0  \n",
       "4         0  \n",
       "...     ...  \n",
       "40963     1  \n",
       "40964     1  \n",
       "40965     1  \n",
       "40966     1  \n",
       "40967     1  \n",
       "\n",
       "[40968 rows x 6 columns]"
      ]
     },
     "execution_count": 111,
     "metadata": {},
     "output_type": "execute_result"
    }
   ],
   "source": [
    "X_train_adasyn"
   ]
  },
  {
   "cell_type": "code",
   "execution_count": 112,
   "metadata": {},
   "outputs": [
    {
     "name": "stdout",
     "output_type": "stream",
     "text": [
      "Number of training samples: 24000\n",
      "Number of testing samples: 6000\n",
      "ADASYN: Number of training samples: 40968\n",
      "\n",
      "Number of signal events in training set: 3215\n",
      "ADASYN:Number of signal events in training set: 20183\n",
      "Number of background events in training set: 20785\n",
      "Fraction signal: 0.13395833333333335\n",
      "ADASYN: Fraction signal: 0.49265280218707286\n"
     ]
    }
   ],
   "source": [
    "print('Number of training samples: {}'.format(len(X_train)))\n",
    "print('Number of testing samples: {}'.format(len(X_test)))\n",
    "print('ADASYN: Number of training samples: {}'.format(len(X_train_adasyn)))\n",
    "\n",
    "print('\\nNumber of signal events in training set: {}'.format(len(X_train[X_train.Loss == 1])))\n",
    "print('ADASYN:Number of signal events in training set: {}'.format(len(X_train_adasyn[X_train_adasyn.Loss == 1])))\n",
    "print('Number of background events in training set: {}'.format(len(X_train[X_train.Loss == 0])))\n",
    "print('Fraction signal: {}'.format(len(X_train[X_train.Loss == 1])/(float)(len(X_train[X_train.Loss == 1]) + len(X_train[X_train.Loss == 0]))))\n",
    "print('ADASYN: Fraction signal: {}'.format(len(X_train_adasyn[X_train_adasyn.Loss == 1])/(float)(len(X_train_adasyn[X_train_adasyn.Loss == 1]) + len(X_train_adasyn[X_train_adasyn.Loss == 0]))))"
   ]
  },
  {
   "cell_type": "code",
   "execution_count": 113,
   "metadata": {},
   "outputs": [
    {
     "data": {
      "text/plain": [
       "Index(['Distance', 'HardBrakes', 'HardAccelerations', 'NightTime_Pct',\n",
       "       'VehicleType'],\n",
       "      dtype='object')"
      ]
     },
     "execution_count": 113,
     "metadata": {},
     "output_type": "execute_result"
    }
   ],
   "source": [
    "features = X_train.columns[:-1]  # we skip the last column because it is the Loss label\n",
    "features"
   ]
  },
  {
   "cell_type": "code",
   "execution_count": 114,
   "metadata": {},
   "outputs": [
    {
     "name": "stdout",
     "output_type": "stream",
     "text": [
      "[23:29:50] WARNING: C:\\Users\\Administrator\\workspace\\xgboost-win64_release_1.1.0\\src\\learner.cc:480: \n",
      "Parameters: { feature_names } might not be used.\n",
      "\n",
      "  This may not be accurate due to some parameters are only used in language bindings but\n",
      "  passed down to XGBoost core.  Or some parameters are not used but slip through this\n",
      "  verification. Please open an issue if you find above cases.\n",
      "\n",
      "\n"
     ]
    },
    {
     "data": {
      "text/plain": [
       "XGBClassifier(base_score=0.5, booster='gbtree', colsample_bylevel=1,\n",
       "              colsample_bynode=1, colsample_bytree=1.0,\n",
       "              feature_names=Index(['Distance', 'HardBrakes', 'HardAccelerations', 'NightTime_Pct',\n",
       "       'VehicleType'],\n",
       "      dtype='object'),\n",
       "              gamma=0, gpu_id=-1, importance_type='gain',\n",
       "              interaction_constraints='', learning_rate=0.15, max_delta_step=0,\n",
       "              max_depth=6, min_child_weight=1, missing=nan,\n",
       "              monotone_constraints='()', n_estimators=200, n_jobs=0,\n",
       "              num_parallel_tree=1, random_state=0, reg_alpha=0, reg_lambda=1,\n",
       "              scale_pos_weight=1, subsample=1.0, tree_method='exact',\n",
       "              validate_parameters=1, verbosity=None)"
      ]
     },
     "execution_count": 114,
     "metadata": {},
     "output_type": "execute_result"
    }
   ],
   "source": [
    "binary_bdt_param = {\n",
    "    \"learning_rate\" : 0.15,\n",
    "    \"max_depth\" : 6,\n",
    "    \"colsample_bytree\" : 1.0,\n",
    "    \"subsample\" : 1.0,\n",
    "    \"n_estimators\" : 200,\n",
    "    \"feature_names\" : features,\n",
    "    'objective' : 'binary:logistic' # objective function\n",
    "}\n",
    "binary_task_param = {\n",
    "    \"eval_metric\" : [\"logloss\",\"error\"],\n",
    "    \"early_stopping_rounds\" : 30,\n",
    "    \"eval_set\": [(X_train_adasyn[features],y_train_adasyn), \n",
    "                 (X_test[features],y_test)]\n",
    "}\n",
    "\n",
    "binary_bdt = xgb.XGBClassifier(**binary_bdt_param)\n",
    "binary_bdt.fit(X_train_adasyn[features], y_train_adasyn,\n",
    "              verbose=False, **binary_task_param)"
   ]
  },
  {
   "cell_type": "code",
   "execution_count": 115,
   "metadata": {},
   "outputs": [
    {
     "name": "stdout",
     "output_type": "stream",
     "text": [
      "0.7935\n"
     ]
    },
    {
     "data": {
      "text/plain": [
       "625.0"
      ]
     },
     "execution_count": 115,
     "metadata": {},
     "output_type": "execute_result"
    }
   ],
   "source": [
    "evaluated_df = X_test.copy()\n",
    "evaluated_df[\"binary_prob\"] = binary_bdt.predict_proba(X_test[features])[:,1]\n",
    "print(binary_bdt.score(X_test[features],y_test))\n",
    "\n",
    "binary_bdt.predict_proba(X_test[features])[:,1].round().sum()"
   ]
  },
  {
   "cell_type": "code",
   "execution_count": 116,
   "metadata": {},
   "outputs": [
    {
     "data": {
      "text/plain": [
       "625"
      ]
     },
     "execution_count": 116,
     "metadata": {},
     "output_type": "execute_result"
    }
   ],
   "source": [
    "y_pred = binary_bdt.predict(X_test[features])\n",
    "y_pred.sum()"
   ]
  },
  {
   "cell_type": "code",
   "execution_count": 117,
   "metadata": {},
   "outputs": [
    {
     "data": {
      "text/plain": [
       "array([0, 0, 0, ..., 0, 0, 0], dtype=int64)"
      ]
     },
     "execution_count": 117,
     "metadata": {},
     "output_type": "execute_result"
    }
   ],
   "source": [
    "binary_bdt.predict(X_test[features])"
   ]
  },
  {
   "cell_type": "code",
   "execution_count": 118,
   "metadata": {},
   "outputs": [
    {
     "name": "stdout",
     "output_type": "stream",
     "text": [
      "Accuracy: 79.35%\n",
      "Loss Event Accuracy: 11.27%\n",
      "Thresh=0.055, n=5, Accuracy: 79.70%\n",
      "Loss Event Accuracy: 9.80%\n",
      "Thresh=0.055, n=4, Accuracy: 79.92%\n",
      "Loss Event Accuracy: 8.46%\n",
      "Thresh=0.076, n=3, Accuracy: 81.08%\n",
      "Loss Event Accuracy: 3.55%\n",
      "Thresh=0.313, n=2, Accuracy: 83.55%\n",
      "Loss Event Accuracy: 4.78%\n",
      "Thresh=0.501, n=1, Accuracy: 82.68%\n"
     ]
    }
   ],
   "source": [
    "from sklearn.metrics import accuracy_score\n",
    "from sklearn.feature_selection import SelectFromModel\n",
    "\n",
    "predictions = binary_bdt.predict(X_test[features])\n",
    "accuracy = accuracy_score(y_test, predictions)\n",
    "print(\"Accuracy: %.2f%%\" % (accuracy * 100.0))\n",
    "thresholds = np.sort(binary_bdt.feature_importances_)\n",
    "for thresh in thresholds:\n",
    "    # select features using threshold\n",
    "    selection = SelectFromModel(binary_bdt, threshold=thresh, prefit=True)\n",
    "    select_X_train = selection.transform(X_train_adasyn[features])\n",
    "    # train model\n",
    "    selection_model = xgb.XGBClassifier()\n",
    "    selection_model.fit(select_X_train, y_train_adasyn)\n",
    "    # eval model\n",
    "    select_X_test = selection.transform(X_test[features])\n",
    "    predictions = selection_model.predict(select_X_test)\n",
    "    accuracy = accuracy_score(y_test, predictions)\n",
    "    print(\"Loss Event Accuracy: %.2f%%\"%(predictions[y_test==1].sum()/y_test.sum()*100.))\n",
    "    print(\"Thresh=%.3f, n=%d, Accuracy: %.2f%%\" % (thresh, select_X_train.shape[1], accuracy*100.0))"
   ]
  },
  {
   "cell_type": "code",
   "execution_count": 119,
   "metadata": {},
   "outputs": [
    {
     "data": {
      "image/png": "[encoded data removed]",
      "text/plain": [
       "<Figure size 1152x288 with 2 Axes>"
      ]
     },
     "metadata": {
      "needs_background": "light"
     },
     "output_type": "display_data"
    }
   ],
   "source": [
    "fig, ax_enum = plt.subplots(1,2, figsize=(16,4))\n",
    "xgb.plot_importance(binary_bdt, importance_type=\"weight\", ax=ax_enum[0], title=\"Weight\",show_values=False, grid=False)\n",
    "xgb.plot_importance(binary_bdt, importance_type=\"gain\", ax=ax_enum[1], title=\"Gain\", show_values=False, grid=False)\n",
    "plt.ylabel(\"\")\n",
    "plt.sca(ax_enum[1])\n",
    "plt.ylabel(\"\")\n",
    "plt.subplots_adjust(wspace=0.3)"
   ]
  },
  {
   "cell_type": "markdown",
   "metadata": {},
   "source": [
    "importance_type=Gain is how useful is the variable in terms of separation where importance_type=Weight is how frequently splitting on the variable occurs"
   ]
  },
  {
   "cell_type": "code",
   "execution_count": 120,
   "metadata": {},
   "outputs": [
    {
     "data": {
      "image/png": "[encoded data removed]",
      "text/plain": [
       "<Figure size 432x288 with 1 Axes>"
      ]
     },
     "metadata": {
      "needs_background": "light"
     },
     "output_type": "display_data"
    },
    {
     "data": {
      "image/png": "[encoded data removed]",
      "text/plain": [
       "<Figure size 432x288 with 1 Axes>"
      ]
     },
     "metadata": {
      "needs_background": "light"
     },
     "output_type": "display_data"
    }
   ],
   "source": [
    "# plot all predictions (both signal and background)\n",
    "predictions = binary_bdt.predict_proba(X_test[features])[:,1]\n",
    "plt.figure();\n",
    "plt.hist(predictions,bins=np.linspace(0,1,50),histtype='step',color='darkgreen',label='All events');\n",
    "# make the plot readable\n",
    "plt.xlabel('Prediction from BDT',fontsize=12);\n",
    "plt.ylabel('Events',fontsize=12);\n",
    "plt.legend(frameon=False);\n",
    "\n",
    "# plot signal and background separately\n",
    "plt.figure();\n",
    "plt.hist(binary_bdt.predict_proba(X_test[features][y_test==1])[:,1],bins=np.linspace(0,1,50),\n",
    "         histtype='step',color='midnightblue',label='Loss');\n",
    "plt.hist(binary_bdt.predict_proba(X_test[features][y_test==0])[:,1],bins=np.linspace(0,1,50),\n",
    "         histtype='step',color='firebrick',label='No Loss');\n",
    "# make the plot readable\n",
    "plt.xlabel('Prediction from BDT',fontsize=12);\n",
    "plt.ylabel('Events',fontsize=12);\n",
    "plt.legend(frameon=False);"
   ]
  },
  {
   "cell_type": "code",
   "execution_count": 50,
   "metadata": {},
   "outputs": [
    {
     "data": {
      "image/png": "[encoded data removed]",
      "text/plain": [
       "<Figure size 432x288 with 1 Axes>"
      ]
     },
     "metadata": {
      "needs_background": "light"
     },
     "output_type": "display_data"
    }
   ],
   "source": [
    "\n",
    "plt.figure();\n",
    "plt.hist(X_train.Distance[X_train.Loss == 1],bins=np.linspace(0,40000,50),\n",
    "         histtype='step',color='midnightblue',label='Loss');\n",
    "plt.hist(X_train.Distance[X_train.Loss == 0],bins=np.linspace(0,40000,50),\n",
    "         histtype='step',color='firebrick',label='No Loss');\n",
    "\n",
    "plt.xlabel('Distance',fontsize=12);\n",
    "plt.ylabel('Events',fontsize=12);\n",
    "plt.legend(frameon=False);"
   ]
  },
  {
   "cell_type": "code",
   "execution_count": 51,
   "metadata": {
    "scrolled": true
   },
   "outputs": [
    {
     "data": {
      "image/png": "[encoded data removed]",
      "text/plain": [
       "<Figure size 432x288 with 1 Axes>"
      ]
     },
     "metadata": {
      "needs_background": "light"
     },
     "output_type": "display_data"
    }
   ],
   "source": [
    "plt.figure();\n",
    "#plt.plot(X_train_adasyn.Distance[X_train_adasyn.Loss == 0],X_train_adasyn.NightTime_Pct[X_train_adasyn.Loss == 0],\n",
    "#         'o',markersize=2,color='firebrick',markeredgewidth=0,alpha=0.8,label='NoLoss');\n",
    "#plt.plot(X_train_adasyn.Distance[X_train_adasyn.Loss == 1],X_train_adasyn.NightTime_Pct[X_train_adasyn.Loss == 1],\n",
    "#         'o',markersize=2,color='mediumblue',markeredgewidth=0,alpha=0.8,label='Loss');\n",
    "\n",
    "plt.plot(X_train.Distance[X_train.Loss == 0],X_train.NightTime_Pct[X_train.Loss == 0],\n",
    "         'o',markersize=2,color='firebrick',markeredgewidth=0,alpha=0.8,label='NoLoss');\n",
    "plt.plot(X_train.Distance[X_train.Loss == 1],X_train.NightTime_Pct[X_train.Loss == 1],\n",
    "         'o',markersize=2,color='mediumblue',markeredgewidth=0,alpha=0.8,label='Loss');\n",
    "\n",
    "plt.xlim(0,35000);\n",
    "plt.ylim(0,1);\n",
    "plt.xlabel('Distance',fontsize=12);\n",
    "plt.ylabel('NightTime_Pct',fontsize=12);\n",
    "plt.legend(frameon=False,numpoints=1,markerscale=2);"
   ]
  },
  {
   "cell_type": "markdown",
   "metadata": {},
   "source": [
    "# BDT with SMOTE resampling"
   ]
  },
  {
   "cell_type": "markdown",
   "metadata": {},
   "source": [
    "Change to XGBoost friendlier format, using all potentially useful columns, dropping Vehicle (an index) and Days (always 365, no chance of separation between loss type events)"
   ]
  },
  {
   "cell_type": "code",
   "execution_count": 121,
   "metadata": {},
   "outputs": [],
   "source": [
    "#splitting up the signal and background datasets into training sets, testing sets, and validation sets. \n",
    "#This splits into 80% to be used for training and 20% testing\n",
    "X = sim_sum_tot.drop(['Vehicle', 'Days'], axis=1)\n",
    "y = sim_sum_tot['Loss']\n",
    "ix = range(y.shape[0]) \n",
    "#X=X.drop('Loss',axis=1)\n",
    "X_train, X_test, y_train, y_test, ix_train, ix_test = train_test_split(X, y, ix, train_size=0.8)\n",
    "#X_train, X_val,y_train, y_val,ix_train, ix_val=train_test_split(X_train,y_train,ix_train,test_size=0.2)"
   ]
  },
  {
   "cell_type": "code",
   "execution_count": 122,
   "metadata": {},
   "outputs": [
    {
     "data": {
      "text/plain": [
       "Index(['Distance', 'HardBrakes', 'HardAccelerations', 'NightTime_Pct',\n",
       "       'VehicleType', 'Loss'],\n",
       "      dtype='object')"
      ]
     },
     "execution_count": 122,
     "metadata": {},
     "output_type": "execute_result"
    }
   ],
   "source": [
    "X.columns"
   ]
  },
  {
   "cell_type": "code",
   "execution_count": 123,
   "metadata": {},
   "outputs": [
    {
     "data": {
      "text/plain": [
       "array([20788, 20788], dtype=int64)"
      ]
     },
     "execution_count": 123,
     "metadata": {},
     "output_type": "execute_result"
    }
   ],
   "source": [
    "adasyn = SMOTE(sampling_strategy=\"auto\")\n",
    "X_train_smote, y_train_smote = smote.fit_resample(X_train, y_train)\n",
    "np.bincount(y_train_smote)"
   ]
  },
  {
   "cell_type": "code",
   "execution_count": 124,
   "metadata": {},
   "outputs": [
    {
     "data": {
      "text/html": [
       "<div>\n",
       "<style scoped>\n",
       "    .dataframe tbody tr th:only-of-type {\n",
       "        vertical-align: middle;\n",
       "    }\n",
       "\n",
       "    .dataframe tbody tr th {\n",
       "        vertical-align: top;\n",
       "    }\n",
       "\n",
       "    .dataframe thead th {\n",
       "        text-align: right;\n",
       "    }\n",
       "</style>\n",
       "<table border=\"1\" class=\"dataframe\">\n",
       "  <thead>\n",
       "    <tr style=\"text-align: right;\">\n",
       "      <th></th>\n",
       "      <th>Distance</th>\n",
       "      <th>HardBrakes</th>\n",
       "      <th>HardAccelerations</th>\n",
       "      <th>NightTime_Pct</th>\n",
       "      <th>VehicleType</th>\n",
       "      <th>Loss</th>\n",
       "    </tr>\n",
       "  </thead>\n",
       "  <tbody>\n",
       "    <tr>\n",
       "      <th>0</th>\n",
       "      <td>20723</td>\n",
       "      <td>87</td>\n",
       "      <td>11</td>\n",
       "      <td>0.001000</td>\n",
       "      <td>2</td>\n",
       "      <td>0</td>\n",
       "    </tr>\n",
       "    <tr>\n",
       "      <th>1</th>\n",
       "      <td>10211</td>\n",
       "      <td>116</td>\n",
       "      <td>48</td>\n",
       "      <td>0.009000</td>\n",
       "      <td>3</td>\n",
       "      <td>1</td>\n",
       "    </tr>\n",
       "    <tr>\n",
       "      <th>2</th>\n",
       "      <td>16757</td>\n",
       "      <td>52</td>\n",
       "      <td>313</td>\n",
       "      <td>0.004000</td>\n",
       "      <td>2</td>\n",
       "      <td>1</td>\n",
       "    </tr>\n",
       "    <tr>\n",
       "      <th>3</th>\n",
       "      <td>21999</td>\n",
       "      <td>67</td>\n",
       "      <td>30</td>\n",
       "      <td>0.119000</td>\n",
       "      <td>1</td>\n",
       "      <td>0</td>\n",
       "    </tr>\n",
       "    <tr>\n",
       "      <th>4</th>\n",
       "      <td>17329</td>\n",
       "      <td>438</td>\n",
       "      <td>42</td>\n",
       "      <td>0.001000</td>\n",
       "      <td>2</td>\n",
       "      <td>0</td>\n",
       "    </tr>\n",
       "    <tr>\n",
       "      <th>...</th>\n",
       "      <td>...</td>\n",
       "      <td>...</td>\n",
       "      <td>...</td>\n",
       "      <td>...</td>\n",
       "      <td>...</td>\n",
       "      <td>...</td>\n",
       "    </tr>\n",
       "    <tr>\n",
       "      <th>41571</th>\n",
       "      <td>10325</td>\n",
       "      <td>36</td>\n",
       "      <td>97</td>\n",
       "      <td>0.181840</td>\n",
       "      <td>0</td>\n",
       "      <td>1</td>\n",
       "    </tr>\n",
       "    <tr>\n",
       "      <th>41572</th>\n",
       "      <td>16891</td>\n",
       "      <td>1266</td>\n",
       "      <td>156</td>\n",
       "      <td>0.043579</td>\n",
       "      <td>1</td>\n",
       "      <td>1</td>\n",
       "    </tr>\n",
       "    <tr>\n",
       "      <th>41573</th>\n",
       "      <td>14899</td>\n",
       "      <td>88</td>\n",
       "      <td>12</td>\n",
       "      <td>0.023771</td>\n",
       "      <td>0</td>\n",
       "      <td>1</td>\n",
       "    </tr>\n",
       "    <tr>\n",
       "      <th>41574</th>\n",
       "      <td>14482</td>\n",
       "      <td>13</td>\n",
       "      <td>60</td>\n",
       "      <td>0.206357</td>\n",
       "      <td>1</td>\n",
       "      <td>1</td>\n",
       "    </tr>\n",
       "    <tr>\n",
       "      <th>41575</th>\n",
       "      <td>12347</td>\n",
       "      <td>99</td>\n",
       "      <td>143</td>\n",
       "      <td>0.089463</td>\n",
       "      <td>2</td>\n",
       "      <td>1</td>\n",
       "    </tr>\n",
       "  </tbody>\n",
       "</table>\n",
       "<p>41576 rows × 6 columns</p>\n",
       "</div>"
      ],
      "text/plain": [
       "       Distance  HardBrakes  HardAccelerations  NightTime_Pct  VehicleType  \\\n",
       "0         20723          87                 11       0.001000            2   \n",
       "1         10211         116                 48       0.009000            3   \n",
       "2         16757          52                313       0.004000            2   \n",
       "3         21999          67                 30       0.119000            1   \n",
       "4         17329         438                 42       0.001000            2   \n",
       "...         ...         ...                ...            ...          ...   \n",
       "41571     10325          36                 97       0.181840            0   \n",
       "41572     16891        1266                156       0.043579            1   \n",
       "41573     14899          88                 12       0.023771            0   \n",
       "41574     14482          13                 60       0.206357            1   \n",
       "41575     12347          99                143       0.089463            2   \n",
       "\n",
       "       Loss  \n",
       "0         0  \n",
       "1         1  \n",
       "2         1  \n",
       "3         0  \n",
       "4         0  \n",
       "...     ...  \n",
       "41571     1  \n",
       "41572     1  \n",
       "41573     1  \n",
       "41574     1  \n",
       "41575     1  \n",
       "\n",
       "[41576 rows x 6 columns]"
      ]
     },
     "execution_count": 124,
     "metadata": {},
     "output_type": "execute_result"
    }
   ],
   "source": [
    "X_train_smote"
   ]
  },
  {
   "cell_type": "code",
   "execution_count": 125,
   "metadata": {},
   "outputs": [
    {
     "name": "stdout",
     "output_type": "stream",
     "text": [
      "Number of training samples: 24000\n",
      "Number of testing samples: 6000\n",
      "SMOTE: Number of training samples: 41576\n",
      "\n",
      "Number of signal events in training set: 3212\n",
      "SMOTE:Number of signal events in training set: 20788\n",
      "Number of background events in training set: 20788\n",
      "Fraction signal: 0.13383333333333333\n",
      "SMOTE: Fraction signal: 0.5074204256981059\n"
     ]
    },
    {
     "name": "stderr",
     "output_type": "stream",
     "text": [
      "D:\\ProgramData\\Anaconda3\\lib\\site-packages\\ipykernel_launcher.py:9: UserWarning: Boolean Series key will be reindexed to match DataFrame index.\n",
      "  if __name__ == '__main__':\n"
     ]
    }
   ],
   "source": [
    "print('Number of training samples: {}'.format(len(X_train)))\n",
    "print('Number of testing samples: {}'.format(len(X_test)))\n",
    "print('SMOTE: Number of training samples: {}'.format(len(X_train_smote)))\n",
    "\n",
    "print('\\nNumber of signal events in training set: {}'.format(len(X_train[X_train.Loss == 1])))\n",
    "print('SMOTE:Number of signal events in training set: {}'.format(len(X_train_smote[X_train_smote.Loss == 1])))\n",
    "print('Number of background events in training set: {}'.format(len(X_train[X_train.Loss == 0])))\n",
    "print('Fraction signal: {}'.format(len(X_train[X_train.Loss == 1])/(float)(len(X_train[X_train.Loss == 1]) + len(X_train[X_train.Loss == 0]))))\n",
    "print('SMOTE: Fraction signal: {}'.format(len(X_train_smote[X_train_smote.Loss == 1])/(float)(len(X_train_adasyn[X_train_smote.Loss == 1]) + len(X_train_smote[X_train_smote.Loss == 0]))))"
   ]
  },
  {
   "cell_type": "code",
   "execution_count": 126,
   "metadata": {},
   "outputs": [
    {
     "data": {
      "text/plain": [
       "Index(['Distance', 'HardBrakes', 'HardAccelerations', 'NightTime_Pct',\n",
       "       'VehicleType'],\n",
       "      dtype='object')"
      ]
     },
     "execution_count": 126,
     "metadata": {},
     "output_type": "execute_result"
    }
   ],
   "source": [
    "features = X_train.columns[:-1]  # we skip the last column because it is the Loss label\n",
    "features"
   ]
  },
  {
   "cell_type": "code",
   "execution_count": 127,
   "metadata": {},
   "outputs": [
    {
     "name": "stdout",
     "output_type": "stream",
     "text": [
      "[23:42:41] WARNING: C:\\Users\\Administrator\\workspace\\xgboost-win64_release_1.1.0\\src\\learner.cc:480: \n",
      "Parameters: { feature_names } might not be used.\n",
      "\n",
      "  This may not be accurate due to some parameters are only used in language bindings but\n",
      "  passed down to XGBoost core.  Or some parameters are not used but slip through this\n",
      "  verification. Please open an issue if you find above cases.\n",
      "\n",
      "\n"
     ]
    },
    {
     "data": {
      "text/plain": [
       "XGBClassifier(base_score=0.5, booster='gbtree', colsample_bylevel=1,\n",
       "              colsample_bynode=1, colsample_bytree=1.0,\n",
       "              feature_names=Index(['Distance', 'HardBrakes', 'HardAccelerations', 'NightTime_Pct',\n",
       "       'VehicleType'],\n",
       "      dtype='object'),\n",
       "              gamma=0, gpu_id=-1, importance_type='gain',\n",
       "              interaction_constraints='', learning_rate=0.15, max_delta_step=0,\n",
       "              max_depth=6, min_child_weight=1, missing=nan,\n",
       "              monotone_constraints='()', n_estimators=200, n_jobs=0,\n",
       "              num_parallel_tree=1, random_state=0, reg_alpha=0, reg_lambda=1,\n",
       "              scale_pos_weight=1, subsample=1.0, tree_method='exact',\n",
       "              validate_parameters=1, verbosity=None)"
      ]
     },
     "execution_count": 127,
     "metadata": {},
     "output_type": "execute_result"
    }
   ],
   "source": [
    "binary_bdt_param = {\n",
    "    \"learning_rate\" : 0.15,\n",
    "    \"max_depth\" :6,\n",
    "    \"colsample_bytree\" : 1.0,\n",
    "    \"subsample\" : 1.0,\n",
    "    \"n_estimators\" : 200,\n",
    "    \"feature_names\" : features,\n",
    "    'objective' : 'binary:logistic' # objective function\n",
    "}\n",
    "binary_task_param = {\n",
    "    \"eval_metric\" : [\"logloss\",\"error\"],\n",
    "    \"early_stopping_rounds\" : 30,\n",
    "    \"eval_set\": [(X_train_adasyn[features],y_train_adasyn), \n",
    "                 (X_test[features],y_test)]\n",
    "}\n",
    "\n",
    "binary_bdt = xgb.XGBClassifier(**binary_bdt_param)\n",
    "binary_bdt.fit(X_train_smote[features], y_train_smote,\n",
    "              verbose=False, **binary_task_param)"
   ]
  },
  {
   "cell_type": "code",
   "execution_count": 128,
   "metadata": {},
   "outputs": [
    {
     "name": "stdout",
     "output_type": "stream",
     "text": [
      "0.8068333333333333\n"
     ]
    },
    {
     "data": {
      "text/plain": [
       "542.0"
      ]
     },
     "execution_count": 128,
     "metadata": {},
     "output_type": "execute_result"
    }
   ],
   "source": [
    "evaluated_df = X_test.copy()\n",
    "evaluated_df[\"binary_prob\"] = binary_bdt.predict_proba(X_test[features])[:,1]\n",
    "print(binary_bdt.score(X_test[features],y_test))\n",
    "\n",
    "binary_bdt.predict_proba(X_test[features])[:,1].round().sum()"
   ]
  },
  {
   "cell_type": "code",
   "execution_count": 129,
   "metadata": {},
   "outputs": [
    {
     "data": {
      "text/plain": [
       "542"
      ]
     },
     "execution_count": 129,
     "metadata": {},
     "output_type": "execute_result"
    }
   ],
   "source": [
    "y_pred = binary_bdt.predict(X_test[features])\n",
    "y_pred.sum()"
   ]
  },
  {
   "cell_type": "code",
   "execution_count": 135,
   "metadata": {},
   "outputs": [
    {
     "data": {
      "text/plain": [
       "array([0, 0, 1, ..., 0, 1, 0], dtype=int64)"
      ]
     },
     "execution_count": 135,
     "metadata": {},
     "output_type": "execute_result"
    }
   ],
   "source": [
    "binary_bdt.predict(X_test[features])"
   ]
  },
  {
   "cell_type": "code",
   "execution_count": 103,
   "metadata": {},
   "outputs": [
    {
     "name": "stdout",
     "output_type": "stream",
     "text": [
      "Accuracy: 82.08%\n",
      "Loss Event Accuracy: 11.64%\n",
      "Thresh=0.087, n=5, Accuracy: 79.52%\n",
      "Loss Event Accuracy: 12.12%\n",
      "Thresh=0.088, n=4, Accuracy: 79.57%\n",
      "Loss Event Accuracy: 10.67%\n",
      "Thresh=0.117, n=3, Accuracy: 80.03%\n",
      "Loss Event Accuracy: 5.21%\n",
      "Thresh=0.232, n=2, Accuracy: 83.00%\n",
      "Loss Event Accuracy: 4.85%\n",
      "Thresh=0.476, n=1, Accuracy: 82.75%\n"
     ]
    }
   ],
   "source": [
    "from sklearn.metrics import accuracy_score\n",
    "from sklearn.feature_selection import SelectFromModel\n",
    "\n",
    "predictions = binary_bdt.predict(X_test[features])\n",
    "accuracy = accuracy_score(y_test, predictions)\n",
    "print(\"Accuracy: %.2f%%\" % (accuracy * 100.0))\n",
    "thresholds = np.sort(binary_bdt.feature_importances_)\n",
    "for thresh in thresholds:\n",
    "    # select features using threshold\n",
    "    selection = SelectFromModel(binary_bdt, threshold=thresh, prefit=True)\n",
    "    select_X_train = selection.transform(X_train_smote[features])\n",
    "    # train model\n",
    "    selection_model = xgb.XGBClassifier()\n",
    "    selection_model.fit(select_X_train, y_train_smote)\n",
    "    # eval model\n",
    "    select_X_test = selection.transform(X_test[features])\n",
    "    predictions = selection_model.predict(select_X_test)\n",
    "    accuracy = accuracy_score(y_test, predictions)\n",
    "    print(\"Loss Event Accuracy: %.2f%%\"%(predictions[y_test==1].sum()/y_test.sum()*100.))\n",
    "    print(\"Thresh=%.3f, n=%d, Accuracy: %.2f%%\" % (thresh, select_X_train.shape[1], accuracy*100.0))"
   ]
  },
  {
   "cell_type": "code",
   "execution_count": 104,
   "metadata": {},
   "outputs": [
    {
     "data": {
      "text/plain": [
       "0.08242424242424243"
      ]
     },
     "execution_count": 104,
     "metadata": {},
     "output_type": "execute_result"
    }
   ],
   "source": [
    "predictions[y_test==1].sum()/y_test.sum()\n",
    "y_pred[y_test==1].sum()/y_test.sum()"
   ]
  },
  {
   "cell_type": "code",
   "execution_count": 63,
   "metadata": {},
   "outputs": [
    {
     "data": {
      "image/png": "[encoded data removed]",
      "text/plain": [
       "<Figure size 1152x288 with 2 Axes>"
      ]
     },
     "metadata": {
      "needs_background": "light"
     },
     "output_type": "display_data"
    }
   ],
   "source": [
    "fig, ax_enum = plt.subplots(1,2, figsize=(16,4))\n",
    "xgb.plot_importance(binary_bdt, importance_type=\"weight\", ax=ax_enum[0], title=\"Weight\",show_values=False, grid=False)\n",
    "xgb.plot_importance(binary_bdt, importance_type=\"gain\", ax=ax_enum[1], title=\"Gain\", show_values=False, grid=False)\n",
    "plt.ylabel(\"\")\n",
    "plt.sca(ax_enum[1])\n",
    "plt.ylabel(\"\")\n",
    "plt.subplots_adjust(wspace=0.3)"
   ]
  },
  {
   "cell_type": "markdown",
   "metadata": {},
   "source": [
    "importance_type=Gain is how useful is the variable in terms of separation where importance_type=Weight is how frequently splitting on the variable occurs"
   ]
  },
  {
   "cell_type": "code",
   "execution_count": 64,
   "metadata": {},
   "outputs": [
    {
     "data": {
      "image/png": "[encoded data removed]",
      "text/plain": [
       "<Figure size 432x288 with 1 Axes>"
      ]
     },
     "metadata": {
      "needs_background": "light"
     },
     "output_type": "display_data"
    },
    {
     "data": {
      "image/png": "[encoded data removed]",
      "text/plain": [
       "<Figure size 432x288 with 1 Axes>"
      ]
     },
     "metadata": {
      "needs_background": "light"
     },
     "output_type": "display_data"
    }
   ],
   "source": [
    "# plot all predictions (both signal and background)\n",
    "predictions = binary_bdt.predict_proba(X_test[features])[:,1]\n",
    "plt.figure();\n",
    "plt.hist(predictions,bins=np.linspace(0,1,50),histtype='step',color='darkgreen',label='All events');\n",
    "# make the plot readable\n",
    "plt.xlabel('Prediction from BDT',fontsize=12);\n",
    "plt.ylabel('Events',fontsize=12);\n",
    "plt.legend(frameon=False);\n",
    "\n",
    "# plot signal and background separately\n",
    "plt.figure();\n",
    "plt.hist(binary_bdt.predict_proba(X_test[features][y_test==1])[:,1],bins=np.linspace(0,1,50),\n",
    "         histtype='step',color='midnightblue',label='Loss');\n",
    "plt.hist(binary_bdt.predict_proba(X_test[features][y_test==0])[:,1],bins=np.linspace(0,1,50),\n",
    "         histtype='step',color='firebrick',label='No Loss');\n",
    "# make the plot readable\n",
    "plt.xlabel('Prediction from BDT',fontsize=12);\n",
    "plt.ylabel('Events',fontsize=12);\n",
    "plt.legend(frameon=False);"
   ]
  },
  {
   "cell_type": "code",
   "execution_count": null,
   "metadata": {},
   "outputs": [],
   "source": []
  },
  {
   "cell_type": "code",
   "execution_count": null,
   "metadata": {},
   "outputs": [],
   "source": []
  },
  {
   "cell_type": "code",
   "execution_count": null,
   "metadata": {},
   "outputs": [],
   "source": []
  },
  {
   "cell_type": "code",
   "execution_count": null,
   "metadata": {},
   "outputs": [],
   "source": []
  },
  {
   "cell_type": "code",
   "execution_count": null,
   "metadata": {},
   "outputs": [],
   "source": []
  }
 ],
 "metadata": {
  "kernelspec": {
   "display_name": "Python 3",
   "language": "python",
   "name": "python3"
  },
  "language_info": {
   "codemirror_mode": {
    "name": "ipython",
    "version": 3
   },
   "file_extension": ".py",
   "mimetype": "text/x-python",
   "name": "python",
   "nbconvert_exporter": "python",
   "pygments_lexer": "ipython3",
   "version": "3.7.6"
  }
 },
 "nbformat": 4,
 "nbformat_minor": 4
}
