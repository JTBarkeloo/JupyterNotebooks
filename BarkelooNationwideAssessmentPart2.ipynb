{
 "cells": [
  {
   "cell_type": "markdown",
   "metadata": {},
   "source": [
    "# Nationwide Application Assessment for Computational Telematics\n",
    "# Jason Barkeloo\n",
    "\n",
    "Now let's import necessary libraries. <br>\n",
    "numpy for various linear algebra libraries<br>\n",
    "pandas for convenient file reading as well as dataframe structures that are convenient to work with<br>\n",
    "matplotlib for various basic plots<br>\n",
    "geopy for geodesic distances used for calculations in part 1\n",
    "sklearn, keras (using locally installed tensorflow) for neural network applications"
   ]
  },
  {
   "cell_type": "code",
   "execution_count": 87,
   "metadata": {},
   "outputs": [],
   "source": [
    "import numpy as np\n",
    "import pandas as pd\n",
    "import matplotlib.pyplot as plt\n",
    "from geopy.distance import geodesic\n",
    "import sys\n",
    "import sklearn\n",
    "import keras\n",
    "from sklearn.model_selection import train_test_split\n",
    "from keras.models import Model,Sequential\n",
    "from keras.layers import Dense, Dropout, Input\n",
    "from keras.callbacks import EarlyStopping\n",
    "from sklearn.metrics import roc_curve,roc_auc_score\n",
    "from sklearn.preprocessing import LabelEncoder\n",
    "from sklearn.metrics import confusion_matrix\n",
    "import xgboost as xgb"
   ]
  },
  {
   "cell_type": "markdown",
   "metadata": {},
   "source": [
    "# Part 2 Modeling"
   ]
  },
  {
   "cell_type": "code",
   "execution_count": 2,
   "metadata": {},
   "outputs": [],
   "source": [
    "sim_sum_tot = pd.read_csv(r\"C:\\Users\\JTBar\\Documents\\Telematics Exercise Files\\simulated_summary_total.csv\")"
   ]
  },
  {
   "cell_type": "code",
   "execution_count": 3,
   "metadata": {},
   "outputs": [
    {
     "data": {
      "text/html": [
       "<div>\n",
       "<style scoped>\n",
       "    .dataframe tbody tr th:only-of-type {\n",
       "        vertical-align: middle;\n",
       "    }\n",
       "\n",
       "    .dataframe tbody tr th {\n",
       "        vertical-align: top;\n",
       "    }\n",
       "\n",
       "    .dataframe thead th {\n",
       "        text-align: right;\n",
       "    }\n",
       "</style>\n",
       "<table border=\"1\" class=\"dataframe\">\n",
       "  <thead>\n",
       "    <tr style=\"text-align: right;\">\n",
       "      <th></th>\n",
       "      <th>Vehicle</th>\n",
       "      <th>Days</th>\n",
       "      <th>Distance</th>\n",
       "      <th>HardBrakes</th>\n",
       "      <th>HardAccelerations</th>\n",
       "      <th>NightTime_Pct</th>\n",
       "      <th>VehicleType</th>\n",
       "      <th>Loss</th>\n",
       "    </tr>\n",
       "  </thead>\n",
       "  <tbody>\n",
       "    <tr>\n",
       "      <th>0</th>\n",
       "      <td>1</td>\n",
       "      <td>365</td>\n",
       "      <td>13114</td>\n",
       "      <td>152</td>\n",
       "      <td>56</td>\n",
       "      <td>0.005</td>\n",
       "      <td>SUV</td>\n",
       "      <td>0</td>\n",
       "    </tr>\n",
       "    <tr>\n",
       "      <th>1</th>\n",
       "      <td>2</td>\n",
       "      <td>365</td>\n",
       "      <td>18707</td>\n",
       "      <td>147</td>\n",
       "      <td>1</td>\n",
       "      <td>0.010</td>\n",
       "      <td>SUV</td>\n",
       "      <td>0</td>\n",
       "    </tr>\n",
       "    <tr>\n",
       "      <th>2</th>\n",
       "      <td>3</td>\n",
       "      <td>365</td>\n",
       "      <td>16659</td>\n",
       "      <td>151</td>\n",
       "      <td>127</td>\n",
       "      <td>0.019</td>\n",
       "      <td>Truck</td>\n",
       "      <td>0</td>\n",
       "    </tr>\n",
       "    <tr>\n",
       "      <th>3</th>\n",
       "      <td>4</td>\n",
       "      <td>365</td>\n",
       "      <td>13330</td>\n",
       "      <td>126</td>\n",
       "      <td>147</td>\n",
       "      <td>0.000</td>\n",
       "      <td>SUV</td>\n",
       "      <td>1</td>\n",
       "    </tr>\n",
       "    <tr>\n",
       "      <th>4</th>\n",
       "      <td>5</td>\n",
       "      <td>365</td>\n",
       "      <td>22533</td>\n",
       "      <td>10</td>\n",
       "      <td>11</td>\n",
       "      <td>0.001</td>\n",
       "      <td>Truck</td>\n",
       "      <td>0</td>\n",
       "    </tr>\n",
       "  </tbody>\n",
       "</table>\n",
       "</div>"
      ],
      "text/plain": [
       "   Vehicle  Days  Distance  HardBrakes  HardAccelerations  NightTime_Pct  \\\n",
       "0        1   365     13114         152                 56          0.005   \n",
       "1        2   365     18707         147                  1          0.010   \n",
       "2        3   365     16659         151                127          0.019   \n",
       "3        4   365     13330         126                147          0.000   \n",
       "4        5   365     22533          10                 11          0.001   \n",
       "\n",
       "  VehicleType  Loss  \n",
       "0         SUV     0  \n",
       "1         SUV     0  \n",
       "2       Truck     0  \n",
       "3         SUV     1  \n",
       "4       Truck     0  "
      ]
     },
     "execution_count": 3,
     "metadata": {},
     "output_type": "execute_result"
    }
   ],
   "source": [
    "sim_sum_tot.head()"
   ]
  },
  {
   "cell_type": "code",
   "execution_count": 4,
   "metadata": {},
   "outputs": [
    {
     "data": {
      "text/plain": [
       "VehicleType\n",
       "Car         9085\n",
       "Minivan     1520\n",
       "SUV         7463\n",
       "Truck      11932\n",
       "Name: Loss, dtype: int64"
      ]
     },
     "execution_count": 4,
     "metadata": {},
     "output_type": "execute_result"
    }
   ],
   "source": [
    "sim_sum_tot.groupby(['VehicleType'])['Loss'].count()"
   ]
  },
  {
   "cell_type": "markdown",
   "metadata": {},
   "source": [
    "\n",
    "This dataset contains 30,000 vehicles, of which 4031 have been in a collision.  For a further breakdown of how many vehicles have been in a collision by VehicleType:"
   ]
  },
  {
   "cell_type": "code",
   "execution_count": 5,
   "metadata": {},
   "outputs": [
    {
     "data": {
      "text/plain": [
       "VehicleType  Loss\n",
       "Car          0        7955\n",
       "             1        1130\n",
       "Minivan      0        1365\n",
       "             1         155\n",
       "SUV          0        6368\n",
       "             1        1095\n",
       "Truck        0       10281\n",
       "             1        1651\n",
       "Name: Loss, dtype: int64"
      ]
     },
     "execution_count": 5,
     "metadata": {},
     "output_type": "execute_result"
    }
   ],
   "source": [
    "sim_sum_tot.groupby(['VehicleType','Loss'])['Loss'].count()"
   ]
  },
  {
   "cell_type": "markdown",
   "metadata": {},
   "source": [
    "# (4) Is there a statistically significant difference between vehicle types?\n",
    "If we assume the loss populations are sampled from a binomial distribution with probability given by TotalLossPerType/TotalType a simple z-test can be conducted to determine if the null hypothesis, the distributions being 'sampled' from a similar distribution, can be rejected.  For a significance $\\alpha = 0.05$ a z-value greater than the critical value of 1.64 means the null hypothesis is rejected and the population proportions are statistically significantly different at the 0.05 significance level.  However, there is a nonzero chance that continually looking at distributions will result in a positive effect (The Look-Elsewhere effect) one way to combat this is to divide the significance value youre looking for by the number of unique trials (here 6) and using that critical value.  This then is $\\alpha = 0.083$ and chances $z_{critical}=2.64$.  However, the choice of p<0.05 rejecting the null hypothesis is a convention and the distinction here is somewhat arbitrary.  The conclusions that I draw depend on how liberal we want to be in the definition of statistical significance.\n",
    "\\begin{equation*}\n",
    "z   = \\frac{p_1 - p_2}{\\sqrt{p (1-p)(1/n_1 + 1/n_2)}}\n",
    "\\end{equation*}"
   ]
  },
  {
   "cell_type": "code",
   "execution_count": 6,
   "metadata": {},
   "outputs": [],
   "source": [
    "ProbDict={}\n",
    "ProbDict['Car']     = [1130.,9085.];\n",
    "ProbDict['Minivan'] = [155.,1520.] ;\n",
    "ProbDict['SUV']     = [1095.,7463.];\n",
    "ProbDict['Truck']   = [1651.,11932.];"
   ]
  },
  {
   "cell_type": "code",
   "execution_count": 7,
   "metadata": {},
   "outputs": [
    {
     "name": "stdout",
     "output_type": "stream",
     "text": [
      "z value for Car and Minivan: 2.48\n",
      "z value for Car and SUV: 4.19\n",
      "z value for Car and Truck: 2.96\n",
      "z value for Minivan and SUV: 4.59\n",
      "z value for Minivan and Truck: 3.92\n",
      "z value for SUV and Truck: 1.62\n"
     ]
    }
   ],
   "source": [
    "def calculateZ(ProbDict,Vehicle1,Vehicle2):\n",
    "    #Takes the total sample size of two distributions and number of 'favorable' cases here the Loss and returns a z-test value\n",
    "    n1=ProbDict[Vehicle1][1]\n",
    "    x1=ProbDict[Vehicle1][0]\n",
    "    n2=ProbDict[Vehicle2][1]\n",
    "    x2=ProbDict[Vehicle2][0]\n",
    "    p1 = x1/n1\n",
    "    p2 = x2/n2\n",
    "    p  = (x1+x2)/(n1+n2)\n",
    "    z  = np.abs(p1-p2)/np.sqrt(p*(1-p)*(1/n1+1/n2))\n",
    "    print('z value for %s and %s: %.2f'%(Vehicle1,Vehicle2,z))\n",
    "    return z\n",
    "usedKeys=[]\n",
    "for key in ProbDict:\n",
    "    usedKeys.append(key)\n",
    "    for key2 in ProbDict:\n",
    "        if key !=key2 and key2 not in usedKeys:\n",
    "            calculateZ(ProbDict,key,key2)\n",
    "    "
   ]
  },
  {
   "cell_type": "markdown",
   "metadata": {},
   "source": [
    "## Applying this z test for all possible combinations all combinations can be said to be statistically significant except for the combination of populations of Trucks and SUVs.  Including the Look-elsewhere effect also can bring back into statistical insignificance the combination of Cars/Minivans"
   ]
  },
  {
   "cell_type": "markdown",
   "metadata": {},
   "source": [
    "# (5) Are hard brakes and hard accelerations equally important in predicting risks?"
   ]
  },
  {
   "cell_type": "code",
   "execution_count": 8,
   "metadata": {},
   "outputs": [
    {
     "name": "stdout",
     "output_type": "stream",
     "text": [
      "Hard Brakes per Loss Event- Mean: 170.24, Stdev: 495.04, Median: 98.00 \n",
      "Hard Accelerations per Loss Event- Mean: 138.25, Stdev: 534.86, Median: 68.00 \n"
     ]
    }
   ],
   "source": [
    "print(\"Hard Brakes per Loss Event- Mean: %.2f, Stdev: %.2f, Median: %.2f \"%(sim_sum_tot[sim_sum_tot['Loss']==1]['HardBrakes'].mean(),sim_sum_tot[sim_sum_tot['Loss']==1]['HardBrakes'].std(), sim_sum_tot[sim_sum_tot['Loss']==1]['HardBrakes'].median()))\n",
    "print(\"Hard Accelerations per Loss Event- Mean: %.2f, Stdev: %.2f, Median: %.2f \"%(sim_sum_tot[sim_sum_tot['Loss']==1]['HardAccelerations'].mean(),sim_sum_tot[sim_sum_tot['Loss']==1]['HardAccelerations'].std(),sim_sum_tot[sim_sum_tot['Loss']==1]['HardAccelerations'].median()))"
   ]
  },
  {
   "cell_type": "code",
   "execution_count": 9,
   "metadata": {},
   "outputs": [
    {
     "name": "stdout",
     "output_type": "stream",
     "text": [
      "Hard Brakes per 0 Loss Event- Mean: 167.44, Stdev: 570.00, Median: 98.00 \n",
      "Hard Accelerations per 0 Loss Event- Mean: 104.53, Stdev: 376.43, Median: 56.00 \n"
     ]
    }
   ],
   "source": [
    "print(\"Hard Brakes per 0 Loss Event- Mean: %.2f, Stdev: %.2f, Median: %.2f \"%(sim_sum_tot[sim_sum_tot['Loss']==0]['HardBrakes'].mean(),sim_sum_tot[sim_sum_tot['Loss']==0]['HardBrakes'].std(), sim_sum_tot[sim_sum_tot['Loss']==0]['HardBrakes'].median()))\n",
    "print(\"Hard Accelerations per 0 Loss Event- Mean: %.2f, Stdev: %.2f, Median: %.2f \"%(sim_sum_tot[sim_sum_tot['Loss']==0]['HardAccelerations'].mean(),sim_sum_tot[sim_sum_tot['Loss']==0]['HardAccelerations'].std(),sim_sum_tot[sim_sum_tot['Loss']==0]['HardAccelerations'].median()))"
   ]
  },
  {
   "cell_type": "code",
   "execution_count": 10,
   "metadata": {},
   "outputs": [
    {
     "data": {
      "text/plain": [
       "<matplotlib.axes._subplots.AxesSubplot at 0x1eaadf1a948>"
      ]
     },
     "execution_count": 10,
     "metadata": {},
     "output_type": "execute_result"
    },
    {
     "data": {
      "image/png": "[encoded data removed]",
      "text/plain": [
       "<Figure size 432x288 with 1 Axes>"
      ]
     },
     "metadata": {
      "needs_background": "light"
     },
     "output_type": "display_data"
    }
   ],
   "source": [
    "sim_sum_tot[sim_sum_tot['Loss']==0]['HardAccelerations'].plot()"
   ]
  },
  {
   "cell_type": "code",
   "execution_count": 11,
   "metadata": {},
   "outputs": [
    {
     "data": {
      "text/html": [
       "<div>\n",
       "<style scoped>\n",
       "    .dataframe tbody tr th:only-of-type {\n",
       "        vertical-align: middle;\n",
       "    }\n",
       "\n",
       "    .dataframe tbody tr th {\n",
       "        vertical-align: top;\n",
       "    }\n",
       "\n",
       "    .dataframe thead th {\n",
       "        text-align: right;\n",
       "    }\n",
       "</style>\n",
       "<table border=\"1\" class=\"dataframe\">\n",
       "  <thead>\n",
       "    <tr style=\"text-align: right;\">\n",
       "      <th></th>\n",
       "      <th>Vehicle</th>\n",
       "      <th>Days</th>\n",
       "      <th>Distance</th>\n",
       "      <th>HardBrakes</th>\n",
       "      <th>HardAccelerations</th>\n",
       "      <th>NightTime_Pct</th>\n",
       "      <th>Loss</th>\n",
       "    </tr>\n",
       "  </thead>\n",
       "  <tbody>\n",
       "    <tr>\n",
       "      <th>count</th>\n",
       "      <td>4031.000000</td>\n",
       "      <td>4031.0</td>\n",
       "      <td>4031.000000</td>\n",
       "      <td>4031.000000</td>\n",
       "      <td>4031.000000</td>\n",
       "      <td>4031.000000</td>\n",
       "      <td>4031.0</td>\n",
       "    </tr>\n",
       "    <tr>\n",
       "      <th>mean</th>\n",
       "      <td>15052.420491</td>\n",
       "      <td>365.0</td>\n",
       "      <td>14757.022823</td>\n",
       "      <td>170.241131</td>\n",
       "      <td>138.251054</td>\n",
       "      <td>0.031782</td>\n",
       "      <td>1.0</td>\n",
       "    </tr>\n",
       "    <tr>\n",
       "      <th>std</th>\n",
       "      <td>8614.665175</td>\n",
       "      <td>0.0</td>\n",
       "      <td>4514.713625</td>\n",
       "      <td>495.044167</td>\n",
       "      <td>534.856132</td>\n",
       "      <td>0.054822</td>\n",
       "      <td>0.0</td>\n",
       "    </tr>\n",
       "    <tr>\n",
       "      <th>min</th>\n",
       "      <td>4.000000</td>\n",
       "      <td>365.0</td>\n",
       "      <td>2488.000000</td>\n",
       "      <td>0.000000</td>\n",
       "      <td>0.000000</td>\n",
       "      <td>0.000000</td>\n",
       "      <td>1.0</td>\n",
       "    </tr>\n",
       "    <tr>\n",
       "      <th>25%</th>\n",
       "      <td>7653.500000</td>\n",
       "      <td>365.0</td>\n",
       "      <td>11550.500000</td>\n",
       "      <td>41.000000</td>\n",
       "      <td>25.000000</td>\n",
       "      <td>0.001000</td>\n",
       "      <td>1.0</td>\n",
       "    </tr>\n",
       "    <tr>\n",
       "      <th>50%</th>\n",
       "      <td>15071.000000</td>\n",
       "      <td>365.0</td>\n",
       "      <td>14369.000000</td>\n",
       "      <td>98.000000</td>\n",
       "      <td>68.000000</td>\n",
       "      <td>0.008000</td>\n",
       "      <td>1.0</td>\n",
       "    </tr>\n",
       "    <tr>\n",
       "      <th>75%</th>\n",
       "      <td>22361.000000</td>\n",
       "      <td>365.0</td>\n",
       "      <td>17477.500000</td>\n",
       "      <td>208.000000</td>\n",
       "      <td>159.000000</td>\n",
       "      <td>0.038000</td>\n",
       "      <td>1.0</td>\n",
       "    </tr>\n",
       "    <tr>\n",
       "      <th>max</th>\n",
       "      <td>29981.000000</td>\n",
       "      <td>365.0</td>\n",
       "      <td>34805.000000</td>\n",
       "      <td>16315.000000</td>\n",
       "      <td>24629.000000</td>\n",
       "      <td>0.761000</td>\n",
       "      <td>1.0</td>\n",
       "    </tr>\n",
       "  </tbody>\n",
       "</table>\n",
       "</div>"
      ],
      "text/plain": [
       "            Vehicle    Days      Distance    HardBrakes  HardAccelerations  \\\n",
       "count   4031.000000  4031.0   4031.000000   4031.000000        4031.000000   \n",
       "mean   15052.420491   365.0  14757.022823    170.241131         138.251054   \n",
       "std     8614.665175     0.0   4514.713625    495.044167         534.856132   \n",
       "min        4.000000   365.0   2488.000000      0.000000           0.000000   \n",
       "25%     7653.500000   365.0  11550.500000     41.000000          25.000000   \n",
       "50%    15071.000000   365.0  14369.000000     98.000000          68.000000   \n",
       "75%    22361.000000   365.0  17477.500000    208.000000         159.000000   \n",
       "max    29981.000000   365.0  34805.000000  16315.000000       24629.000000   \n",
       "\n",
       "       NightTime_Pct    Loss  \n",
       "count    4031.000000  4031.0  \n",
       "mean        0.031782     1.0  \n",
       "std         0.054822     0.0  \n",
       "min         0.000000     1.0  \n",
       "25%         0.001000     1.0  \n",
       "50%         0.008000     1.0  \n",
       "75%         0.038000     1.0  \n",
       "max         0.761000     1.0  "
      ]
     },
     "execution_count": 11,
     "metadata": {},
     "output_type": "execute_result"
    }
   ],
   "source": [
    "sim_sum_tot[sim_sum_tot['Loss']==1].describe()"
   ]
  },
  {
   "cell_type": "code",
   "execution_count": 12,
   "metadata": {
    "scrolled": true
   },
   "outputs": [
    {
     "data": {
      "text/html": [
       "<div>\n",
       "<style scoped>\n",
       "    .dataframe tbody tr th:only-of-type {\n",
       "        vertical-align: middle;\n",
       "    }\n",
       "\n",
       "    .dataframe tbody tr th {\n",
       "        vertical-align: top;\n",
       "    }\n",
       "\n",
       "    .dataframe thead th {\n",
       "        text-align: right;\n",
       "    }\n",
       "</style>\n",
       "<table border=\"1\" class=\"dataframe\">\n",
       "  <thead>\n",
       "    <tr style=\"text-align: right;\">\n",
       "      <th></th>\n",
       "      <th>Vehicle</th>\n",
       "      <th>Days</th>\n",
       "      <th>Distance</th>\n",
       "      <th>HardBrakes</th>\n",
       "      <th>HardAccelerations</th>\n",
       "      <th>NightTime_Pct</th>\n",
       "      <th>Loss</th>\n",
       "    </tr>\n",
       "  </thead>\n",
       "  <tbody>\n",
       "    <tr>\n",
       "      <th>count</th>\n",
       "      <td>25969.000000</td>\n",
       "      <td>25969.0</td>\n",
       "      <td>25969.000000</td>\n",
       "      <td>25969.000000</td>\n",
       "      <td>25969.000000</td>\n",
       "      <td>25969.000000</td>\n",
       "      <td>25969.0</td>\n",
       "    </tr>\n",
       "    <tr>\n",
       "      <th>mean</th>\n",
       "      <td>14992.440718</td>\n",
       "      <td>365.0</td>\n",
       "      <td>13440.090762</td>\n",
       "      <td>167.442951</td>\n",
       "      <td>104.528130</td>\n",
       "      <td>0.029429</td>\n",
       "      <td>0.0</td>\n",
       "    </tr>\n",
       "    <tr>\n",
       "      <th>std</th>\n",
       "      <td>8667.612853</td>\n",
       "      <td>0.0</td>\n",
       "      <td>4204.589699</td>\n",
       "      <td>569.999916</td>\n",
       "      <td>376.432155</td>\n",
       "      <td>0.054906</td>\n",
       "      <td>0.0</td>\n",
       "    </tr>\n",
       "    <tr>\n",
       "      <th>min</th>\n",
       "      <td>1.000000</td>\n",
       "      <td>365.0</td>\n",
       "      <td>2911.000000</td>\n",
       "      <td>0.000000</td>\n",
       "      <td>0.000000</td>\n",
       "      <td>0.000000</td>\n",
       "      <td>0.0</td>\n",
       "    </tr>\n",
       "    <tr>\n",
       "      <th>25%</th>\n",
       "      <td>7477.000000</td>\n",
       "      <td>365.0</td>\n",
       "      <td>10405.000000</td>\n",
       "      <td>39.000000</td>\n",
       "      <td>20.000000</td>\n",
       "      <td>0.001000</td>\n",
       "      <td>0.0</td>\n",
       "    </tr>\n",
       "    <tr>\n",
       "      <th>50%</th>\n",
       "      <td>14992.000000</td>\n",
       "      <td>365.0</td>\n",
       "      <td>13039.000000</td>\n",
       "      <td>98.000000</td>\n",
       "      <td>56.000000</td>\n",
       "      <td>0.007000</td>\n",
       "      <td>0.0</td>\n",
       "    </tr>\n",
       "    <tr>\n",
       "      <th>75%</th>\n",
       "      <td>22530.000000</td>\n",
       "      <td>365.0</td>\n",
       "      <td>16028.000000</td>\n",
       "      <td>205.000000</td>\n",
       "      <td>129.000000</td>\n",
       "      <td>0.033000</td>\n",
       "      <td>0.0</td>\n",
       "    </tr>\n",
       "    <tr>\n",
       "      <th>max</th>\n",
       "      <td>30000.000000</td>\n",
       "      <td>365.0</td>\n",
       "      <td>35159.000000</td>\n",
       "      <td>35639.000000</td>\n",
       "      <td>38221.000000</td>\n",
       "      <td>0.888000</td>\n",
       "      <td>0.0</td>\n",
       "    </tr>\n",
       "  </tbody>\n",
       "</table>\n",
       "</div>"
      ],
      "text/plain": [
       "            Vehicle     Days      Distance    HardBrakes  HardAccelerations  \\\n",
       "count  25969.000000  25969.0  25969.000000  25969.000000       25969.000000   \n",
       "mean   14992.440718    365.0  13440.090762    167.442951         104.528130   \n",
       "std     8667.612853      0.0   4204.589699    569.999916         376.432155   \n",
       "min        1.000000    365.0   2911.000000      0.000000           0.000000   \n",
       "25%     7477.000000    365.0  10405.000000     39.000000          20.000000   \n",
       "50%    14992.000000    365.0  13039.000000     98.000000          56.000000   \n",
       "75%    22530.000000    365.0  16028.000000    205.000000         129.000000   \n",
       "max    30000.000000    365.0  35159.000000  35639.000000       38221.000000   \n",
       "\n",
       "       NightTime_Pct     Loss  \n",
       "count   25969.000000  25969.0  \n",
       "mean        0.029429      0.0  \n",
       "std         0.054906      0.0  \n",
       "min         0.000000      0.0  \n",
       "25%         0.001000      0.0  \n",
       "50%         0.007000      0.0  \n",
       "75%         0.033000      0.0  \n",
       "max         0.888000      0.0  "
      ]
     },
     "execution_count": 12,
     "metadata": {},
     "output_type": "execute_result"
    }
   ],
   "source": [
    "sim_sum_tot[sim_sum_tot['Loss']==0].describe()"
   ]
  },
  {
   "cell_type": "markdown",
   "metadata": {},
   "source": [
    "# Model\n",
    "This model will be employing a densely connected feed forward neural network for event classification\n",
    "Activation functions: \n",
    "    rectified linear unit (ReLU) activation function such that the gradients of activation functions will not diminish as you increase the depth of the network\n",
    "    sigmoid activation function is applied to the output layer as is standard for classification problems\n",
    "    \n",
    "Loss/Response Function:\n",
    "    Binary Cross Entropy will be used to calculate the predicted probability (probability of correct classification based on the input values)  Larger predicted probabilites correspond to lower response function values for correctly identified events.\n",
    "\n",
    "Optimization Function:\n",
    "    Adam (Adaptive moment estimation) Optimizer which is the standard efficient optimization function that calulates adaptive learning rates for all parameters in the network.  It computes exponentially weighted averages of past gradients and squares of gradients\n",
    "    \n",
    "I'll split up the input dataset into 2 dataframes, X:the useful input values (dropping Loss as it is the classifier, Vehicle which is effectively an index, and Days which is 365 for every row, and y: the truth value of loss prediction\n",
    "\n",
    "First I'll show an extremely naive approach just taking in the disparate raw datasets before moving onto using the same approach with oversampled minority case events using both the SMOTE and ADASYN oversampling techniques."
   ]
  },
  {
   "cell_type": "code",
   "execution_count": 69,
   "metadata": {},
   "outputs": [],
   "source": [
    "sim_sum_tot = sim_sum_tot.replace(\"Car\", 0)\n",
    "sim_sum_tot = sim_sum_tot.replace(\"SUV\", 1)\n",
    "sim_sum_tot = sim_sum_tot.replace(\"Truck\", 2)\n",
    "sim_sum_tot = sim_sum_tot.replace(\"Minivan\", 3)\n",
    "\n",
    "X = sim_sum_tot.drop(['Loss','Vehicle', 'Days'], axis=1)\n",
    "y = sim_sum_tot['Loss']"
   ]
  },
  {
   "cell_type": "code",
   "execution_count": 70,
   "metadata": {},
   "outputs": [],
   "source": [
    "#splitting up the signal and background datasets into training sets, testing sets, and validation sets. \n",
    "#This splits into 64% to be used for training and 16% testing and 16% validation\n",
    "ix = range(y.shape[0]) \n",
    "X_train, X_test, y_train, y_test, ix_train, ix_test = train_test_split(X, y, ix, train_size=0.8)\n",
    "X_train, X_val,y_train, y_val,ix_train, ix_val=train_test_split(X_train,y_train,ix_train,test_size=0.2)"
   ]
  },
  {
   "cell_type": "code",
   "execution_count": 71,
   "metadata": {},
   "outputs": [],
   "source": [
    "#Neural networks prefer inputs that are similar to each other while at the same time as normally distributed as possible\n",
    "#sklearn has a variety of scalers that can be used to perform this transformation, here I use RobustScalar\n",
    "from sklearn.preprocessing import RobustScaler\n",
    "scaler = RobustScaler()\n",
    "X_train = scaler.fit_transform(X_train)\n",
    "X_val = scaler.transform(X_val)\n",
    "X_test = scaler.transform(X_test)"
   ]
  },
  {
   "cell_type": "code",
   "execution_count": 72,
   "metadata": {},
   "outputs": [],
   "source": [
    "#A Function for making various depths and complexities of dense neural networks\n",
    "def DNNmodel(Input_shape=(10,), n_hidden=1, n_nodesHidden=20, dropout=0.2, optimizer='adam'):\n",
    "        inputs=Input(shape=Input_shape)\n",
    "        i=0\n",
    "        if n_hidden>0:\n",
    "                hidden=Dense(n_nodesHidden, activation='relu')(inputs)\n",
    "                hidden=Dropout(dropout)(hidden)\n",
    "                i+=1\n",
    "        while i<n_hidden:\n",
    "                hidden=Dense(n_nodesHidden, activation='relu')(hidden)\n",
    "                hidden=Dropout(dropout)(hidden)\n",
    "                i+=1\n",
    "        outputs = Dense(1,activation='sigmoid')(hidden)\n",
    "        model = Model(inputs,outputs)\n",
    "        model.compile(optimizer=optimizer, loss='binary_crossentropy', metrics=['accuracy'])\n",
    "        model.summary()\n",
    "        return model"
   ]
  },
  {
   "cell_type": "code",
   "execution_count": 73,
   "metadata": {},
   "outputs": [
    {
     "name": "stdout",
     "output_type": "stream",
     "text": [
      "Model: \"model_4\"\n",
      "_________________________________________________________________\n",
      "Layer (type)                 Output Shape              Param #   \n",
      "=================================================================\n",
      "input_4 (InputLayer)         (None, 5)                 0         \n",
      "_________________________________________________________________\n",
      "dense_12 (Dense)             (None, 20)                120       \n",
      "_________________________________________________________________\n",
      "dropout_9 (Dropout)          (None, 20)                0         \n",
      "_________________________________________________________________\n",
      "dense_13 (Dense)             (None, 20)                420       \n",
      "_________________________________________________________________\n",
      "dropout_10 (Dropout)         (None, 20)                0         \n",
      "_________________________________________________________________\n",
      "dense_14 (Dense)             (None, 1)                 21        \n",
      "=================================================================\n",
      "Total params: 561\n",
      "Trainable params: 561\n",
      "Non-trainable params: 0\n",
      "_________________________________________________________________\n"
     ]
    }
   ],
   "source": [
    "model = DNNmodel(Input_shape=(5,),n_hidden=2)"
   ]
  },
  {
   "cell_type": "code",
   "execution_count": 74,
   "metadata": {},
   "outputs": [
    {
     "name": "stdout",
     "output_type": "stream",
     "text": [
      "Train on 19200 samples, validate on 4800 samples\n",
      "Epoch 1/50\n",
      "19200/19200 [==============================] - 2s 97us/step - loss: 0.4191 - accuracy: 0.8648 - val_loss: 0.3825 - val_accuracy: 0.8700\n",
      "Epoch 2/50\n",
      "19200/19200 [==============================] - 2s 84us/step - loss: 0.3986 - accuracy: 0.8653 - val_loss: 0.3821 - val_accuracy: 0.8698\n",
      "Epoch 3/50\n",
      "19200/19200 [==============================] - 2s 86us/step - loss: 0.3980 - accuracy: 0.8650 - val_loss: 0.3815 - val_accuracy: 0.8700\n",
      "Epoch 4/50\n",
      "19200/19200 [==============================] - 2s 88us/step - loss: 0.3953 - accuracy: 0.8652 - val_loss: 0.3821 - val_accuracy: 0.8700\n",
      "Epoch 5/50\n",
      "19200/19200 [==============================] - 2s 89us/step - loss: 0.3964 - accuracy: 0.8652 - val_loss: 0.3827 - val_accuracy: 0.8700\n",
      "Epoch 6/50\n",
      "19200/19200 [==============================] - 2s 86us/step - loss: 0.3929 - accuracy: 0.8653 - val_loss: 0.3846 - val_accuracy: 0.8700\n",
      "Epoch 7/50\n",
      "19200/19200 [==============================] - 2s 84us/step - loss: 0.3943 - accuracy: 0.8651 - val_loss: 0.3807 - val_accuracy: 0.8700\n",
      "Epoch 8/50\n",
      "19200/19200 [==============================] - 2s 86us/step - loss: 0.3923 - accuracy: 0.8650 - val_loss: 0.3806 - val_accuracy: 0.8700\n",
      "Epoch 9/50\n",
      "19200/19200 [==============================] - 2s 84us/step - loss: 0.3925 - accuracy: 0.8651 - val_loss: 0.3806 - val_accuracy: 0.8700\n",
      "Epoch 10/50\n",
      "19200/19200 [==============================] - 2s 86us/step - loss: 0.3923 - accuracy: 0.8651 - val_loss: 0.3804 - val_accuracy: 0.8700\n",
      "Epoch 11/50\n",
      "19200/19200 [==============================] - 2s 80us/step - loss: 0.3904 - accuracy: 0.8652 - val_loss: 0.3814 - val_accuracy: 0.8700\n",
      "Epoch 12/50\n",
      "19200/19200 [==============================] - 2s 80us/step - loss: 0.3908 - accuracy: 0.8651 - val_loss: 0.3804 - val_accuracy: 0.8700\n",
      "Epoch 13/50\n",
      "19200/19200 [==============================] - 2s 83us/step - loss: 0.3911 - accuracy: 0.8652 - val_loss: 0.3809 - val_accuracy: 0.8700\n",
      "Epoch 14/50\n",
      "19200/19200 [==============================] - 2s 84us/step - loss: 0.3900 - accuracy: 0.8652 - val_loss: 0.3801 - val_accuracy: 0.8700\n",
      "Epoch 15/50\n",
      "19200/19200 [==============================] - 2s 83us/step - loss: 0.3888 - accuracy: 0.8652 - val_loss: 0.3820 - val_accuracy: 0.8700\n",
      "Epoch 16/50\n",
      "19200/19200 [==============================] - 2s 84us/step - loss: 0.3887 - accuracy: 0.8651 - val_loss: 0.3808 - val_accuracy: 0.8700\n",
      "Epoch 17/50\n",
      "19200/19200 [==============================] - 2s 82us/step - loss: 0.3898 - accuracy: 0.8653 - val_loss: 0.3799 - val_accuracy: 0.8700\n",
      "Epoch 18/50\n",
      "19200/19200 [==============================] - 2s 83us/step - loss: 0.3898 - accuracy: 0.8652 - val_loss: 0.3800 - val_accuracy: 0.8700\n",
      "Epoch 19/50\n",
      "19200/19200 [==============================] - 2s 85us/step - loss: 0.3885 - accuracy: 0.8652 - val_loss: 0.3811 - val_accuracy: 0.8700\n",
      "Epoch 20/50\n",
      "19200/19200 [==============================] - 2s 81us/step - loss: 0.3882 - accuracy: 0.8651 - val_loss: 0.3802 - val_accuracy: 0.8700\n",
      "Epoch 21/50\n",
      "19200/19200 [==============================] - 2s 81us/step - loss: 0.3898 - accuracy: 0.8651 - val_loss: 0.3810 - val_accuracy: 0.8700\n",
      "Epoch 22/50\n",
      "19200/19200 [==============================] - 2s 81us/step - loss: 0.3890 - accuracy: 0.8651 - val_loss: 0.3810 - val_accuracy: 0.8700\n",
      "Epoch 23/50\n",
      "19200/19200 [==============================] - 2s 86us/step - loss: 0.3886 - accuracy: 0.8651 - val_loss: 0.3813 - val_accuracy: 0.8700\n",
      "Epoch 24/50\n",
      "19200/19200 [==============================] - 2s 83us/step - loss: 0.3885 - accuracy: 0.8652 - val_loss: 0.3808 - val_accuracy: 0.8700\n",
      "Epoch 25/50\n",
      "19200/19200 [==============================] - 2s 83us/step - loss: 0.3891 - accuracy: 0.8652 - val_loss: 0.3803 - val_accuracy: 0.8700\n",
      "Epoch 26/50\n",
      "19200/19200 [==============================] - 2s 88us/step - loss: 0.3887 - accuracy: 0.8652 - val_loss: 0.3811 - val_accuracy: 0.8700\n",
      "Epoch 27/50\n",
      "19200/19200 [==============================] - 2s 83us/step - loss: 0.3879 - accuracy: 0.8652 - val_loss: 0.3809 - val_accuracy: 0.8700\n",
      "Epoch 00027: early stopping\n"
     ]
    },
    {
     "data": {
      "text/plain": [
       "<keras.callbacks.callbacks.History at 0x1eaaec4dcc8>"
      ]
     },
     "execution_count": 74,
     "metadata": {},
     "output_type": "execute_result"
    }
   ],
   "source": [
    "model.fit(X_train,y_train,epochs=50,callbacks=[EarlyStopping(verbose=True,patience=10,monitor='val_loss')], validation_data=(X_val, y_val),batch_size=10)"
   ]
  },
  {
   "cell_type": "code",
   "execution_count": 75,
   "metadata": {},
   "outputs": [
    {
     "name": "stdout",
     "output_type": "stream",
     "text": [
      "history keys:  dict_keys(['val_loss', 'val_accuracy', 'loss', 'accuracy'])\n"
     ]
    }
   ],
   "source": [
    "history = model.history.history\n",
    "print(\"history keys: \", history.keys())"
   ]
  },
  {
   "cell_type": "code",
   "execution_count": 76,
   "metadata": {},
   "outputs": [
    {
     "data": {
      "text/plain": [
       "<matplotlib.legend.Legend at 0x1eab17f98c8>"
      ]
     },
     "execution_count": 76,
     "metadata": {},
     "output_type": "execute_result"
    },
    {
     "data": {
      "image/png": "[encoded data removed]",
      "text/plain": [
       "<Figure size 432x288 with 1 Axes>"
      ]
     },
     "metadata": {
      "needs_background": "light"
     },
     "output_type": "display_data"
    }
   ],
   "source": [
    "#Accuracy plot\n",
    "plt.plot(100 * np.array(history['accuracy']), label='training')\n",
    "plt.plot(100 * np.array(history['val_accuracy']), label='validation')\n",
    "plt.xlim(0)\n",
    "plt.xlabel('epoch')\n",
    "plt.ylabel('accuracy %')\n",
    "plt.legend(loc='lower right', fontsize=20)\n"
   ]
  },
  {
   "cell_type": "code",
   "execution_count": 77,
   "metadata": {},
   "outputs": [
    {
     "name": "stdout",
     "output_type": "stream",
     "text": [
      "6000/6000 [==============================] - 0s 14us/step\n"
     ]
    }
   ],
   "source": [
    "yhat = model.predict(X_test, verbose = True, batch_size = 512) "
   ]
  },
  {
   "cell_type": "code",
   "execution_count": 78,
   "metadata": {},
   "outputs": [],
   "source": [
    "yhat_cls = np.argmax(yhat, axis=1)"
   ]
  },
  {
   "cell_type": "code",
   "execution_count": 79,
   "metadata": {},
   "outputs": [
    {
     "data": {
      "text/plain": [
       "Text(0, 0.5, 'Events')"
      ]
     },
     "execution_count": 79,
     "metadata": {},
     "output_type": "execute_result"
    },
    {
     "data": {
      "image/png": "[encoded data removed]",
      "text/plain": [
       "<Figure size 432x288 with 1 Axes>"
      ]
     },
     "metadata": {
      "needs_background": "light"
     },
     "output_type": "display_data"
    }
   ],
   "source": [
    "bins = np.linspace(0, 1, 20)\n",
    "_ = plt.hist(yhat[y_test==1], histtype='stepfilled', alpha=0.5, color='red', label=r\"Loss\", bins=bins)\n",
    "_ = plt.hist(yhat[y_test==0], histtype='stepfilled', alpha=0.5, color='blue', label=r'NoLoss', bins=bins)\n",
    "plt.axvline(x=0.5, linestyle='--')\n",
    "plt.legend(loc='upper right', fontsize=20)\n",
    "plt.xlabel('P(Loss Event)', fontsize='large')\n",
    "plt.ylabel('Events', fontsize='large')"
   ]
  },
  {
   "cell_type": "code",
   "execution_count": 80,
   "metadata": {},
   "outputs": [
    {
     "name": "stdout",
     "output_type": "stream",
     "text": [
      "Loss Event Accuracy: 0.0%\n"
     ]
    }
   ],
   "source": [
    "LossAcc = yhat[y_test==1].round().sum()/y_test.sum()\n",
    "print(\"Loss Event Accuracy: %.1f%%\" %(LossAcc*100))"
   ]
  },
  {
   "cell_type": "markdown",
   "metadata": {},
   "source": [
    "It is obvious from this that the neural network, at least with the sample given is not sufficient without taking into consideration the disparate nature of the signal/background like events. Even though there is clearly a shape difference in the distributions all events are classified as 'No Loss' because of the large pull from the significant number of 'No Loss' events compared to 'Loss' Events.  The network accuracy goes to the percentage of events in the majority case while classifying all signal events incorrectly. To account for this I will preform oversampling\n",
    "\n",
    "# Resampling, NN part 2\n",
    "Let's try to do some resampling using Adaptive Synthetic Sampling, focuses on data that are hard to learn, fills in more edge cases than the next technique (SMOTE) which fills more linearlly between events.\n",
    "https://imbalanced-learn.readthedocs.io/en/stable/generated/imblearn.over_sampling.ADASYN.html"
   ]
  },
  {
   "cell_type": "code",
   "execution_count": 81,
   "metadata": {},
   "outputs": [
    {
     "data": {
      "text/plain": [
       "array([16612, 16183], dtype=int64)"
      ]
     },
     "execution_count": 81,
     "metadata": {},
     "output_type": "execute_result"
    }
   ],
   "source": [
    "#Upscale the minority class such that each class has roughly equal representation\n",
    "from imblearn.over_sampling import ADASYN\n",
    "adasyn = ADASYN(sampling_strategy=\"auto\")\n",
    "X_train_adasyn, y_train_adasyn = adasyn.fit_resample(X_train, y_train)\n",
    "np.bincount(y_train_adasyn)"
   ]
  },
  {
   "cell_type": "code",
   "execution_count": 82,
   "metadata": {},
   "outputs": [
    {
     "name": "stdout",
     "output_type": "stream",
     "text": [
      "Model: \"model_5\"\n",
      "_________________________________________________________________\n",
      "Layer (type)                 Output Shape              Param #   \n",
      "=================================================================\n",
      "input_5 (InputLayer)         (None, 5)                 0         \n",
      "_________________________________________________________________\n",
      "dense_15 (Dense)             (None, 20)                120       \n",
      "_________________________________________________________________\n",
      "dropout_11 (Dropout)         (None, 20)                0         \n",
      "_________________________________________________________________\n",
      "dense_16 (Dense)             (None, 20)                420       \n",
      "_________________________________________________________________\n",
      "dropout_12 (Dropout)         (None, 20)                0         \n",
      "_________________________________________________________________\n",
      "dense_17 (Dense)             (None, 20)                420       \n",
      "_________________________________________________________________\n",
      "dropout_13 (Dropout)         (None, 20)                0         \n",
      "_________________________________________________________________\n",
      "dense_18 (Dense)             (None, 1)                 21        \n",
      "=================================================================\n",
      "Total params: 981\n",
      "Trainable params: 981\n",
      "Non-trainable params: 0\n",
      "_________________________________________________________________\n",
      "Train on 32795 samples, validate on 4800 samples\n",
      "Epoch 1/100\n",
      "32795/32795 [==============================] - 3s 95us/step - loss: 0.6912 - accuracy: 0.5411 - val_loss: 0.7035 - val_accuracy: 0.5029\n",
      "Epoch 2/100\n",
      "32795/32795 [==============================] - 3s 88us/step - loss: 0.6855 - accuracy: 0.5545 - val_loss: 0.6831 - val_accuracy: 0.5788\n",
      "Epoch 3/100\n",
      "32795/32795 [==============================] - 3s 87us/step - loss: 0.6832 - accuracy: 0.5586 - val_loss: 0.7025 - val_accuracy: 0.4673\n",
      "Epoch 4/100\n",
      "32795/32795 [==============================] - 3s 87us/step - loss: 0.6836 - accuracy: 0.5626 - val_loss: 0.6947 - val_accuracy: 0.5367\n",
      "Epoch 5/100\n",
      "32795/32795 [==============================] - 3s 87us/step - loss: 0.6816 - accuracy: 0.5676 - val_loss: 0.6501 - val_accuracy: 0.5854\n",
      "Epoch 6/100\n",
      "32795/32795 [==============================] - 3s 87us/step - loss: 0.6808 - accuracy: 0.5659 - val_loss: 0.6632 - val_accuracy: 0.5660\n",
      "Epoch 7/100\n",
      "32795/32795 [==============================] - 3s 89us/step - loss: 0.6799 - accuracy: 0.5689 - val_loss: 0.6600 - val_accuracy: 0.5844\n",
      "Epoch 8/100\n",
      "32795/32795 [==============================] - 3s 89us/step - loss: 0.6800 - accuracy: 0.5686 - val_loss: 0.6982 - val_accuracy: 0.5042\n",
      "Epoch 9/100\n",
      "32795/32795 [==============================] - 3s 87us/step - loss: 0.6793 - accuracy: 0.5682 - val_loss: 0.6729 - val_accuracy: 0.5496\n",
      "Epoch 10/100\n",
      "32795/32795 [==============================] - 3s 87us/step - loss: 0.6789 - accuracy: 0.5712 - val_loss: 0.6780 - val_accuracy: 0.5185\n",
      "Epoch 11/100\n",
      "32795/32795 [==============================] - 3s 87us/step - loss: 0.6785 - accuracy: 0.5725 - val_loss: 0.6569 - val_accuracy: 0.5698\n",
      "Epoch 12/100\n",
      "32795/32795 [==============================] - 3s 91us/step - loss: 0.6782 - accuracy: 0.5711 - val_loss: 0.6847 - val_accuracy: 0.5015\n",
      "Epoch 13/100\n",
      "32795/32795 [==============================] - 3s 87us/step - loss: 0.6784 - accuracy: 0.5735 - val_loss: 0.6687 - val_accuracy: 0.5354\n",
      "Epoch 14/100\n",
      "32795/32795 [==============================] - 3s 89us/step - loss: 0.6784 - accuracy: 0.5723 - val_loss: 0.6708 - val_accuracy: 0.5227\n",
      "Epoch 15/100\n",
      "32795/32795 [==============================] - 3s 90us/step - loss: 0.6775 - accuracy: 0.5732 - val_loss: 0.6523 - val_accuracy: 0.5631\n",
      "Epoch 16/100\n",
      "32795/32795 [==============================] - 3s 87us/step - loss: 0.6766 - accuracy: 0.5725 - val_loss: 0.6808 - val_accuracy: 0.5038\n",
      "Epoch 17/100\n",
      "32795/32795 [==============================] - 3s 92us/step - loss: 0.6768 - accuracy: 0.5708 - val_loss: 0.6629 - val_accuracy: 0.5556\n",
      "Epoch 18/100\n",
      "32795/32795 [==============================] - 3s 89us/step - loss: 0.6771 - accuracy: 0.5698 - val_loss: 0.6556 - val_accuracy: 0.5829\n",
      "Epoch 19/100\n",
      "32795/32795 [==============================] - 3s 90us/step - loss: 0.6758 - accuracy: 0.5755 - val_loss: 0.6926 - val_accuracy: 0.5258\n",
      "Epoch 20/100\n",
      "32795/32795 [==============================] - 3s 88us/step - loss: 0.6757 - accuracy: 0.5721 - val_loss: 0.6944 - val_accuracy: 0.5246\n",
      "Epoch 21/100\n",
      "32795/32795 [==============================] - 3s 86us/step - loss: 0.6764 - accuracy: 0.5726 - val_loss: 0.6632 - val_accuracy: 0.5579\n",
      "Epoch 22/100\n",
      "32795/32795 [==============================] - 3s 88us/step - loss: 0.6765 - accuracy: 0.5713 - val_loss: 0.6670 - val_accuracy: 0.5581\n",
      "Epoch 23/100\n",
      "32795/32795 [==============================] - 3s 86us/step - loss: 0.6746 - accuracy: 0.5751 - val_loss: 0.6579 - val_accuracy: 0.5910\n",
      "Epoch 24/100\n",
      "32795/32795 [==============================] - 3s 88us/step - loss: 0.6763 - accuracy: 0.5751 - val_loss: 0.6666 - val_accuracy: 0.5644\n",
      "Epoch 25/100\n",
      "32795/32795 [==============================] - 3s 87us/step - loss: 0.6751 - accuracy: 0.5741 - val_loss: 0.6778 - val_accuracy: 0.5165\n",
      "Epoch 00025: early stopping\n"
     ]
    },
    {
     "data": {
      "text/plain": [
       "<keras.callbacks.callbacks.History at 0x1eab80f9b88>"
      ]
     },
     "execution_count": 82,
     "metadata": {},
     "output_type": "execute_result"
    }
   ],
   "source": [
    "model = DNNmodel(Input_shape=(5,),n_hidden=3);\n",
    "model.fit(X_train_adasyn,y_train_adasyn,epochs=100,callbacks=[EarlyStopping(verbose=True,patience=20,monitor='val_loss')], validation_data=(X_val, y_val),batch_size=10)"
   ]
  },
  {
   "cell_type": "code",
   "execution_count": 83,
   "metadata": {},
   "outputs": [
    {
     "name": "stdout",
     "output_type": "stream",
     "text": [
      "history keys:  dict_keys(['val_loss', 'val_accuracy', 'loss', 'accuracy'])\n"
     ]
    },
    {
     "data": {
      "text/plain": [
       "<matplotlib.legend.Legend at 0x1eab60a5548>"
      ]
     },
     "execution_count": 83,
     "metadata": {},
     "output_type": "execute_result"
    },
    {
     "data": {
      "image/png": "[encoded data removed]",
      "text/plain": [
       "<Figure size 432x288 with 1 Axes>"
      ]
     },
     "metadata": {
      "needs_background": "light"
     },
     "output_type": "display_data"
    }
   ],
   "source": [
    "history = model.history.history\n",
    "print(\"history keys: \", history.keys())\n",
    "#Accuracy plot\n",
    "plt.plot(100 * np.array(history['accuracy']), label='training')\n",
    "plt.plot(100 * np.array(history['val_accuracy']), label='validation')\n",
    "plt.xlim(0)\n",
    "plt.xlabel('epoch')\n",
    "plt.ylabel('accuracy %')\n",
    "plt.legend(loc='lower right', fontsize=20)"
   ]
  },
  {
   "cell_type": "code",
   "execution_count": 84,
   "metadata": {},
   "outputs": [
    {
     "name": "stdout",
     "output_type": "stream",
     "text": [
      "6000/6000 [==============================] - 0s 19us/step\n"
     ]
    },
    {
     "data": {
      "text/plain": [
       "Text(0, 0.5, 'Events')"
      ]
     },
     "execution_count": 84,
     "metadata": {},
     "output_type": "execute_result"
    },
    {
     "data": {
      "image/png": "[encoded data removed]",
      "text/plain": [
       "<Figure size 432x288 with 1 Axes>"
      ]
     },
     "metadata": {
      "needs_background": "light"
     },
     "output_type": "display_data"
    }
   ],
   "source": [
    "yhat = model.predict(X_test, verbose = True, batch_size = 512) \n",
    "yhat_cls = np.argmax(yhat, axis=1)\n",
    "sum(yhat_cls)\n",
    "bins = np.linspace(0, 1, 20)\n",
    "_ = plt.hist(yhat[y_test==1], histtype='stepfilled', alpha=0.5, color='red', label=r\"Signal\", bins=bins)\n",
    "_ = plt.hist(yhat[y_test==0], histtype='stepfilled', alpha=0.5, color='blue', label=r'Background', bins=bins)\n",
    "plt.axvline(x=0.5,linestyle='--')\n",
    "plt.xlabel('P(Loss Event)', fontsize='large')\n",
    "plt.ylabel('Events', fontsize='large')"
   ]
  },
  {
   "cell_type": "code",
   "execution_count": 85,
   "metadata": {},
   "outputs": [
    {
     "name": "stdout",
     "output_type": "stream",
     "text": [
      "Loss Events: mean: 0.509, std: 0.079\n",
      "NoLoss Events: mean: 0.486, std: 0.084\n"
     ]
    }
   ],
   "source": [
    "print(\"Loss Events: mean: %.3f, std: %.3f\" %(yhat[y_test==1].mean(),yhat[y_test==1].std()))\n",
    "print(\"NoLoss Events: mean: %.3f, std: %.3f\" %(yhat[y_test==0].mean(),yhat[y_test==0].std()))"
   ]
  },
  {
   "cell_type": "code",
   "execution_count": 86,
   "metadata": {},
   "outputs": [
    {
     "name": "stdout",
     "output_type": "stream",
     "text": [
      "Loss Event Accuracy: 62.1%\n"
     ]
    }
   ],
   "source": [
    "LossAcc = yhat[y_test==1].round().sum()/y_test.sum()\n",
    "print(\"Loss Event Accuracy: %.1f%%\" %(LossAcc*100))"
   ]
  },
  {
   "cell_type": "markdown",
   "metadata": {},
   "source": [
    "# Resampling using SMOTE\n",
    "Synthetic minority oversampling technique (Smote) generates synthetic data that is similar to, but not exactly like the minority class using nearest-neightbors approach to fill in space between neighbors."
   ]
  },
  {
   "cell_type": "code",
   "execution_count": 31,
   "metadata": {},
   "outputs": [
    {
     "data": {
      "text/plain": [
       "array([16637, 16637], dtype=int64)"
      ]
     },
     "execution_count": 31,
     "metadata": {},
     "output_type": "execute_result"
    }
   ],
   "source": [
    "from imblearn.over_sampling import SMOTE\n",
    "smote = SMOTE(sampling_strategy=\"auto\")\n",
    "X_train_smote, y_train_smote = smote.fit_resample(X_train, y_train)\n",
    "np.bincount(y_train_smote)"
   ]
  },
  {
   "cell_type": "code",
   "execution_count": 32,
   "metadata": {},
   "outputs": [
    {
     "name": "stdout",
     "output_type": "stream",
     "text": [
      "Model: \"model_3\"\n",
      "_________________________________________________________________\n",
      "Layer (type)                 Output Shape              Param #   \n",
      "=================================================================\n",
      "input_3 (InputLayer)         (None, 5)                 0         \n",
      "_________________________________________________________________\n",
      "dense_8 (Dense)              (None, 20)                120       \n",
      "_________________________________________________________________\n",
      "dropout_6 (Dropout)          (None, 20)                0         \n",
      "_________________________________________________________________\n",
      "dense_9 (Dense)              (None, 20)                420       \n",
      "_________________________________________________________________\n",
      "dropout_7 (Dropout)          (None, 20)                0         \n",
      "_________________________________________________________________\n",
      "dense_10 (Dense)             (None, 20)                420       \n",
      "_________________________________________________________________\n",
      "dropout_8 (Dropout)          (None, 20)                0         \n",
      "_________________________________________________________________\n",
      "dense_11 (Dense)             (None, 1)                 21        \n",
      "=================================================================\n",
      "Total params: 981\n",
      "Trainable params: 981\n",
      "Non-trainable params: 0\n",
      "_________________________________________________________________\n",
      "Train on 33274 samples, validate on 4800 samples\n",
      "Epoch 1/100\n",
      "33274/33274 [==============================] - 3s 89us/step - loss: 0.6910 - accuracy: 0.5424 - val_loss: 0.6994 - val_accuracy: 0.5229\n",
      "Epoch 2/100\n",
      "33274/33274 [==============================] - 3s 84us/step - loss: 0.6854 - accuracy: 0.5567 - val_loss: 0.6791 - val_accuracy: 0.5481\n",
      "Epoch 3/100\n",
      "33274/33274 [==============================] - 3s 86us/step - loss: 0.6850 - accuracy: 0.5628 - val_loss: 0.6827 - val_accuracy: 0.5469\n",
      "Epoch 4/100\n",
      "33274/33274 [==============================] - 3s 90us/step - loss: 0.6822 - accuracy: 0.5665 - val_loss: 0.7047 - val_accuracy: 0.4904\n",
      "Epoch 5/100\n",
      "33274/33274 [==============================] - 3s 82us/step - loss: 0.6807 - accuracy: 0.5678 - val_loss: 0.6918 - val_accuracy: 0.5292\n",
      "Epoch 6/100\n",
      "33274/33274 [==============================] - 3s 92us/step - loss: 0.6795 - accuracy: 0.5680 - val_loss: 0.6696 - val_accuracy: 0.5694\n",
      "Epoch 7/100\n",
      "33274/33274 [==============================] - 3s 83us/step - loss: 0.6794 - accuracy: 0.5726 - val_loss: 0.6897 - val_accuracy: 0.5427\n",
      "Epoch 8/100\n",
      "33274/33274 [==============================] - 3s 82us/step - loss: 0.6787 - accuracy: 0.5716 - val_loss: 0.6906 - val_accuracy: 0.5577\n",
      "Epoch 9/100\n",
      "33274/33274 [==============================] - 3s 83us/step - loss: 0.6800 - accuracy: 0.5717 - val_loss: 0.7036 - val_accuracy: 0.5204\n",
      "Epoch 10/100\n",
      "33274/33274 [==============================] - 3s 81us/step - loss: 0.6783 - accuracy: 0.5735 - val_loss: 0.6724 - val_accuracy: 0.5785\n",
      "Epoch 11/100\n",
      "33274/33274 [==============================] - 3s 81us/step - loss: 0.6782 - accuracy: 0.5728 - val_loss: 0.6748 - val_accuracy: 0.6175\n",
      "Epoch 12/100\n",
      "33274/33274 [==============================] - 3s 83us/step - loss: 0.6775 - accuracy: 0.5734 - val_loss: 0.6873 - val_accuracy: 0.5519\n",
      "Epoch 13/100\n",
      "33274/33274 [==============================] - 3s 85us/step - loss: 0.6761 - accuracy: 0.5756 - val_loss: 0.6898 - val_accuracy: 0.5265\n",
      "Epoch 14/100\n",
      "33274/33274 [==============================] - 3s 91us/step - loss: 0.6764 - accuracy: 0.5764 - val_loss: 0.6727 - val_accuracy: 0.5744\n",
      "Epoch 15/100\n",
      "33274/33274 [==============================] - 3s 83us/step - loss: 0.6764 - accuracy: 0.5754 - val_loss: 0.7048 - val_accuracy: 0.4896\n",
      "Epoch 16/100\n",
      "33274/33274 [==============================] - 3s 87us/step - loss: 0.6762 - accuracy: 0.5752 - val_loss: 0.6887 - val_accuracy: 0.5479\n",
      "Epoch 17/100\n",
      "33274/33274 [==============================] - 3s 86us/step - loss: 0.6748 - accuracy: 0.5790 - val_loss: 0.6626 - val_accuracy: 0.5725\n",
      "Epoch 18/100\n",
      "33274/33274 [==============================] - 3s 80us/step - loss: 0.6750 - accuracy: 0.5744 - val_loss: 0.7012 - val_accuracy: 0.4942\n",
      "Epoch 19/100\n",
      "33274/33274 [==============================] - 3s 86us/step - loss: 0.6755 - accuracy: 0.5772 - val_loss: 0.6730 - val_accuracy: 0.5427\n",
      "Epoch 20/100\n",
      "33274/33274 [==============================] - 3s 84us/step - loss: 0.6747 - accuracy: 0.5761 - val_loss: 0.6822 - val_accuracy: 0.5148\n",
      "Epoch 21/100\n",
      "33274/33274 [==============================] - 3s 82us/step - loss: 0.6745 - accuracy: 0.5768 - val_loss: 0.6747 - val_accuracy: 0.5490\n",
      "Epoch 22/100\n",
      "33274/33274 [==============================] - 3s 83us/step - loss: 0.6757 - accuracy: 0.5793 - val_loss: 0.6801 - val_accuracy: 0.5640\n",
      "Epoch 23/100\n",
      "33274/33274 [==============================] - 3s 82us/step - loss: 0.6742 - accuracy: 0.5790 - val_loss: 0.6911 - val_accuracy: 0.5312\n",
      "Epoch 24/100\n",
      "33274/33274 [==============================] - 3s 83us/step - loss: 0.6741 - accuracy: 0.5774 - val_loss: 0.6988 - val_accuracy: 0.5090\n",
      "Epoch 25/100\n",
      "33274/33274 [==============================] - 3s 82us/step - loss: 0.6735 - accuracy: 0.5778 - val_loss: 0.6636 - val_accuracy: 0.5817\n",
      "Epoch 26/100\n",
      "33274/33274 [==============================] - 3s 84us/step - loss: 0.6737 - accuracy: 0.5782 - val_loss: 0.6634 - val_accuracy: 0.6104\n",
      "Epoch 27/100\n",
      "33274/33274 [==============================] - 3s 84us/step - loss: 0.6722 - accuracy: 0.5798 - val_loss: 0.6837 - val_accuracy: 0.5915\n",
      "Epoch 28/100\n",
      "33274/33274 [==============================] - 3s 85us/step - loss: 0.6722 - accuracy: 0.5796 - val_loss: 0.6899 - val_accuracy: 0.4950\n",
      "Epoch 29/100\n",
      "33274/33274 [==============================] - 3s 89us/step - loss: 0.6723 - accuracy: 0.5786 - val_loss: 0.6884 - val_accuracy: 0.5458\n",
      "Epoch 30/100\n",
      "33274/33274 [==============================] - 3s 90us/step - loss: 0.6729 - accuracy: 0.5777 - val_loss: 0.7197 - val_accuracy: 0.4263\n",
      "Epoch 31/100\n",
      "33274/33274 [==============================] - 3s 83us/step - loss: 0.6727 - accuracy: 0.5809 - val_loss: 0.7073 - val_accuracy: 0.4779\n",
      "Epoch 32/100\n",
      "33274/33274 [==============================] - 3s 86us/step - loss: 0.6722 - accuracy: 0.5800 - val_loss: 0.6770 - val_accuracy: 0.5631\n",
      "Epoch 33/100\n",
      "33274/33274 [==============================] - 3s 91us/step - loss: 0.6745 - accuracy: 0.5793 - val_loss: 0.7004 - val_accuracy: 0.5002\n",
      "Epoch 34/100\n",
      "33274/33274 [==============================] - 3s 85us/step - loss: 0.6732 - accuracy: 0.5796 - val_loss: 0.6826 - val_accuracy: 0.5698\n",
      "Epoch 35/100\n",
      "33274/33274 [==============================] - 3s 87us/step - loss: 0.6725 - accuracy: 0.5809 - val_loss: 0.6879 - val_accuracy: 0.5056\n",
      "Epoch 36/100\n",
      "33274/33274 [==============================] - 3s 81us/step - loss: 0.6719 - accuracy: 0.5805 - val_loss: 0.6767 - val_accuracy: 0.5898\n",
      "Epoch 37/100\n",
      "33274/33274 [==============================] - 3s 83us/step - loss: 0.6724 - accuracy: 0.5808 - val_loss: 0.6884 - val_accuracy: 0.5738\n",
      "Epoch 00037: early stopping\n"
     ]
    },
    {
     "data": {
      "text/plain": [
       "<keras.callbacks.callbacks.History at 0x1eab3461b08>"
      ]
     },
     "execution_count": 32,
     "metadata": {},
     "output_type": "execute_result"
    }
   ],
   "source": [
    "model = DNNmodel(Input_shape=(5,),n_hidden=3);\n",
    "model.fit(X_train_smote,y_train_smote,epochs=100,callbacks=[EarlyStopping(verbose=True,patience=20,monitor='val_loss')], validation_data=(X_val, y_val),batch_size=10)"
   ]
  },
  {
   "cell_type": "code",
   "execution_count": 33,
   "metadata": {},
   "outputs": [
    {
     "name": "stdout",
     "output_type": "stream",
     "text": [
      "history keys:  dict_keys(['val_loss', 'val_accuracy', 'loss', 'accuracy'])\n"
     ]
    },
    {
     "data": {
      "text/plain": [
       "<matplotlib.legend.Legend at 0x1eab4b77f48>"
      ]
     },
     "execution_count": 33,
     "metadata": {},
     "output_type": "execute_result"
    },
    {
     "data": {
      "image/png": "[encoded data removed]",
      "text/plain": [
       "<Figure size 432x288 with 1 Axes>"
      ]
     },
     "metadata": {
      "needs_background": "light"
     },
     "output_type": "display_data"
    }
   ],
   "source": [
    "history = model.history.history\n",
    "print(\"history keys: \", history.keys())\n",
    "#Accuracy plot\n",
    "plt.plot(100 * np.array(history['accuracy']), label='training')\n",
    "plt.plot(100 * np.array(history['val_accuracy']), label='validation')\n",
    "plt.xlim(0)\n",
    "plt.xlabel('epoch')\n",
    "plt.ylabel('accuracy %')\n",
    "plt.legend(loc='lower right', fontsize=20)"
   ]
  },
  {
   "cell_type": "code",
   "execution_count": 34,
   "metadata": {},
   "outputs": [
    {
     "name": "stdout",
     "output_type": "stream",
     "text": [
      "6000/6000 [==============================] - 0s 12us/step\n"
     ]
    },
    {
     "data": {
      "text/plain": [
       "<matplotlib.lines.Line2D at 0x1eab4bcf3c8>"
      ]
     },
     "execution_count": 34,
     "metadata": {},
     "output_type": "execute_result"
    },
    {
     "data": {
      "image/png": "[encoded data removed]",
      "text/plain": [
       "<Figure size 432x288 with 1 Axes>"
      ]
     },
     "metadata": {
      "needs_background": "light"
     },
     "output_type": "display_data"
    }
   ],
   "source": [
    "yhat = model.predict(X_test, verbose = True, batch_size = 512) \n",
    "bins = np.linspace(0, 1, 20)\n",
    "_ = plt.hist(yhat[y_test==1], histtype='stepfilled', alpha=0.5, color='red', label=r\"Signal\", bins=bins)\n",
    "_ = plt.hist(yhat[y_test==0], histtype='stepfilled', alpha=0.5, color='blue', label=r'Background', bins=bins)\n",
    "plt.axvline(x=0.5,linestyle='--')\n",
    "plt.xlabel('P(Loss Event)', fontsize='large')\n",
    "plt.ylabel('Events', fontsize='large')"
   ]
  },
  {
   "cell_type": "code",
   "execution_count": 35,
   "metadata": {},
   "outputs": [
    {
     "name": "stdout",
     "output_type": "stream",
     "text": [
      "Loss Events: mean: 0.522, std: 0.084\n",
      "NoLoss Events: mean: 0.493, std: 0.085\n"
     ]
    }
   ],
   "source": [
    "print(\"Loss Events: mean: %.3f, std: %.3f\" %(yhat[y_test==1].mean(),yhat[y_test==1].std()))\n",
    "print(\"NoLoss Events: mean: %.3f, std: %.3f\" %(yhat[y_test==0].mean(),yhat[y_test==0].std()))"
   ]
  },
  {
   "cell_type": "code",
   "execution_count": 36,
   "metadata": {},
   "outputs": [
    {
     "name": "stdout",
     "output_type": "stream",
     "text": [
      "Loss Event Accuracy: 58.9%\n"
     ]
    }
   ],
   "source": [
    "LossAcc = yhat[y_test==1].round().sum()/y_test.sum()\n",
    "print(\"Loss Event Accuracy: %.1f%%\" %(LossAcc*100))"
   ]
  },
  {
   "cell_type": "markdown",
   "metadata": {},
   "source": [
    "# Let's try a BDT instead of a NN, with ADASYN Resampling"
   ]
  },
  {
   "cell_type": "markdown",
   "metadata": {},
   "source": [
    "Change to XGBoost friendlier format, using all potentially useful columns, dropping Vehicle (an index) and Days (always 365, no chance of separation between loss type events)"
   ]
  },
  {
   "cell_type": "code",
   "execution_count": 90,
   "metadata": {},
   "outputs": [],
   "source": [
    "#splitting up the signal and background datasets into training sets, testing sets, and validation sets. \n",
    "#This splits into 80% to be used for training and 20% testing\n",
    "X = sim_sum_tot.drop(['Vehicle', 'Days'], axis=1)\n",
    "y = sim_sum_tot['Loss']\n",
    "ix = range(y.shape[0]) \n",
    "#X=X.drop('Loss',axis=1)\n",
    "X_train, X_test, y_train, y_test, ix_train, ix_test = train_test_split(X, y, ix, train_size=0.8)\n",
    "#X_train, X_val,y_train, y_val,ix_train, ix_val=train_test_split(X_train,y_train,ix_train,test_size=0.2)"
   ]
  },
  {
   "cell_type": "code",
   "execution_count": 91,
   "metadata": {},
   "outputs": [
    {
     "data": {
      "text/plain": [
       "Index(['Distance', 'HardBrakes', 'HardAccelerations', 'NightTime_Pct',\n",
       "       'VehicleType', 'Loss'],\n",
       "      dtype='object')"
      ]
     },
     "execution_count": 91,
     "metadata": {},
     "output_type": "execute_result"
    }
   ],
   "source": [
    "X.columns"
   ]
  },
  {
   "cell_type": "code",
   "execution_count": 92,
   "metadata": {},
   "outputs": [
    {
     "data": {
      "text/plain": [
       "array([20800, 20116], dtype=int64)"
      ]
     },
     "execution_count": 92,
     "metadata": {},
     "output_type": "execute_result"
    }
   ],
   "source": [
    "adasyn = ADASYN(sampling_strategy=\"auto\")\n",
    "X_train_adasyn, y_train_adasyn = adasyn.fit_resample(X_train, y_train)\n",
    "np.bincount(y_train_adasyn)"
   ]
  },
  {
   "cell_type": "code",
   "execution_count": 93,
   "metadata": {},
   "outputs": [
    {
     "data": {
      "text/html": [
       "<div>\n",
       "<style scoped>\n",
       "    .dataframe tbody tr th:only-of-type {\n",
       "        vertical-align: middle;\n",
       "    }\n",
       "\n",
       "    .dataframe tbody tr th {\n",
       "        vertical-align: top;\n",
       "    }\n",
       "\n",
       "    .dataframe thead th {\n",
       "        text-align: right;\n",
       "    }\n",
       "</style>\n",
       "<table border=\"1\" class=\"dataframe\">\n",
       "  <thead>\n",
       "    <tr style=\"text-align: right;\">\n",
       "      <th></th>\n",
       "      <th>Distance</th>\n",
       "      <th>HardBrakes</th>\n",
       "      <th>HardAccelerations</th>\n",
       "      <th>NightTime_Pct</th>\n",
       "      <th>VehicleType</th>\n",
       "      <th>Loss</th>\n",
       "    </tr>\n",
       "  </thead>\n",
       "  <tbody>\n",
       "    <tr>\n",
       "      <th>0</th>\n",
       "      <td>10673</td>\n",
       "      <td>8</td>\n",
       "      <td>191</td>\n",
       "      <td>0.000000</td>\n",
       "      <td>2</td>\n",
       "      <td>0</td>\n",
       "    </tr>\n",
       "    <tr>\n",
       "      <th>1</th>\n",
       "      <td>15237</td>\n",
       "      <td>28</td>\n",
       "      <td>11</td>\n",
       "      <td>0.000000</td>\n",
       "      <td>1</td>\n",
       "      <td>1</td>\n",
       "    </tr>\n",
       "    <tr>\n",
       "      <th>2</th>\n",
       "      <td>14473</td>\n",
       "      <td>370</td>\n",
       "      <td>105</td>\n",
       "      <td>0.000000</td>\n",
       "      <td>2</td>\n",
       "      <td>0</td>\n",
       "    </tr>\n",
       "    <tr>\n",
       "      <th>3</th>\n",
       "      <td>14301</td>\n",
       "      <td>779</td>\n",
       "      <td>61</td>\n",
       "      <td>0.010000</td>\n",
       "      <td>1</td>\n",
       "      <td>1</td>\n",
       "    </tr>\n",
       "    <tr>\n",
       "      <th>4</th>\n",
       "      <td>13243</td>\n",
       "      <td>112</td>\n",
       "      <td>67</td>\n",
       "      <td>0.002000</td>\n",
       "      <td>1</td>\n",
       "      <td>0</td>\n",
       "    </tr>\n",
       "    <tr>\n",
       "      <th>...</th>\n",
       "      <td>...</td>\n",
       "      <td>...</td>\n",
       "      <td>...</td>\n",
       "      <td>...</td>\n",
       "      <td>...</td>\n",
       "      <td>...</td>\n",
       "    </tr>\n",
       "    <tr>\n",
       "      <th>40911</th>\n",
       "      <td>20577</td>\n",
       "      <td>33</td>\n",
       "      <td>136</td>\n",
       "      <td>0.000337</td>\n",
       "      <td>0</td>\n",
       "      <td>1</td>\n",
       "    </tr>\n",
       "    <tr>\n",
       "      <th>40912</th>\n",
       "      <td>20571</td>\n",
       "      <td>116</td>\n",
       "      <td>115</td>\n",
       "      <td>0.174152</td>\n",
       "      <td>0</td>\n",
       "      <td>1</td>\n",
       "    </tr>\n",
       "    <tr>\n",
       "      <th>40913</th>\n",
       "      <td>20571</td>\n",
       "      <td>27</td>\n",
       "      <td>126</td>\n",
       "      <td>0.000192</td>\n",
       "      <td>0</td>\n",
       "      <td>1</td>\n",
       "    </tr>\n",
       "    <tr>\n",
       "      <th>40914</th>\n",
       "      <td>20526</td>\n",
       "      <td>14</td>\n",
       "      <td>56</td>\n",
       "      <td>0.045726</td>\n",
       "      <td>1</td>\n",
       "      <td>1</td>\n",
       "    </tr>\n",
       "    <tr>\n",
       "      <th>40915</th>\n",
       "      <td>20591</td>\n",
       "      <td>30</td>\n",
       "      <td>121</td>\n",
       "      <td>0.001226</td>\n",
       "      <td>1</td>\n",
       "      <td>1</td>\n",
       "    </tr>\n",
       "  </tbody>\n",
       "</table>\n",
       "<p>40916 rows × 6 columns</p>\n",
       "</div>"
      ],
      "text/plain": [
       "       Distance  HardBrakes  HardAccelerations  NightTime_Pct  VehicleType  \\\n",
       "0         10673           8                191       0.000000            2   \n",
       "1         15237          28                 11       0.000000            1   \n",
       "2         14473         370                105       0.000000            2   \n",
       "3         14301         779                 61       0.010000            1   \n",
       "4         13243         112                 67       0.002000            1   \n",
       "...         ...         ...                ...            ...          ...   \n",
       "40911     20577          33                136       0.000337            0   \n",
       "40912     20571         116                115       0.174152            0   \n",
       "40913     20571          27                126       0.000192            0   \n",
       "40914     20526          14                 56       0.045726            1   \n",
       "40915     20591          30                121       0.001226            1   \n",
       "\n",
       "       Loss  \n",
       "0         0  \n",
       "1         1  \n",
       "2         0  \n",
       "3         1  \n",
       "4         0  \n",
       "...     ...  \n",
       "40911     1  \n",
       "40912     1  \n",
       "40913     1  \n",
       "40914     1  \n",
       "40915     1  \n",
       "\n",
       "[40916 rows x 6 columns]"
      ]
     },
     "execution_count": 93,
     "metadata": {},
     "output_type": "execute_result"
    }
   ],
   "source": [
    "X_train_adasyn"
   ]
  },
  {
   "cell_type": "code",
   "execution_count": 94,
   "metadata": {},
   "outputs": [
    {
     "name": "stdout",
     "output_type": "stream",
     "text": [
      "Number of training samples: 24000\n",
      "Number of testing samples: 6000\n",
      "ADASYN: Number of training samples: 40916\n",
      "\n",
      "Number of signal events in training set: 3200\n",
      "ADASYN:Number of signal events in training set: 20116\n",
      "Number of background events in training set: 20800\n",
      "Fraction signal: 0.13333333333333333\n",
      "ADASYN: Fraction signal: 0.49164141167269526\n"
     ]
    }
   ],
   "source": [
    "print('Number of training samples: {}'.format(len(X_train)))\n",
    "print('Number of testing samples: {}'.format(len(X_test)))\n",
    "print('ADASYN: Number of training samples: {}'.format(len(X_train_adasyn)))\n",
    "\n",
    "print('\\nNumber of signal events in training set: {}'.format(len(X_train[X_train.Loss == 1])))\n",
    "print('ADASYN:Number of signal events in training set: {}'.format(len(X_train_adasyn[X_train_adasyn.Loss == 1])))\n",
    "print('Number of background events in training set: {}'.format(len(X_train[X_train.Loss == 0])))\n",
    "print('Fraction signal: {}'.format(len(X_train[X_train.Loss == 1])/(float)(len(X_train[X_train.Loss == 1]) + len(X_train[X_train.Loss == 0]))))\n",
    "print('ADASYN: Fraction signal: {}'.format(len(X_train_adasyn[X_train_adasyn.Loss == 1])/(float)(len(X_train_adasyn[X_train_adasyn.Loss == 1]) + len(X_train_adasyn[X_train_adasyn.Loss == 0]))))"
   ]
  },
  {
   "cell_type": "code",
   "execution_count": 95,
   "metadata": {},
   "outputs": [
    {
     "data": {
      "text/plain": [
       "Index(['Distance', 'HardBrakes', 'HardAccelerations', 'NightTime_Pct',\n",
       "       'VehicleType'],\n",
       "      dtype='object')"
      ]
     },
     "execution_count": 95,
     "metadata": {},
     "output_type": "execute_result"
    }
   ],
   "source": [
    "features = X_train.columns[:-1]  # we skip the last column because it is the Loss label\n",
    "features"
   ]
  },
  {
   "cell_type": "code",
   "execution_count": 101,
   "metadata": {},
   "outputs": [
    {
     "name": "stdout",
     "output_type": "stream",
     "text": [
      "[22:08:06] WARNING: C:\\Users\\Administrator\\workspace\\xgboost-win64_release_1.1.0\\src\\learner.cc:480: \n",
      "Parameters: { feature_names } might not be used.\n",
      "\n",
      "  This may not be accurate due to some parameters are only used in language bindings but\n",
      "  passed down to XGBoost core.  Or some parameters are not used but slip through this\n",
      "  verification. Please open an issue if you find above cases.\n",
      "\n",
      "\n"
     ]
    },
    {
     "data": {
      "text/plain": [
       "XGBClassifier(base_score=0.5, booster='gbtree', colsample_bylevel=1,\n",
       "              colsample_bynode=1, colsample_bytree=1.0,\n",
       "              feature_names=Index(['Distance', 'HardBrakes', 'HardAccelerations', 'NightTime_Pct',\n",
       "       'VehicleType'],\n",
       "      dtype='object'),\n",
       "              gamma=0, gpu_id=-1, importance_type='gain',\n",
       "              interaction_constraints='', learning_rate=0.15, max_delta_step=0,\n",
       "              max_depth=6, min_child_weight=1, missing=nan,\n",
       "              monotone_constraints='()', n_estimators=200, n_jobs=0,\n",
       "              num_parallel_tree=1, random_state=0, reg_alpha=0, reg_lambda=1,\n",
       "              scale_pos_weight=1, subsample=1.0, tree_method='exact',\n",
       "              validate_parameters=1, verbosity=None)"
      ]
     },
     "execution_count": 101,
     "metadata": {},
     "output_type": "execute_result"
    }
   ],
   "source": [
    "binary_bdt_param = {\n",
    "    \"learning_rate\" : 0.15,\n",
    "    \"max_depth\" : 6,\n",
    "    \"colsample_bytree\" : 1.0,\n",
    "    \"subsample\" : 1.0,\n",
    "    \"n_estimators\" : 200,\n",
    "    \"feature_names\" : features,\n",
    "    'objective' : 'binary:logistic' # objective function\n",
    "}\n",
    "binary_task_param = {\n",
    "    \"eval_metric\" : [\"logloss\",\"error\"],\n",
    "    \"early_stopping_rounds\" : 30,\n",
    "    \"eval_set\": [(X_train_adasyn[features],y_train_adasyn), \n",
    "                 (X_test[features],y_test)]\n",
    "}\n",
    "\n",
    "binary_bdt = xgb.XGBClassifier(**binary_bdt_param)\n",
    "binary_bdt.fit(X_train_adasyn[features], y_train_adasyn,\n",
    "              verbose=False, **binary_task_param)"
   ]
  },
  {
   "cell_type": "code",
   "execution_count": 102,
   "metadata": {},
   "outputs": [
    {
     "name": "stdout",
     "output_type": "stream",
     "text": [
      "0.8111666666666667\n"
     ]
    },
    {
     "data": {
      "text/plain": [
       "484.0"
      ]
     },
     "execution_count": 102,
     "metadata": {},
     "output_type": "execute_result"
    }
   ],
   "source": [
    "evaluated_df = X_test.copy()\n",
    "evaluated_df[\"binary_prob\"] = binary_bdt.predict_proba(X_test[features])[:,1]\n",
    "print(binary_bdt.score(X_test[features],y_test))\n",
    "\n",
    "binary_bdt.predict_proba(X_test[features])[:,1].round().sum()"
   ]
  },
  {
   "cell_type": "code",
   "execution_count": 103,
   "metadata": {},
   "outputs": [
    {
     "data": {
      "text/plain": [
       "484"
      ]
     },
     "execution_count": 103,
     "metadata": {},
     "output_type": "execute_result"
    }
   ],
   "source": [
    "y_pred = binary_bdt.predict(X_test[features])\n",
    "y_pred.sum()"
   ]
  },
  {
   "cell_type": "code",
   "execution_count": 104,
   "metadata": {},
   "outputs": [
    {
     "data": {
      "text/plain": [
       "array([0, 0, 0, ..., 0, 0, 0], dtype=int64)"
      ]
     },
     "execution_count": 104,
     "metadata": {},
     "output_type": "execute_result"
    }
   ],
   "source": [
    "binary_bdt.predict(X_test[features])"
   ]
  },
  {
   "cell_type": "code",
   "execution_count": 105,
   "metadata": {},
   "outputs": [
    {
     "name": "stdout",
     "output_type": "stream",
     "text": [
      "Accuracy: 81.12%\n",
      "Loss Event Accuracy: 11.67%\n",
      "Thresh=0.055, n=5, Accuracy: 81.47%\n",
      "Loss Event Accuracy: 10.71%\n",
      "Thresh=0.063, n=4, Accuracy: 81.15%\n",
      "Loss Event Accuracy: 9.03%\n",
      "Thresh=0.081, n=3, Accuracy: 81.47%\n",
      "Loss Event Accuracy: 4.45%\n",
      "Thresh=0.282, n=2, Accuracy: 83.13%\n",
      "Loss Event Accuracy: 4.45%\n",
      "Thresh=0.520, n=1, Accuracy: 83.33%\n"
     ]
    }
   ],
   "source": [
    "from sklearn.metrics import accuracy_score\n",
    "from sklearn.feature_selection import SelectFromModel\n",
    "\n",
    "predictions = binary_bdt.predict(X_test[features])\n",
    "accuracy = accuracy_score(y_test, predictions)\n",
    "print(\"Accuracy: %.2f%%\" % (accuracy * 100.0))\n",
    "thresholds = np.sort(binary_bdt.feature_importances_)\n",
    "for thresh in thresholds:\n",
    "    # select features using threshold\n",
    "    selection = SelectFromModel(binary_bdt, threshold=thresh, prefit=True)\n",
    "    select_X_train = selection.transform(X_train_adasyn[features])\n",
    "    # train model\n",
    "    selection_model = xgb.XGBClassifier()\n",
    "    selection_model.fit(select_X_train, y_train_adasyn)\n",
    "    # eval model\n",
    "    select_X_test = selection.transform(X_test[features])\n",
    "    predictions = selection_model.predict(select_X_test)\n",
    "    accuracy = accuracy_score(y_test, predictions)\n",
    "    print(\"Loss Event Accuracy: %.2f%%\"%(predictions[y_test==1].sum()/y_test.sum()*100.))\n",
    "    print(\"Thresh=%.3f, n=%d, Accuracy: %.2f%%\" % (thresh, select_X_train.shape[1], accuracy*100.0))"
   ]
  },
  {
   "cell_type": "code",
   "execution_count": 106,
   "metadata": {},
   "outputs": [
    {
     "data": {
      "image/png": "[encoded data removed]",
      "text/plain": [
       "<Figure size 1152x288 with 2 Axes>"
      ]
     },
     "metadata": {
      "needs_background": "light"
     },
     "output_type": "display_data"
    }
   ],
   "source": [
    "fig, ax_enum = plt.subplots(1,2, figsize=(16,4))\n",
    "xgb.plot_importance(binary_bdt, importance_type=\"weight\", ax=ax_enum[0], title=\"Weight\",show_values=False, grid=False)\n",
    "xgb.plot_importance(binary_bdt, importance_type=\"gain\", ax=ax_enum[1], title=\"Gain\", show_values=False, grid=False)\n",
    "plt.ylabel(\"\")\n",
    "plt.sca(ax_enum[1])\n",
    "plt.ylabel(\"\")\n",
    "plt.subplots_adjust(wspace=0.3)"
   ]
  },
  {
   "cell_type": "markdown",
   "metadata": {},
   "source": [
    "importance_type=Gain is how useful is the variable in terms of separation where importance_type=Weight is how frequently splitting on the variable occurs"
   ]
  },
  {
   "cell_type": "code",
   "execution_count": 107,
   "metadata": {},
   "outputs": [
    {
     "data": {
      "image/png": "[encoded data removed]",
      "text/plain": [
       "<Figure size 432x288 with 1 Axes>"
      ]
     },
     "metadata": {
      "needs_background": "light"
     },
     "output_type": "display_data"
    },
    {
     "data": {
      "image/png": "[encoded data removed]",
      "text/plain": [
       "<Figure size 432x288 with 1 Axes>"
      ]
     },
     "metadata": {
      "needs_background": "light"
     },
     "output_type": "display_data"
    }
   ],
   "source": [
    "# plot all predictions (both signal and background)\n",
    "predictions = binary_bdt.predict_proba(X_test[features])[:,1]\n",
    "plt.figure();\n",
    "plt.hist(predictions,bins=np.linspace(0,1,50),histtype='step',color='darkgreen',label='All events');\n",
    "# make the plot readable\n",
    "plt.xlabel('Prediction from BDT',fontsize=12);\n",
    "plt.ylabel('Events',fontsize=12);\n",
    "plt.legend(frameon=False);\n",
    "\n",
    "# plot signal and background separately\n",
    "plt.figure();\n",
    "plt.hist(binary_bdt.predict_proba(X_test[features][y_test==1])[:,1],bins=np.linspace(0,1,50),\n",
    "         histtype='step',color='midnightblue',label='Loss');\n",
    "plt.hist(binary_bdt.predict_proba(X_test[features][y_test==0])[:,1],bins=np.linspace(0,1,50),\n",
    "         histtype='step',color='firebrick',label='No Loss');\n",
    "# make the plot readable\n",
    "plt.xlabel('Prediction from BDT',fontsize=12);\n",
    "plt.ylabel('Events',fontsize=12);\n",
    "plt.legend(frameon=False);"
   ]
  },
  {
   "cell_type": "code",
   "execution_count": 108,
   "metadata": {},
   "outputs": [
    {
     "data": {
      "image/png": "[encoded data removed]",
      "text/plain": [
       "<Figure size 432x288 with 1 Axes>"
      ]
     },
     "metadata": {
      "needs_background": "light"
     },
     "output_type": "display_data"
    }
   ],
   "source": [
    "\n",
    "plt.figure();\n",
    "plt.hist(X_train.Distance[X_train.Loss == 1],bins=np.linspace(0,40000,50),\n",
    "         histtype='step',color='midnightblue',label='Loss');\n",
    "plt.hist(X_train.Distance[X_train.Loss == 0],bins=np.linspace(0,40000,50),\n",
    "         histtype='step',color='firebrick',label='No Loss');\n",
    "\n",
    "plt.xlabel('Distance',fontsize=12);\n",
    "plt.ylabel('Events',fontsize=12);\n",
    "plt.legend(frameon=False);"
   ]
  },
  {
   "cell_type": "code",
   "execution_count": 109,
   "metadata": {
    "scrolled": true
   },
   "outputs": [
    {
     "data": {
      "image/png": "[encoded data removed]",
      "text/plain": [
       "<Figure size 432x288 with 1 Axes>"
      ]
     },
     "metadata": {
      "needs_background": "light"
     },
     "output_type": "display_data"
    }
   ],
   "source": [
    "plt.figure();\n",
    "#plt.plot(X_train_adasyn.Distance[X_train_adasyn.Loss == 0],X_train_adasyn.NightTime_Pct[X_train_adasyn.Loss == 0],\n",
    "#         'o',markersize=2,color='firebrick',markeredgewidth=0,alpha=0.8,label='NoLoss');\n",
    "#plt.plot(X_train_adasyn.Distance[X_train_adasyn.Loss == 1],X_train_adasyn.NightTime_Pct[X_train_adasyn.Loss == 1],\n",
    "#         'o',markersize=2,color='mediumblue',markeredgewidth=0,alpha=0.8,label='Loss');\n",
    "\n",
    "plt.plot(X_train.Distance[X_train.Loss == 0],X_train.NightTime_Pct[X_train.Loss == 0],\n",
    "         'o',markersize=2,color='firebrick',markeredgewidth=0,alpha=0.8,label='NoLoss');\n",
    "plt.plot(X_train.Distance[X_train.Loss == 1],X_train.NightTime_Pct[X_train.Loss == 1],\n",
    "         'o',markersize=2,color='mediumblue',markeredgewidth=0,alpha=0.8,label='Loss');\n",
    "\n",
    "plt.xlim(0,35000);\n",
    "plt.ylim(0.0,1);\n",
    "#plt.yscale('log')\n",
    "plt.xlabel('Distance',fontsize=12);\n",
    "plt.ylabel('NightTime_Pct',fontsize=12);\n",
    "plt.legend(frameon=False,numpoints=1,markerscale=2);"
   ]
  },
  {
   "cell_type": "markdown",
   "metadata": {},
   "source": [
    "# BDT with SMOTE resampling"
   ]
  },
  {
   "cell_type": "markdown",
   "metadata": {},
   "source": [
    "Change to XGBoost friendlier format, using all potentially useful columns, dropping Vehicle (an index) and Days (always 365, no chance of separation between loss type events)"
   ]
  },
  {
   "cell_type": "code",
   "execution_count": 88,
   "metadata": {},
   "outputs": [],
   "source": [
    "#splitting up the signal and background datasets into training sets, testing sets, and validation sets. \n",
    "#This splits into 80% to be used for training and 20% testing\n",
    "X = sim_sum_tot.drop(['Vehicle', 'Days'], axis=1)\n",
    "y = sim_sum_tot['Loss']\n",
    "ix = range(y.shape[0]) \n",
    "#X=X.drop('Loss',axis=1)\n",
    "X_train, X_test, y_train, y_test, ix_train, ix_test = train_test_split(X, y, ix, train_size=0.8)\n",
    "#X_train, X_val,y_train, y_val,ix_train, ix_val=train_test_split(X_train,y_train,ix_train,test_size=0.2)"
   ]
  },
  {
   "cell_type": "code",
   "execution_count": 89,
   "metadata": {},
   "outputs": [
    {
     "data": {
      "text/plain": [
       "Index(['Distance', 'HardBrakes', 'HardAccelerations', 'NightTime_Pct',\n",
       "       'VehicleType', 'Loss'],\n",
       "      dtype='object')"
      ]
     },
     "execution_count": 89,
     "metadata": {},
     "output_type": "execute_result"
    }
   ],
   "source": [
    "X.columns"
   ]
  },
  {
   "cell_type": "code",
   "execution_count": 55,
   "metadata": {},
   "outputs": [
    {
     "data": {
      "text/plain": [
       "array([20729, 20729], dtype=int64)"
      ]
     },
     "execution_count": 55,
     "metadata": {},
     "output_type": "execute_result"
    }
   ],
   "source": [
    "adasyn = SMOTE(sampling_strategy=\"auto\")\n",
    "X_train_smote, y_train_smote = smote.fit_resample(X_train, y_train)\n",
    "np.bincount(y_train_smote)"
   ]
  },
  {
   "cell_type": "code",
   "execution_count": 56,
   "metadata": {},
   "outputs": [
    {
     "data": {
      "text/html": [
       "<div>\n",
       "<style scoped>\n",
       "    .dataframe tbody tr th:only-of-type {\n",
       "        vertical-align: middle;\n",
       "    }\n",
       "\n",
       "    .dataframe tbody tr th {\n",
       "        vertical-align: top;\n",
       "    }\n",
       "\n",
       "    .dataframe thead th {\n",
       "        text-align: right;\n",
       "    }\n",
       "</style>\n",
       "<table border=\"1\" class=\"dataframe\">\n",
       "  <thead>\n",
       "    <tr style=\"text-align: right;\">\n",
       "      <th></th>\n",
       "      <th>Distance</th>\n",
       "      <th>HardBrakes</th>\n",
       "      <th>HardAccelerations</th>\n",
       "      <th>NightTime_Pct</th>\n",
       "      <th>VehicleType</th>\n",
       "      <th>Loss</th>\n",
       "    </tr>\n",
       "  </thead>\n",
       "  <tbody>\n",
       "    <tr>\n",
       "      <th>0</th>\n",
       "      <td>9483</td>\n",
       "      <td>85</td>\n",
       "      <td>60</td>\n",
       "      <td>0.063000</td>\n",
       "      <td>2</td>\n",
       "      <td>0</td>\n",
       "    </tr>\n",
       "    <tr>\n",
       "      <th>1</th>\n",
       "      <td>11827</td>\n",
       "      <td>206</td>\n",
       "      <td>188</td>\n",
       "      <td>0.000000</td>\n",
       "      <td>0</td>\n",
       "      <td>0</td>\n",
       "    </tr>\n",
       "    <tr>\n",
       "      <th>2</th>\n",
       "      <td>7264</td>\n",
       "      <td>50</td>\n",
       "      <td>17</td>\n",
       "      <td>0.036000</td>\n",
       "      <td>1</td>\n",
       "      <td>1</td>\n",
       "    </tr>\n",
       "    <tr>\n",
       "      <th>3</th>\n",
       "      <td>17204</td>\n",
       "      <td>66</td>\n",
       "      <td>20</td>\n",
       "      <td>0.000000</td>\n",
       "      <td>2</td>\n",
       "      <td>0</td>\n",
       "    </tr>\n",
       "    <tr>\n",
       "      <th>4</th>\n",
       "      <td>24443</td>\n",
       "      <td>91</td>\n",
       "      <td>14</td>\n",
       "      <td>0.021000</td>\n",
       "      <td>0</td>\n",
       "      <td>0</td>\n",
       "    </tr>\n",
       "    <tr>\n",
       "      <th>...</th>\n",
       "      <td>...</td>\n",
       "      <td>...</td>\n",
       "      <td>...</td>\n",
       "      <td>...</td>\n",
       "      <td>...</td>\n",
       "      <td>...</td>\n",
       "    </tr>\n",
       "    <tr>\n",
       "      <th>41453</th>\n",
       "      <td>13923</td>\n",
       "      <td>128</td>\n",
       "      <td>99</td>\n",
       "      <td>0.171757</td>\n",
       "      <td>0</td>\n",
       "      <td>1</td>\n",
       "    </tr>\n",
       "    <tr>\n",
       "      <th>41454</th>\n",
       "      <td>11878</td>\n",
       "      <td>397</td>\n",
       "      <td>108</td>\n",
       "      <td>0.079115</td>\n",
       "      <td>2</td>\n",
       "      <td>1</td>\n",
       "    </tr>\n",
       "    <tr>\n",
       "      <th>41455</th>\n",
       "      <td>13187</td>\n",
       "      <td>19</td>\n",
       "      <td>81</td>\n",
       "      <td>0.097144</td>\n",
       "      <td>1</td>\n",
       "      <td>1</td>\n",
       "    </tr>\n",
       "    <tr>\n",
       "      <th>41456</th>\n",
       "      <td>10417</td>\n",
       "      <td>111</td>\n",
       "      <td>394</td>\n",
       "      <td>0.084054</td>\n",
       "      <td>1</td>\n",
       "      <td>1</td>\n",
       "    </tr>\n",
       "    <tr>\n",
       "      <th>41457</th>\n",
       "      <td>14413</td>\n",
       "      <td>255</td>\n",
       "      <td>139</td>\n",
       "      <td>0.000000</td>\n",
       "      <td>1</td>\n",
       "      <td>1</td>\n",
       "    </tr>\n",
       "  </tbody>\n",
       "</table>\n",
       "<p>41458 rows × 6 columns</p>\n",
       "</div>"
      ],
      "text/plain": [
       "       Distance  HardBrakes  HardAccelerations  NightTime_Pct  VehicleType  \\\n",
       "0          9483          85                 60       0.063000            2   \n",
       "1         11827         206                188       0.000000            0   \n",
       "2          7264          50                 17       0.036000            1   \n",
       "3         17204          66                 20       0.000000            2   \n",
       "4         24443          91                 14       0.021000            0   \n",
       "...         ...         ...                ...            ...          ...   \n",
       "41453     13923         128                 99       0.171757            0   \n",
       "41454     11878         397                108       0.079115            2   \n",
       "41455     13187          19                 81       0.097144            1   \n",
       "41456     10417         111                394       0.084054            1   \n",
       "41457     14413         255                139       0.000000            1   \n",
       "\n",
       "       Loss  \n",
       "0         0  \n",
       "1         0  \n",
       "2         1  \n",
       "3         0  \n",
       "4         0  \n",
       "...     ...  \n",
       "41453     1  \n",
       "41454     1  \n",
       "41455     1  \n",
       "41456     1  \n",
       "41457     1  \n",
       "\n",
       "[41458 rows x 6 columns]"
      ]
     },
     "execution_count": 56,
     "metadata": {},
     "output_type": "execute_result"
    }
   ],
   "source": [
    "X_train_smote"
   ]
  },
  {
   "cell_type": "code",
   "execution_count": 57,
   "metadata": {},
   "outputs": [
    {
     "name": "stdout",
     "output_type": "stream",
     "text": [
      "Number of training samples: 24000\n",
      "Number of testing samples: 6000\n",
      "SMOTE: Number of training samples: 41458\n",
      "\n",
      "Number of signal events in training set: 3271\n",
      "SMOTE:Number of signal events in training set: 20729\n",
      "Number of background events in training set: 20729\n",
      "Fraction signal: 0.13629166666666667\n",
      "SMOTE: Fraction signal: 0.5056470301256251\n"
     ]
    },
    {
     "name": "stderr",
     "output_type": "stream",
     "text": [
      "D:\\ProgramData\\Anaconda3\\lib\\site-packages\\ipykernel_launcher.py:9: UserWarning: Boolean Series key will be reindexed to match DataFrame index.\n",
      "  if __name__ == '__main__':\n"
     ]
    }
   ],
   "source": [
    "print('Number of training samples: {}'.format(len(X_train)))\n",
    "print('Number of testing samples: {}'.format(len(X_test)))\n",
    "print('SMOTE: Number of training samples: {}'.format(len(X_train_smote)))\n",
    "\n",
    "print('\\nNumber of signal events in training set: {}'.format(len(X_train[X_train.Loss == 1])))\n",
    "print('SMOTE:Number of signal events in training set: {}'.format(len(X_train_smote[X_train_smote.Loss == 1])))\n",
    "print('Number of background events in training set: {}'.format(len(X_train[X_train.Loss == 0])))\n",
    "print('Fraction signal: {}'.format(len(X_train[X_train.Loss == 1])/(float)(len(X_train[X_train.Loss == 1]) + len(X_train[X_train.Loss == 0]))))\n",
    "print('SMOTE: Fraction signal: {}'.format(len(X_train_smote[X_train_smote.Loss == 1])/(float)(len(X_train_adasyn[X_train_smote.Loss == 1]) + len(X_train_smote[X_train_smote.Loss == 0]))))"
   ]
  },
  {
   "cell_type": "code",
   "execution_count": 58,
   "metadata": {},
   "outputs": [
    {
     "data": {
      "text/plain": [
       "Index(['Distance', 'HardBrakes', 'HardAccelerations', 'NightTime_Pct',\n",
       "       'VehicleType'],\n",
       "      dtype='object')"
      ]
     },
     "execution_count": 58,
     "metadata": {},
     "output_type": "execute_result"
    }
   ],
   "source": [
    "features = X_train.columns[:-1]  # we skip the last column because it is the Loss label\n",
    "features"
   ]
  },
  {
   "cell_type": "code",
   "execution_count": 59,
   "metadata": {},
   "outputs": [
    {
     "name": "stdout",
     "output_type": "stream",
     "text": [
      "[15:03:47] WARNING: C:\\Users\\Administrator\\workspace\\xgboost-win64_release_1.1.0\\src\\learner.cc:480: \n",
      "Parameters: { feature_names } might not be used.\n",
      "\n",
      "  This may not be accurate due to some parameters are only used in language bindings but\n",
      "  passed down to XGBoost core.  Or some parameters are not used but slip through this\n",
      "  verification. Please open an issue if you find above cases.\n",
      "\n",
      "\n"
     ]
    },
    {
     "data": {
      "text/plain": [
       "XGBClassifier(base_score=0.5, booster='gbtree', colsample_bylevel=1,\n",
       "              colsample_bynode=1, colsample_bytree=1.0,\n",
       "              feature_names=Index(['Distance', 'HardBrakes', 'HardAccelerations', 'NightTime_Pct',\n",
       "       'VehicleType'],\n",
       "      dtype='object'),\n",
       "              gamma=0, gpu_id=-1, importance_type='gain',\n",
       "              interaction_constraints='', learning_rate=0.15, max_delta_step=0,\n",
       "              max_depth=6, min_child_weight=1, missing=nan,\n",
       "              monotone_constraints='()', n_estimators=200, n_jobs=0,\n",
       "              num_parallel_tree=1, random_state=0, reg_alpha=0, reg_lambda=1,\n",
       "              scale_pos_weight=1, subsample=1.0, tree_method='exact',\n",
       "              validate_parameters=1, verbosity=None)"
      ]
     },
     "execution_count": 59,
     "metadata": {},
     "output_type": "execute_result"
    }
   ],
   "source": [
    "binary_bdt_param = {\n",
    "    \"learning_rate\" : 0.15,\n",
    "    \"max_depth\" :6,\n",
    "    \"colsample_bytree\" : 1.0,\n",
    "    \"subsample\" : 1.0,\n",
    "    \"n_estimators\" : 200,\n",
    "    \"feature_names\" : features,\n",
    "    'objective' : 'binary:logistic' # objective function\n",
    "}\n",
    "binary_task_param = {\n",
    "    \"eval_metric\" : [\"logloss\",\"error\"],\n",
    "    \"early_stopping_rounds\" : 30,\n",
    "    \"eval_set\": [(X_train_adasyn[features],y_train_adasyn), \n",
    "                 (X_test[features],y_test)]\n",
    "}\n",
    "\n",
    "binary_bdt = xgb.XGBClassifier(**binary_bdt_param)\n",
    "binary_bdt.fit(X_train_smote[features], y_train_smote,\n",
    "              verbose=False, **binary_task_param)"
   ]
  },
  {
   "cell_type": "code",
   "execution_count": 60,
   "metadata": {},
   "outputs": [
    {
     "name": "stdout",
     "output_type": "stream",
     "text": [
      "0.8068333333333333\n"
     ]
    },
    {
     "data": {
      "text/plain": [
       "577.0"
      ]
     },
     "execution_count": 60,
     "metadata": {},
     "output_type": "execute_result"
    }
   ],
   "source": [
    "evaluated_df = X_test.copy()\n",
    "evaluated_df[\"binary_prob\"] = binary_bdt.predict_proba(X_test[features])[:,1]\n",
    "print(binary_bdt.score(X_test[features],y_test))\n",
    "\n",
    "binary_bdt.predict_proba(X_test[features])[:,1].round().sum()"
   ]
  },
  {
   "cell_type": "code",
   "execution_count": 62,
   "metadata": {},
   "outputs": [
    {
     "data": {
      "text/plain": [
       "577"
      ]
     },
     "execution_count": 62,
     "metadata": {},
     "output_type": "execute_result"
    }
   ],
   "source": [
    "y_pred = binary_bdt.predict(X_test[features])\n",
    "y_pred.sum()"
   ]
  },
  {
   "cell_type": "code",
   "execution_count": 63,
   "metadata": {},
   "outputs": [
    {
     "data": {
      "text/plain": [
       "array([0, 0, 1, ..., 0, 0, 0], dtype=int64)"
      ]
     },
     "execution_count": 63,
     "metadata": {},
     "output_type": "execute_result"
    }
   ],
   "source": [
    "binary_bdt.predict(X_test[features])"
   ]
  },
  {
   "cell_type": "code",
   "execution_count": 64,
   "metadata": {},
   "outputs": [
    {
     "name": "stdout",
     "output_type": "stream",
     "text": [
      "Accuracy: 80.68%\n",
      "Loss Event Accuracy: 12.89%\n",
      "Thresh=0.055, n=5, Accuracy: 80.93%\n",
      "Loss Event Accuracy: 12.63%\n",
      "Thresh=0.057, n=4, Accuracy: 80.77%\n",
      "Loss Event Accuracy: 9.21%\n",
      "Thresh=0.081, n=3, Accuracy: 82.20%\n",
      "Loss Event Accuracy: 3.95%\n",
      "Thresh=0.304, n=2, Accuracy: 84.52%\n",
      "Loss Event Accuracy: 4.21%\n",
      "Thresh=0.503, n=1, Accuracy: 84.92%\n"
     ]
    }
   ],
   "source": [
    "from sklearn.metrics import accuracy_score\n",
    "from sklearn.feature_selection import SelectFromModel\n",
    "\n",
    "predictions = binary_bdt.predict(X_test[features])\n",
    "accuracy = accuracy_score(y_test, predictions)\n",
    "print(\"Accuracy: %.2f%%\" % (accuracy * 100.0))\n",
    "thresholds = np.sort(binary_bdt.feature_importances_)\n",
    "for thresh in thresholds:\n",
    "    # select features using threshold\n",
    "    selection = SelectFromModel(binary_bdt, threshold=thresh, prefit=True)\n",
    "    select_X_train = selection.transform(X_train_smote[features])\n",
    "    # train model\n",
    "    selection_model = xgb.XGBClassifier()\n",
    "    selection_model.fit(select_X_train, y_train_smote)\n",
    "    # eval model\n",
    "    select_X_test = selection.transform(X_test[features])\n",
    "    predictions = selection_model.predict(select_X_test)\n",
    "    accuracy = accuracy_score(y_test, predictions)\n",
    "    print(\"Loss Event Accuracy: %.2f%%\"%(predictions[y_test==1].sum()/y_test.sum()*100.))\n",
    "    print(\"Thresh=%.3f, n=%d, Accuracy: %.2f%%\" % (thresh, select_X_train.shape[1], accuracy*100.0))"
   ]
  },
  {
   "cell_type": "code",
   "execution_count": 65,
   "metadata": {},
   "outputs": [
    {
     "data": {
      "text/plain": [
       "0.11710526315789474"
      ]
     },
     "execution_count": 65,
     "metadata": {},
     "output_type": "execute_result"
    }
   ],
   "source": [
    "predictions[y_test==1].sum()/y_test.sum()\n",
    "y_pred[y_test==1].sum()/y_test.sum()"
   ]
  },
  {
   "cell_type": "code",
   "execution_count": 66,
   "metadata": {},
   "outputs": [
    {
     "data": {
      "image/png": "[encoded data removed]",
      "text/plain": [
       "<Figure size 1152x288 with 2 Axes>"
      ]
     },
     "metadata": {
      "needs_background": "light"
     },
     "output_type": "display_data"
    }
   ],
   "source": [
    "fig, ax_enum = plt.subplots(1,2, figsize=(16,4))\n",
    "xgb.plot_importance(binary_bdt, importance_type=\"weight\", ax=ax_enum[0], title=\"Weight\",show_values=False, grid=False)\n",
    "xgb.plot_importance(binary_bdt, importance_type=\"gain\", ax=ax_enum[1], title=\"Gain\", show_values=False, grid=False)\n",
    "plt.ylabel(\"\")\n",
    "plt.sca(ax_enum[1])\n",
    "plt.ylabel(\"\")\n",
    "plt.subplots_adjust(wspace=0.3)"
   ]
  },
  {
   "cell_type": "markdown",
   "metadata": {},
   "source": [
    "importance_type=Gain is how useful is the variable in terms of separation where importance_type=Weight is how frequently splitting on the variable occurs"
   ]
  },
  {
   "cell_type": "code",
   "execution_count": 67,
   "metadata": {},
   "outputs": [
    {
     "data": {
      "image/png": "[encoded data removed]",
      "text/plain": [
       "<Figure size 432x288 with 1 Axes>"
      ]
     },
     "metadata": {
      "needs_background": "light"
     },
     "output_type": "display_data"
    },
    {
     "data": {
      "image/png": "[encoded data removed]",
      "text/plain": [
       "<Figure size 432x288 with 1 Axes>"
      ]
     },
     "metadata": {
      "needs_background": "light"
     },
     "output_type": "display_data"
    }
   ],
   "source": [
    "# plot all predictions (both signal and background)\n",
    "predictions = binary_bdt.predict_proba(X_test[features])[:,1]\n",
    "plt.figure();\n",
    "plt.hist(predictions,bins=np.linspace(0,1,50),histtype='step',color='darkgreen',label='All events');\n",
    "# make the plot readable\n",
    "plt.xlabel('Prediction from BDT',fontsize=12);\n",
    "plt.ylabel('Events',fontsize=12);\n",
    "plt.legend(frameon=False);\n",
    "\n",
    "# plot signal and background separately\n",
    "plt.figure();\n",
    "plt.hist(binary_bdt.predict_proba(X_test[features][y_test==1])[:,1],bins=np.linspace(0,1,50),\n",
    "         histtype='step',color='midnightblue',label='Loss');\n",
    "plt.hist(binary_bdt.predict_proba(X_test[features][y_test==0])[:,1],bins=np.linspace(0,1,50),\n",
    "         histtype='step',color='firebrick',label='No Loss');\n",
    "# make the plot readable\n",
    "plt.xlabel('Prediction from BDT',fontsize=12);\n",
    "plt.ylabel('Events',fontsize=12);\n",
    "plt.legend(frameon=False);"
   ]
  },
  {
   "cell_type": "code",
   "execution_count": 68,
   "metadata": {},
   "outputs": [
    {
     "data": {
      "image/png": "[encoded data removed]",
      "text/plain": [
       "<Figure size 432x288 with 1 Axes>"
      ]
     },
     "metadata": {
      "needs_background": "light"
     },
     "output_type": "display_data"
    },
    {
     "data": {
      "image/png": "[encoded data removed]",
      "text/plain": [
       "<Figure size 432x288 with 1 Axes>"
      ]
     },
     "metadata": {
      "needs_background": "light"
     },
     "output_type": "display_data"
    }
   ],
   "source": [
    "#Looking at the training set to make sure things still behave, we see they look good\n",
    "# However the smote events are the ones making up the clearly defined tail \n",
    "# plot all predictions (both signal and background)\n",
    "predictions = binary_bdt.predict_proba(X_train_smote[features])[:,1]\n",
    "plt.figure();\n",
    "plt.hist(predictions,bins=np.linspace(0,1,50),histtype='step',color='darkgreen',label='All events');\n",
    "# make the plot readable\n",
    "plt.xlabel('Prediction from BDT',fontsize=12);\n",
    "plt.ylabel('Events',fontsize=12);\n",
    "plt.legend(frameon=False);\n",
    "\n",
    "# plot signal and background separately\n",
    "plt.figure();\n",
    "plt.hist(binary_bdt.predict_proba(X_train_smote[features][y_train_smote==1])[:,1],bins=np.linspace(0,1,50),\n",
    "         histtype='step',color='midnightblue',label='Loss');\n",
    "plt.hist(binary_bdt.predict_proba(X_train_smote[features][y_train_smote==0])[:,1],bins=np.linspace(0,1,50),\n",
    "         histtype='step',color='firebrick',label='No Loss');\n",
    "# make the plot readable\n",
    "plt.xlabel('Prediction from BDT',fontsize=12);\n",
    "plt.ylabel('Events',fontsize=12);\n",
    "plt.legend(frameon=False);"
   ]
  },
  {
   "cell_type": "code",
   "execution_count": null,
   "metadata": {},
   "outputs": [],
   "source": []
  },
  {
   "cell_type": "code",
   "execution_count": null,
   "metadata": {},
   "outputs": [],
   "source": []
  },
  {
   "cell_type": "code",
   "execution_count": null,
   "metadata": {},
   "outputs": [],
   "source": []
  },
  {
   "cell_type": "code",
   "execution_count": null,
   "metadata": {},
   "outputs": [],
   "source": []
  }
 ],
 "metadata": {
  "kernelspec": {
   "display_name": "Python 3",
   "language": "python",
   "name": "python3"
  },
  "language_info": {
   "codemirror_mode": {
    "name": "ipython",
    "version": 3
   },
   "file_extension": ".py",
   "mimetype": "text/x-python",
   "name": "python",
   "nbconvert_exporter": "python",
   "pygments_lexer": "ipython3",
   "version": "3.7.6"
  }
 },
 "nbformat": 4,
 "nbformat_minor": 4
}
