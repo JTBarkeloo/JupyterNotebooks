{
 "cells": [
  {
   "cell_type": "code",
   "execution_count": 1,
   "metadata": {},
   "outputs": [],
   "source": [
    "import pandas as pd\n",
    "import numpy as np\n",
    "import json"
   ]
  },
  {
   "cell_type": "code",
   "execution_count": 2,
   "metadata": {},
   "outputs": [],
   "source": [
    "from googlefinance import getQuotes"
   ]
  },
  {
   "cell_type": "code",
   "execution_count": 14,
   "metadata": {},
   "outputs": [],
   "source": [
    "from yahooquery import Ticker"
   ]
  },
  {
   "cell_type": "code",
   "execution_count": 15,
   "metadata": {
    "scrolled": true
   },
   "outputs": [],
   "source": [
    "aapl = Ticker('aapl')"
   ]
  },
  {
   "cell_type": "code",
   "execution_count": 18,
   "metadata": {},
   "outputs": [],
   "source": [
    "tickers = Ticker(['msft', 'goog', 'vffvx'])"
   ]
  },
  {
   "cell_type": "code",
   "execution_count": 17,
   "metadata": {},
   "outputs": [
    {
     "data": {
      "text/html": [
       "<div>\n",
       "<style scoped>\n",
       "    .dataframe tbody tr th:only-of-type {\n",
       "        vertical-align: middle;\n",
       "    }\n",
       "\n",
       "    .dataframe tbody tr th {\n",
       "        vertical-align: top;\n",
       "    }\n",
       "\n",
       "    .dataframe thead th {\n",
       "        text-align: right;\n",
       "    }\n",
       "</style>\n",
       "<table border=\"1\" class=\"dataframe\">\n",
       "  <thead>\n",
       "    <tr style=\"text-align: right;\">\n",
       "      <th></th>\n",
       "      <th></th>\n",
       "      <th>high</th>\n",
       "      <th>low</th>\n",
       "      <th>volume</th>\n",
       "      <th>close</th>\n",
       "      <th>open</th>\n",
       "      <th>adjclose</th>\n",
       "      <th>dividends</th>\n",
       "    </tr>\n",
       "    <tr>\n",
       "      <th>symbol</th>\n",
       "      <th>date</th>\n",
       "      <th></th>\n",
       "      <th></th>\n",
       "      <th></th>\n",
       "      <th></th>\n",
       "      <th></th>\n",
       "      <th></th>\n",
       "      <th></th>\n",
       "    </tr>\n",
       "  </thead>\n",
       "  <tbody>\n",
       "    <tr>\n",
       "      <th rowspan=\"5\" valign=\"top\">aapl</th>\n",
       "      <th>2020-01-02 14:30:00</th>\n",
       "      <td>300.600006</td>\n",
       "      <td>295.190002</td>\n",
       "      <td>33870100.0</td>\n",
       "      <td>300.350006</td>\n",
       "      <td>296.239990</td>\n",
       "      <td>298.829956</td>\n",
       "      <td>0.0</td>\n",
       "    </tr>\n",
       "    <tr>\n",
       "      <th>2020-01-03 14:30:00</th>\n",
       "      <td>300.579987</td>\n",
       "      <td>296.500000</td>\n",
       "      <td>36580700.0</td>\n",
       "      <td>297.429993</td>\n",
       "      <td>297.149994</td>\n",
       "      <td>295.924713</td>\n",
       "      <td>0.0</td>\n",
       "    </tr>\n",
       "    <tr>\n",
       "      <th>2020-01-06 14:30:00</th>\n",
       "      <td>299.959991</td>\n",
       "      <td>292.750000</td>\n",
       "      <td>29596800.0</td>\n",
       "      <td>299.799988</td>\n",
       "      <td>293.790009</td>\n",
       "      <td>298.282715</td>\n",
       "      <td>0.0</td>\n",
       "    </tr>\n",
       "    <tr>\n",
       "      <th>2020-01-07 14:30:00</th>\n",
       "      <td>300.899994</td>\n",
       "      <td>297.480011</td>\n",
       "      <td>27218000.0</td>\n",
       "      <td>298.390015</td>\n",
       "      <td>299.839996</td>\n",
       "      <td>296.879883</td>\n",
       "      <td>0.0</td>\n",
       "    </tr>\n",
       "    <tr>\n",
       "      <th>2020-01-08 14:30:00</th>\n",
       "      <td>304.440002</td>\n",
       "      <td>297.160004</td>\n",
       "      <td>33019800.0</td>\n",
       "      <td>303.190002</td>\n",
       "      <td>297.160004</td>\n",
       "      <td>301.655548</td>\n",
       "      <td>0.0</td>\n",
       "    </tr>\n",
       "    <tr>\n",
       "      <th>...</th>\n",
       "      <th>...</th>\n",
       "      <td>...</td>\n",
       "      <td>...</td>\n",
       "      <td>...</td>\n",
       "      <td>...</td>\n",
       "      <td>...</td>\n",
       "      <td>...</td>\n",
       "      <td>...</td>\n",
       "    </tr>\n",
       "    <tr>\n",
       "      <th rowspan=\"5\" valign=\"top\">vffvx</th>\n",
       "      <th>2020-06-16 13:30:00</th>\n",
       "      <td>41.240002</td>\n",
       "      <td>41.240002</td>\n",
       "      <td>0.0</td>\n",
       "      <td>41.240002</td>\n",
       "      <td>41.240002</td>\n",
       "      <td>41.240002</td>\n",
       "      <td>0.0</td>\n",
       "    </tr>\n",
       "    <tr>\n",
       "      <th>2020-06-17 13:30:00</th>\n",
       "      <td>41.180000</td>\n",
       "      <td>41.180000</td>\n",
       "      <td>0.0</td>\n",
       "      <td>41.180000</td>\n",
       "      <td>41.180000</td>\n",
       "      <td>41.180000</td>\n",
       "      <td>0.0</td>\n",
       "    </tr>\n",
       "    <tr>\n",
       "      <th>2020-06-18 13:30:00</th>\n",
       "      <td>41.160000</td>\n",
       "      <td>41.160000</td>\n",
       "      <td>0.0</td>\n",
       "      <td>41.160000</td>\n",
       "      <td>41.160000</td>\n",
       "      <td>41.160000</td>\n",
       "      <td>0.0</td>\n",
       "    </tr>\n",
       "    <tr>\n",
       "      <th>2020-06-19 13:30:00</th>\n",
       "      <td>41.020000</td>\n",
       "      <td>41.020000</td>\n",
       "      <td>0.0</td>\n",
       "      <td>41.020000</td>\n",
       "      <td>41.020000</td>\n",
       "      <td>41.020000</td>\n",
       "      <td>0.0</td>\n",
       "    </tr>\n",
       "    <tr>\n",
       "      <th>2020-06-22 13:30:00</th>\n",
       "      <td>41.020000</td>\n",
       "      <td>41.020000</td>\n",
       "      <td>0.0</td>\n",
       "      <td>41.020000</td>\n",
       "      <td>41.020000</td>\n",
       "      <td>41.020000</td>\n",
       "      <td>0.0</td>\n",
       "    </tr>\n",
       "  </tbody>\n",
       "</table>\n",
       "<p>595 rows × 7 columns</p>\n",
       "</div>"
      ],
      "text/plain": [
       "                                  high         low      volume       close  \\\n",
       "symbol date                                                                  \n",
       "aapl   2020-01-02 14:30:00  300.600006  295.190002  33870100.0  300.350006   \n",
       "       2020-01-03 14:30:00  300.579987  296.500000  36580700.0  297.429993   \n",
       "       2020-01-06 14:30:00  299.959991  292.750000  29596800.0  299.799988   \n",
       "       2020-01-07 14:30:00  300.899994  297.480011  27218000.0  298.390015   \n",
       "       2020-01-08 14:30:00  304.440002  297.160004  33019800.0  303.190002   \n",
       "...                                ...         ...         ...         ...   \n",
       "vffvx  2020-06-16 13:30:00   41.240002   41.240002         0.0   41.240002   \n",
       "       2020-06-17 13:30:00   41.180000   41.180000         0.0   41.180000   \n",
       "       2020-06-18 13:30:00   41.160000   41.160000         0.0   41.160000   \n",
       "       2020-06-19 13:30:00   41.020000   41.020000         0.0   41.020000   \n",
       "       2020-06-22 13:30:00   41.020000   41.020000         0.0   41.020000   \n",
       "\n",
       "                                  open    adjclose  dividends  \n",
       "symbol date                                                    \n",
       "aapl   2020-01-02 14:30:00  296.239990  298.829956        0.0  \n",
       "       2020-01-03 14:30:00  297.149994  295.924713        0.0  \n",
       "       2020-01-06 14:30:00  293.790009  298.282715        0.0  \n",
       "       2020-01-07 14:30:00  299.839996  296.879883        0.0  \n",
       "       2020-01-08 14:30:00  297.160004  301.655548        0.0  \n",
       "...                                ...         ...        ...  \n",
       "vffvx  2020-06-16 13:30:00   41.240002   41.240002        0.0  \n",
       "       2020-06-17 13:30:00   41.180000   41.180000        0.0  \n",
       "       2020-06-18 13:30:00   41.160000   41.160000        0.0  \n",
       "       2020-06-19 13:30:00   41.020000   41.020000        0.0  \n",
       "       2020-06-22 13:30:00   41.020000   41.020000        0.0  \n",
       "\n",
       "[595 rows x 7 columns]"
      ]
     },
     "execution_count": 17,
     "metadata": {},
     "output_type": "execute_result"
    }
   ],
   "source": [
    "tickers.history()"
   ]
  },
  {
   "cell_type": "code",
   "execution_count": 19,
   "metadata": {},
   "outputs": [],
   "source": [
    "tickers.history?"
   ]
  },
  {
   "cell_type": "code",
   "execution_count": 20,
   "metadata": {},
   "outputs": [],
   "source": [
    "ira = Ticker('vffvx')"
   ]
  },
  {
   "cell_type": "code",
   "execution_count": 22,
   "metadata": {},
   "outputs": [
    {
     "data": {
      "text/html": [
       "<div>\n",
       "<style scoped>\n",
       "    .dataframe tbody tr th:only-of-type {\n",
       "        vertical-align: middle;\n",
       "    }\n",
       "\n",
       "    .dataframe tbody tr th {\n",
       "        vertical-align: top;\n",
       "    }\n",
       "\n",
       "    .dataframe thead th {\n",
       "        text-align: right;\n",
       "    }\n",
       "</style>\n",
       "<table border=\"1\" class=\"dataframe\">\n",
       "  <thead>\n",
       "    <tr style=\"text-align: right;\">\n",
       "      <th></th>\n",
       "      <th>high</th>\n",
       "      <th>low</th>\n",
       "      <th>close</th>\n",
       "      <th>open</th>\n",
       "      <th>volume</th>\n",
       "      <th>adjclose</th>\n",
       "      <th>dividends</th>\n",
       "    </tr>\n",
       "  </thead>\n",
       "  <tbody>\n",
       "    <tr>\n",
       "      <th>2010-08-18 13:30:00</th>\n",
       "      <td>20.000000</td>\n",
       "      <td>20.000000</td>\n",
       "      <td>20.000000</td>\n",
       "      <td>20.000000</td>\n",
       "      <td>0.0</td>\n",
       "      <td>16.678638</td>\n",
       "      <td>0.0</td>\n",
       "    </tr>\n",
       "    <tr>\n",
       "      <th>2010-08-19 13:30:00</th>\n",
       "      <td>19.730000</td>\n",
       "      <td>19.730000</td>\n",
       "      <td>19.730000</td>\n",
       "      <td>19.730000</td>\n",
       "      <td>0.0</td>\n",
       "      <td>16.453480</td>\n",
       "      <td>0.0</td>\n",
       "    </tr>\n",
       "    <tr>\n",
       "      <th>2010-08-20 13:30:00</th>\n",
       "      <td>19.639999</td>\n",
       "      <td>19.639999</td>\n",
       "      <td>19.639999</td>\n",
       "      <td>19.639999</td>\n",
       "      <td>0.0</td>\n",
       "      <td>16.378422</td>\n",
       "      <td>0.0</td>\n",
       "    </tr>\n",
       "    <tr>\n",
       "      <th>2010-08-23 13:30:00</th>\n",
       "      <td>19.559999</td>\n",
       "      <td>19.559999</td>\n",
       "      <td>19.559999</td>\n",
       "      <td>19.559999</td>\n",
       "      <td>0.0</td>\n",
       "      <td>16.311707</td>\n",
       "      <td>0.0</td>\n",
       "    </tr>\n",
       "    <tr>\n",
       "      <th>2010-08-24 13:30:00</th>\n",
       "      <td>19.309999</td>\n",
       "      <td>19.309999</td>\n",
       "      <td>19.309999</td>\n",
       "      <td>19.309999</td>\n",
       "      <td>0.0</td>\n",
       "      <td>16.103224</td>\n",
       "      <td>0.0</td>\n",
       "    </tr>\n",
       "    <tr>\n",
       "      <th>...</th>\n",
       "      <td>...</td>\n",
       "      <td>...</td>\n",
       "      <td>...</td>\n",
       "      <td>...</td>\n",
       "      <td>...</td>\n",
       "      <td>...</td>\n",
       "      <td>...</td>\n",
       "    </tr>\n",
       "    <tr>\n",
       "      <th>2020-06-16 13:30:00</th>\n",
       "      <td>41.240002</td>\n",
       "      <td>41.240002</td>\n",
       "      <td>41.240002</td>\n",
       "      <td>41.240002</td>\n",
       "      <td>0.0</td>\n",
       "      <td>41.240002</td>\n",
       "      <td>0.0</td>\n",
       "    </tr>\n",
       "    <tr>\n",
       "      <th>2020-06-17 13:30:00</th>\n",
       "      <td>41.180000</td>\n",
       "      <td>41.180000</td>\n",
       "      <td>41.180000</td>\n",
       "      <td>41.180000</td>\n",
       "      <td>0.0</td>\n",
       "      <td>41.180000</td>\n",
       "      <td>0.0</td>\n",
       "    </tr>\n",
       "    <tr>\n",
       "      <th>2020-06-18 13:30:00</th>\n",
       "      <td>41.160000</td>\n",
       "      <td>41.160000</td>\n",
       "      <td>41.160000</td>\n",
       "      <td>41.160000</td>\n",
       "      <td>0.0</td>\n",
       "      <td>41.160000</td>\n",
       "      <td>0.0</td>\n",
       "    </tr>\n",
       "    <tr>\n",
       "      <th>2020-06-19 13:30:00</th>\n",
       "      <td>41.020000</td>\n",
       "      <td>41.020000</td>\n",
       "      <td>41.020000</td>\n",
       "      <td>41.020000</td>\n",
       "      <td>0.0</td>\n",
       "      <td>41.020000</td>\n",
       "      <td>0.0</td>\n",
       "    </tr>\n",
       "    <tr>\n",
       "      <th>2020-06-22 13:30:00</th>\n",
       "      <td>41.020000</td>\n",
       "      <td>41.020000</td>\n",
       "      <td>41.020000</td>\n",
       "      <td>41.020000</td>\n",
       "      <td>0.0</td>\n",
       "      <td>41.020000</td>\n",
       "      <td>0.0</td>\n",
       "    </tr>\n",
       "  </tbody>\n",
       "</table>\n",
       "<p>2478 rows × 7 columns</p>\n",
       "</div>"
      ],
      "text/plain": [
       "                          high        low      close       open  volume  \\\n",
       "2010-08-18 13:30:00  20.000000  20.000000  20.000000  20.000000     0.0   \n",
       "2010-08-19 13:30:00  19.730000  19.730000  19.730000  19.730000     0.0   \n",
       "2010-08-20 13:30:00  19.639999  19.639999  19.639999  19.639999     0.0   \n",
       "2010-08-23 13:30:00  19.559999  19.559999  19.559999  19.559999     0.0   \n",
       "2010-08-24 13:30:00  19.309999  19.309999  19.309999  19.309999     0.0   \n",
       "...                        ...        ...        ...        ...     ...   \n",
       "2020-06-16 13:30:00  41.240002  41.240002  41.240002  41.240002     0.0   \n",
       "2020-06-17 13:30:00  41.180000  41.180000  41.180000  41.180000     0.0   \n",
       "2020-06-18 13:30:00  41.160000  41.160000  41.160000  41.160000     0.0   \n",
       "2020-06-19 13:30:00  41.020000  41.020000  41.020000  41.020000     0.0   \n",
       "2020-06-22 13:30:00  41.020000  41.020000  41.020000  41.020000     0.0   \n",
       "\n",
       "                      adjclose  dividends  \n",
       "2010-08-18 13:30:00  16.678638        0.0  \n",
       "2010-08-19 13:30:00  16.453480        0.0  \n",
       "2010-08-20 13:30:00  16.378422        0.0  \n",
       "2010-08-23 13:30:00  16.311707        0.0  \n",
       "2010-08-24 13:30:00  16.103224        0.0  \n",
       "...                        ...        ...  \n",
       "2020-06-16 13:30:00  41.240002        0.0  \n",
       "2020-06-17 13:30:00  41.180000        0.0  \n",
       "2020-06-18 13:30:00  41.160000        0.0  \n",
       "2020-06-19 13:30:00  41.020000        0.0  \n",
       "2020-06-22 13:30:00  41.020000        0.0  \n",
       "\n",
       "[2478 rows x 7 columns]"
      ]
     },
     "execution_count": 22,
     "metadata": {},
     "output_type": "execute_result"
    }
   ],
   "source": [
    "ira.history(period='max')"
   ]
  },
  {
   "cell_type": "code",
   "execution_count": 24,
   "metadata": {},
   "outputs": [
    {
     "data": {
      "text/plain": [
       "pandas.core.frame.DataFrame"
      ]
     },
     "execution_count": 24,
     "metadata": {},
     "output_type": "execute_result"
    }
   ],
   "source": [
    "type(ira.history(period='max'))"
   ]
  },
  {
   "cell_type": "code",
   "execution_count": 25,
   "metadata": {},
   "outputs": [],
   "source": [
    "history = ira.history(period='max')"
   ]
  },
  {
   "cell_type": "code",
   "execution_count": 26,
   "metadata": {},
   "outputs": [
    {
     "ename": "TypeError",
     "evalue": "'Series' object is not callable",
     "output_type": "error",
     "traceback": [
      "\u001b[1;31m---------------------------------------------------------------------------\u001b[0m",
      "\u001b[1;31mTypeError\u001b[0m                                 Traceback (most recent call last)",
      "\u001b[1;32m<ipython-input-26-f9c3eeb3dd75>\u001b[0m in \u001b[0;36m<module>\u001b[1;34m\u001b[0m\n\u001b[1;32m----> 1\u001b[1;33m \u001b[0mhistory\u001b[0m\u001b[1;33m.\u001b[0m\u001b[0mclose\u001b[0m\u001b[1;33m(\u001b[0m\u001b[1;33m)\u001b[0m\u001b[1;33m\u001b[0m\u001b[1;33m\u001b[0m\u001b[0m\n\u001b[0m",
      "\u001b[1;31mTypeError\u001b[0m: 'Series' object is not callable"
     ]
    }
   ],
   "source": [
    "history.close()"
   ]
  },
  {
   "cell_type": "code",
   "execution_count": 31,
   "metadata": {},
   "outputs": [
    {
     "data": {
      "text/plain": [
       "<matplotlib.axes._subplots.AxesSubplot at 0x211e8f8fa08>"
      ]
     },
     "execution_count": 31,
     "metadata": {},
     "output_type": "execute_result"
    },
    {
     "data": {
      "image/png": "[encoded data removed]",
      "text/plain": [
       "<Figure size 432x288 with 1 Axes>"
      ]
     },
     "metadata": {
      "needs_background": "light"
     },
     "output_type": "display_data"
    }
   ],
   "source": [
    "history.close.plot()"
   ]
  },
  {
   "cell_type": "code",
   "execution_count": null,
   "metadata": {},
   "outputs": [],
   "source": []
  }
 ],
 "metadata": {
  "kernelspec": {
   "display_name": "Python 3",
   "language": "python",
   "name": "python3"
  },
  "language_info": {
   "codemirror_mode": {
    "name": "ipython",
    "version": 3
   },
   "file_extension": ".py",
   "mimetype": "text/x-python",
   "name": "python",
   "nbconvert_exporter": "python",
   "pygments_lexer": "ipython3",
   "version": "3.7.6"
  }
 },
 "nbformat": 4,
 "nbformat_minor": 4
}
