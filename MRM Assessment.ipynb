{
 "cells": [
  {
   "cell_type": "code",
   "execution_count": 1,
   "metadata": {},
   "outputs": [
    {
     "name": "stderr",
     "output_type": "stream",
     "text": [
      "Using TensorFlow backend.\n"
     ]
    }
   ],
   "source": [
    "#Suppress Warnings \n",
    "import warnings\n",
    "warnings.filterwarnings('ignore')\n",
    "\n",
    "#Standard Imports\n",
    "import numpy as np\n",
    "import pandas as pd\n",
    "import matplotlib.pyplot as plt\n",
    "import sys\n",
    "import sklearn\n",
    "import keras\n",
    "import seaborn as sn\n",
    "\n",
    "#Necessary Imports\n",
    "from sklearn import linear_model\n",
    "from sklearn.model_selection import train_test_split\n",
    "from sklearn.metrics import roc_curve,roc_auc_score\n",
    "from sklearn.metrics import confusion_matrix\n",
    "import xgboost as xgb\n",
    "from imblearn.over_sampling import SMOTE\n",
    "from sklearn.linear_model import LogisticRegression\n",
    "from sklearn.preprocessing import RobustScaler\n",
    "from sklearn.metrics import balanced_accuracy_score"
   ]
  },
  {
   "cell_type": "markdown",
   "metadata": {},
   "source": [
    "# Nationwide MRM Assessment - J. Barkeloo Ph.D.\n",
    "## Exploratory Data Analysis\n",
    "Given is a .csv file of 30,000 simulated people between the ages of 18 and 108 of various education levels (High School/College), an array of incomes, vehicles of 3 types (Standard, Luxury, Truck), and number of accidents over the last two years\n",
    "\n",
    "## Assessment Assumption: \n",
    "All loss events will be categorized as a loss event to make the prediction of loss-like events more straightforward since it is now a binary problem.  This means the few events that have multiple collisions, Order~150 events, will be combined with single accident events.  This is under the assumption that multiple accidents are significantly harder to model and would require much more in depth data about driving history and style than Age, Education, Income, Car Type.\n",
    "\n",
    "#### Definition of Risk\n",
    "An extension of this is that any classification into excessively risky individuals is lost.  However, given that the number of multiple loss events (151) is less than 10% of the total amount of loss events (1859) this choice was made to simplify loss estimation.  Without a background in actuarial sciences my best estimation of risk is to find individuals in the 0 loss case events that overlap more closely with those in the loss case.  To do this multiple models are created, a linear logistic model is used in addition to a boosted decision tree model.  In addition to this a quick Random Forest Model was tested as well.  Trying to achieve a high accuracy for loss events even at the expense of falsely classifying no loss events leads to a confusion matrix with columns that can be interpreted as drivers with lower risk (modeled 0 loss drivers, independent of their actual loss) and higher risk (modeled 1 loss drivers).  The falsely categorized no loss drivers who end in the loss category represent higher potential loss while the falsely categorized loss drivers in the no loss category are safer drivers that could be incentivized with discounts or 'accident forgiveness'.  That said the balanced_accuracy has been used to guide model choice while at the same time"
   ]
  },
  {
   "cell_type": "code",
   "execution_count": 2,
   "metadata": {},
   "outputs": [],
   "source": [
    "mrm_data = pd.read_csv(\"C:/Users/JTBar/JupyterNotebooks/RM Exercise Files/accident_history.csv\")"
   ]
  },
  {
   "cell_type": "code",
   "execution_count": 3,
   "metadata": {},
   "outputs": [
    {
     "data": {
      "text/html": [
       "<div>\n",
       "<style scoped>\n",
       "    .dataframe tbody tr th:only-of-type {\n",
       "        vertical-align: middle;\n",
       "    }\n",
       "\n",
       "    .dataframe tbody tr th {\n",
       "        vertical-align: top;\n",
       "    }\n",
       "\n",
       "    .dataframe thead th {\n",
       "        text-align: right;\n",
       "    }\n",
       "</style>\n",
       "<table border=\"1\" class=\"dataframe\">\n",
       "  <thead>\n",
       "    <tr style=\"text-align: right;\">\n",
       "      <th></th>\n",
       "      <th>Unnamed: 0</th>\n",
       "      <th>age</th>\n",
       "      <th>edu</th>\n",
       "      <th>inc</th>\n",
       "      <th>car</th>\n",
       "      <th>acc</th>\n",
       "    </tr>\n",
       "  </thead>\n",
       "  <tbody>\n",
       "    <tr>\n",
       "      <th>0</th>\n",
       "      <td>1</td>\n",
       "      <td>20</td>\n",
       "      <td>High School</td>\n",
       "      <td>66672.500702</td>\n",
       "      <td>Standard</td>\n",
       "      <td>0</td>\n",
       "    </tr>\n",
       "    <tr>\n",
       "      <th>1</th>\n",
       "      <td>2</td>\n",
       "      <td>21</td>\n",
       "      <td>College</td>\n",
       "      <td>71749.949948</td>\n",
       "      <td>Standard</td>\n",
       "      <td>1</td>\n",
       "    </tr>\n",
       "    <tr>\n",
       "      <th>2</th>\n",
       "      <td>3</td>\n",
       "      <td>25</td>\n",
       "      <td>College</td>\n",
       "      <td>89297.226073</td>\n",
       "      <td>Standard</td>\n",
       "      <td>0</td>\n",
       "    </tr>\n",
       "    <tr>\n",
       "      <th>3</th>\n",
       "      <td>4</td>\n",
       "      <td>18</td>\n",
       "      <td>College</td>\n",
       "      <td>38600.858940</td>\n",
       "      <td>Standard</td>\n",
       "      <td>0</td>\n",
       "    </tr>\n",
       "    <tr>\n",
       "      <th>4</th>\n",
       "      <td>5</td>\n",
       "      <td>18</td>\n",
       "      <td>High School</td>\n",
       "      <td>38267.125142</td>\n",
       "      <td>Truck</td>\n",
       "      <td>0</td>\n",
       "    </tr>\n",
       "  </tbody>\n",
       "</table>\n",
       "</div>"
      ],
      "text/plain": [
       "   Unnamed: 0  age          edu           inc       car  acc\n",
       "0           1   20  High School  66672.500702  Standard    0\n",
       "1           2   21      College  71749.949948  Standard    1\n",
       "2           3   25      College  89297.226073  Standard    0\n",
       "3           4   18      College  38600.858940  Standard    0\n",
       "4           5   18  High School  38267.125142     Truck    0"
      ]
     },
     "execution_count": 3,
     "metadata": {},
     "output_type": "execute_result"
    }
   ],
   "source": [
    "mrm_data.head()"
   ]
  },
  {
   "cell_type": "code",
   "execution_count": 4,
   "metadata": {},
   "outputs": [
    {
     "data": {
      "text/html": [
       "<div>\n",
       "<style scoped>\n",
       "    .dataframe tbody tr th:only-of-type {\n",
       "        vertical-align: middle;\n",
       "    }\n",
       "\n",
       "    .dataframe tbody tr th {\n",
       "        vertical-align: top;\n",
       "    }\n",
       "\n",
       "    .dataframe thead th {\n",
       "        text-align: right;\n",
       "    }\n",
       "</style>\n",
       "<table border=\"1\" class=\"dataframe\">\n",
       "  <thead>\n",
       "    <tr style=\"text-align: right;\">\n",
       "      <th></th>\n",
       "      <th>Unnamed: 0</th>\n",
       "      <th>age</th>\n",
       "      <th>inc</th>\n",
       "      <th>acc</th>\n",
       "    </tr>\n",
       "  </thead>\n",
       "  <tbody>\n",
       "    <tr>\n",
       "      <th>count</th>\n",
       "      <td>30000.000000</td>\n",
       "      <td>30000.000000</td>\n",
       "      <td>30000.000000</td>\n",
       "      <td>30000.000000</td>\n",
       "    </tr>\n",
       "    <tr>\n",
       "      <th>mean</th>\n",
       "      <td>15000.500000</td>\n",
       "      <td>25.033100</td>\n",
       "      <td>80869.337116</td>\n",
       "      <td>0.067900</td>\n",
       "    </tr>\n",
       "    <tr>\n",
       "      <th>std</th>\n",
       "      <td>8660.398374</td>\n",
       "      <td>7.598561</td>\n",
       "      <td>24633.663980</td>\n",
       "      <td>0.278374</td>\n",
       "    </tr>\n",
       "    <tr>\n",
       "      <th>min</th>\n",
       "      <td>1.000000</td>\n",
       "      <td>18.000000</td>\n",
       "      <td>6897.475627</td>\n",
       "      <td>0.000000</td>\n",
       "    </tr>\n",
       "    <tr>\n",
       "      <th>25%</th>\n",
       "      <td>7500.750000</td>\n",
       "      <td>20.000000</td>\n",
       "      <td>63119.116535</td>\n",
       "      <td>0.000000</td>\n",
       "    </tr>\n",
       "    <tr>\n",
       "      <th>50%</th>\n",
       "      <td>15000.500000</td>\n",
       "      <td>23.000000</td>\n",
       "      <td>80020.947916</td>\n",
       "      <td>0.000000</td>\n",
       "    </tr>\n",
       "    <tr>\n",
       "      <th>75%</th>\n",
       "      <td>22500.250000</td>\n",
       "      <td>28.000000</td>\n",
       "      <td>98102.032547</td>\n",
       "      <td>0.000000</td>\n",
       "    </tr>\n",
       "    <tr>\n",
       "      <th>max</th>\n",
       "      <td>30000.000000</td>\n",
       "      <td>108.000000</td>\n",
       "      <td>168742.900640</td>\n",
       "      <td>5.000000</td>\n",
       "    </tr>\n",
       "  </tbody>\n",
       "</table>\n",
       "</div>"
      ],
      "text/plain": [
       "         Unnamed: 0           age            inc           acc\n",
       "count  30000.000000  30000.000000   30000.000000  30000.000000\n",
       "mean   15000.500000     25.033100   80869.337116      0.067900\n",
       "std     8660.398374      7.598561   24633.663980      0.278374\n",
       "min        1.000000     18.000000    6897.475627      0.000000\n",
       "25%     7500.750000     20.000000   63119.116535      0.000000\n",
       "50%    15000.500000     23.000000   80020.947916      0.000000\n",
       "75%    22500.250000     28.000000   98102.032547      0.000000\n",
       "max    30000.000000    108.000000  168742.900640      5.000000"
      ]
     },
     "execution_count": 4,
     "metadata": {},
     "output_type": "execute_result"
    }
   ],
   "source": [
    "mrm_data.describe()"
   ]
  },
  {
   "cell_type": "code",
   "execution_count": 5,
   "metadata": {},
   "outputs": [
    {
     "data": {
      "text/plain": [
       "edu\n",
       "College        19646\n",
       "High School    10354\n",
       "Name: acc, dtype: int64"
      ]
     },
     "execution_count": 5,
     "metadata": {},
     "output_type": "execute_result"
    }
   ],
   "source": [
    "mrm_data.groupby(['edu'])['acc'].count()"
   ]
  },
  {
   "cell_type": "code",
   "execution_count": 6,
   "metadata": {},
   "outputs": [
    {
     "data": {
      "text/plain": [
       "edu          acc\n",
       "College      0      18434\n",
       "             1       1111\n",
       "             2         87\n",
       "             3          9\n",
       "             4          4\n",
       "             5          1\n",
       "High School  0       9707\n",
       "             1        597\n",
       "             2         44\n",
       "             3          5\n",
       "             4          1\n",
       "Name: acc, dtype: int64"
      ]
     },
     "execution_count": 6,
     "metadata": {},
     "output_type": "execute_result"
    }
   ],
   "source": [
    "mrm_data.groupby(['edu','acc'])['acc'].count()"
   ]
  },
  {
   "cell_type": "code",
   "execution_count": 7,
   "metadata": {},
   "outputs": [
    {
     "data": {
      "text/plain": [
       "car\n",
       "Luxury       3137\n",
       "Standard    15750\n",
       "Truck       11113\n",
       "Name: acc, dtype: int64"
      ]
     },
     "execution_count": 7,
     "metadata": {},
     "output_type": "execute_result"
    }
   ],
   "source": [
    "mrm_data.groupby(['car'])['acc'].count()"
   ]
  },
  {
   "cell_type": "code",
   "execution_count": 8,
   "metadata": {},
   "outputs": [
    {
     "data": {
      "text/plain": [
       "car       acc\n",
       "Luxury    0       2874\n",
       "          1        236\n",
       "          2         23\n",
       "          3          3\n",
       "          4          1\n",
       "Standard  0      14713\n",
       "          1        940\n",
       "          2         82\n",
       "          3         11\n",
       "          4          3\n",
       "          5          1\n",
       "Truck     0      10554\n",
       "          1        532\n",
       "          2         26\n",
       "          4          1\n",
       "Name: acc, dtype: int64"
      ]
     },
     "execution_count": 8,
     "metadata": {},
     "output_type": "execute_result"
    }
   ],
   "source": [
    "mrm_data.groupby(['car','acc'])['acc'].count()"
   ]
  },
  {
   "cell_type": "code",
   "execution_count": 9,
   "metadata": {},
   "outputs": [
    {
     "data": {
      "image/png": "[encoded data removed]",
      "text/plain": [
       "<Figure size 432x288 with 3 Axes>"
      ]
     },
     "metadata": {
      "needs_background": "light"
     },
     "output_type": "display_data"
    }
   ],
   "source": [
    "mrm_data.drop(['Unnamed: 0'],axis=1).plot(subplots=True)\n",
    "plt.tight_layout()\n",
    "plt.show()"
   ]
  },
  {
   "cell_type": "code",
   "execution_count": 10,
   "metadata": {},
   "outputs": [
    {
     "data": {
      "image/png": "[encoded data removed]",
      "text/plain": [
       "<Figure size 432x288 with 1 Axes>"
      ]
     },
     "metadata": {
      "needs_background": "light"
     },
     "output_type": "display_data"
    },
    {
     "data": {
      "text/plain": [
       "count    30000.000000\n",
       "mean        25.033100\n",
       "std          7.598561\n",
       "min         18.000000\n",
       "25%         20.000000\n",
       "50%         23.000000\n",
       "75%         28.000000\n",
       "max        108.000000\n",
       "Name: age, dtype: float64"
      ]
     },
     "execution_count": 10,
     "metadata": {},
     "output_type": "execute_result"
    }
   ],
   "source": [
    "mrm_data['age'].hist(bins=20)\n",
    "plt.yscale('log')\n",
    "plt.xlabel('Age(Years)', fontsize='large')\n",
    "plt.ylabel('Events', fontsize='large')\n",
    "plt.show()\n",
    "mrm_data['age'].describe()"
   ]
  },
  {
   "cell_type": "code",
   "execution_count": 11,
   "metadata": {},
   "outputs": [
    {
     "data": {
      "image/png": "[encoded data removed]",
      "text/plain": [
       "<Figure size 432x288 with 1 Axes>"
      ]
     },
     "metadata": {
      "needs_background": "light"
     },
     "output_type": "display_data"
    },
    {
     "data": {
      "text/plain": [
       "count     30000.000000\n",
       "mean      80869.337116\n",
       "std       24633.663980\n",
       "min        6897.475627\n",
       "25%       63119.116535\n",
       "50%       80020.947916\n",
       "75%       98102.032547\n",
       "max      168742.900640\n",
       "Name: inc, dtype: float64"
      ]
     },
     "execution_count": 11,
     "metadata": {},
     "output_type": "execute_result"
    }
   ],
   "source": [
    "mrm_data['inc'].hist(bins=20)\n",
    "plt.xlabel('Income ($)', fontsize='large')\n",
    "plt.ylabel('Events', fontsize='large')\n",
    "plt.show()\n",
    "mrm_data['inc'].describe()"
   ]
  },
  {
   "cell_type": "code",
   "execution_count": 12,
   "metadata": {},
   "outputs": [
    {
     "data": {
      "image/png": "[encoded data removed]",
      "text/plain": [
       "<Figure size 432x288 with 1 Axes>"
      ]
     },
     "metadata": {
      "needs_background": "light"
     },
     "output_type": "display_data"
    }
   ],
   "source": [
    "mrm_data['acc'].hist(bins=15)\n",
    "plt.yscale('log')\n",
    "plt.xlabel('N Accidents in Prev 2 years', fontsize='large')\n",
    "plt.ylabel('Events', fontsize='large')\n",
    "plt.show()"
   ]
  },
  {
   "cell_type": "markdown",
   "metadata": {},
   "source": [
    "The odd behavior in the above is down to the default binning and scales, it is clear enough what is happening though given the discrete nature of the values.\n",
    "\n",
    "## Is there a statistically significant difference between vehicle types?\n",
    "If we assume the loss populations are sampled from a binomial distribution with probability given by TotalLossPerType/TotalType a simple z-test can be conducted to determine if the null hypothesis, the distributions being 'sampled' from a similar distribution, can be rejected.  For a significance $\\alpha = 0.05$ a z-value greater than the critical value of 1.64 means the null hypothesis is rejected and the population proportions are statistically significantly different at the 0.05 significance level.  However, there is a nonzero chance that continually looking at distributions will result in a positive effect (The Look-Elsewhere effect) one way to combat this is to divide the significance value youre looking for by the number of unique trials (here 3) and using that critical value.  This then is $\\alpha = 0.017$ and chances $z_{critical}=2.40$.  However, the choice of p<0.05 rejecting the null hypothesis is a convention and the distinction here is somewhat arbitrary.  The conclusions that I draw depend on how liberal we want to be in the definition of statistical significance.\n",
    "\\begin{equation*}\n",
    "z   = \\frac{p_1 - p_2}{\\sqrt{p (1-p)(1/n_1 + 1/n_2)}}\n",
    "\\end{equation*}\n",
    "\n",
    "Assumption:  Grouping together all loss events from a single individual into a loss individual and only counting them once "
   ]
  },
  {
   "cell_type": "code",
   "execution_count": 13,
   "metadata": {},
   "outputs": [],
   "source": [
    "ProbDict={}\n",
    "ProbDict['Standard']     = [1037.,15750.];\n",
    "ProbDict['Luxury'] = [263.,3137.] ;\n",
    "ProbDict['Truck']   = [559.,11113.];"
   ]
  },
  {
   "cell_type": "code",
   "execution_count": 14,
   "metadata": {},
   "outputs": [
    {
     "name": "stdout",
     "output_type": "stream",
     "text": [
      "z value for Standard and Luxury: 3.64\n",
      "z value for Standard and Truck: 5.31\n",
      "z value for Luxury and Truck: 7.11\n"
     ]
    }
   ],
   "source": [
    "def calculateZ(ProbDict,Vehicle1,Vehicle2):\n",
    "    #Takes the total sample size of two distributions and number of 'favorable' cases here the Loss and returns a z-test value\n",
    "    n1=ProbDict[Vehicle1][1]\n",
    "    x1=ProbDict[Vehicle1][0]\n",
    "    n2=ProbDict[Vehicle2][1]\n",
    "    x2=ProbDict[Vehicle2][0]\n",
    "    p1 = x1/n1\n",
    "    p2 = x2/n2\n",
    "    p  = (x1+x2)/(n1+n2)\n",
    "    z  = np.abs(p1-p2)/np.sqrt(p*(1-p)*(1/n1+1/n2))\n",
    "    print('z value for %s and %s: %.2f'%(Vehicle1,Vehicle2,z))\n",
    "    return z\n",
    "usedKeys=[]\n",
    "for key in ProbDict:\n",
    "    usedKeys.append(key)\n",
    "    for key2 in ProbDict:\n",
    "        if key !=key2 and key2 not in usedKeys:\n",
    "            calculateZ(ProbDict,key,key2)"
   ]
  },
  {
   "cell_type": "markdown",
   "metadata": {},
   "source": [
    "All of these values are above the critical value of 2.4 implying that the null hypothesis can be rejected and the proportions are significantly different.  As such they should be treated separately and are separated out for this reason, presumably. \n",
    "\n",
    "What about the education level?"
   ]
  },
  {
   "cell_type": "code",
   "execution_count": 15,
   "metadata": {},
   "outputs": [
    {
     "name": "stdout",
     "output_type": "stream",
     "text": [
      "z value for High School and College: 0.27\n"
     ]
    },
    {
     "data": {
      "text/plain": [
       "0.2718594419880757"
      ]
     },
     "execution_count": 15,
     "metadata": {},
     "output_type": "execute_result"
    }
   ],
   "source": [
    "ProbDict={}\n",
    "ProbDict['High School']     = [647.,10354.];\n",
    "ProbDict['College'] = [1212.,19646.] ;\n",
    "calculateZ(ProbDict,'High School','College')\n"
   ]
  },
  {
   "cell_type": "markdown",
   "metadata": {},
   "source": [
    "The z-value for education level implies that the populations could have been sampled from the same distribution and as such should not offer much in terms of separation power.  This makes sense as its also correlated heavily with age"
   ]
  },
  {
   "cell_type": "markdown",
   "metadata": {},
   "source": [
    "## Categorical Data\n",
    "### One-hot Encoding\n",
    "Common issues with categorical variables with a transition into a computational space is that the understanding of the innate difference is lost in the transition or can be taken askew. Here the car type category (Luxury, Standard, Truck) might have different loss functions but transitioning to an integer labeled system (1,2,3) could introduce ranking based on those relative values used for computation within various models.  This is bypassed by using one-hot encoding on these data.  Switching from a string labeled column to 3 boolean columns allows the model to know if the event is in each type with the boolean value allows the weight to only impact the correct class. \n",
    "A similar encoding can be done with the education level variable.  With only 'High School' and 'College' entries this could be classified with a singular column.  For transparent models (i.e., where variable weights arent correlated with hidden variables like in a neural network) this simplifies the literal interpretation of the model variables.  In more opaque models this process still prevents ranking bias on the input parameters."
   ]
  },
  {
   "cell_type": "code",
   "execution_count": 16,
   "metadata": {},
   "outputs": [],
   "source": [
    "one_hot_car=pd.get_dummies(mrm_data.car,prefix='car')\n",
    "one_hot_edu=pd.get_dummies(mrm_data.edu,prefix='edu')"
   ]
  },
  {
   "cell_type": "code",
   "execution_count": 17,
   "metadata": {},
   "outputs": [
    {
     "data": {
      "text/html": [
       "<div>\n",
       "<style scoped>\n",
       "    .dataframe tbody tr th:only-of-type {\n",
       "        vertical-align: middle;\n",
       "    }\n",
       "\n",
       "    .dataframe tbody tr th {\n",
       "        vertical-align: top;\n",
       "    }\n",
       "\n",
       "    .dataframe thead th {\n",
       "        text-align: right;\n",
       "    }\n",
       "</style>\n",
       "<table border=\"1\" class=\"dataframe\">\n",
       "  <thead>\n",
       "    <tr style=\"text-align: right;\">\n",
       "      <th></th>\n",
       "      <th>age</th>\n",
       "      <th>inc</th>\n",
       "      <th>acc</th>\n",
       "      <th>edu_College</th>\n",
       "      <th>edu_High School</th>\n",
       "      <th>car_Luxury</th>\n",
       "      <th>car_Standard</th>\n",
       "      <th>car_Truck</th>\n",
       "    </tr>\n",
       "  </thead>\n",
       "  <tbody>\n",
       "    <tr>\n",
       "      <th>0</th>\n",
       "      <td>20</td>\n",
       "      <td>66672.500702</td>\n",
       "      <td>0</td>\n",
       "      <td>0</td>\n",
       "      <td>1</td>\n",
       "      <td>0</td>\n",
       "      <td>1</td>\n",
       "      <td>0</td>\n",
       "    </tr>\n",
       "    <tr>\n",
       "      <th>1</th>\n",
       "      <td>21</td>\n",
       "      <td>71749.949948</td>\n",
       "      <td>1</td>\n",
       "      <td>1</td>\n",
       "      <td>0</td>\n",
       "      <td>0</td>\n",
       "      <td>1</td>\n",
       "      <td>0</td>\n",
       "    </tr>\n",
       "    <tr>\n",
       "      <th>2</th>\n",
       "      <td>25</td>\n",
       "      <td>89297.226073</td>\n",
       "      <td>0</td>\n",
       "      <td>1</td>\n",
       "      <td>0</td>\n",
       "      <td>0</td>\n",
       "      <td>1</td>\n",
       "      <td>0</td>\n",
       "    </tr>\n",
       "    <tr>\n",
       "      <th>3</th>\n",
       "      <td>18</td>\n",
       "      <td>38600.858940</td>\n",
       "      <td>0</td>\n",
       "      <td>1</td>\n",
       "      <td>0</td>\n",
       "      <td>0</td>\n",
       "      <td>1</td>\n",
       "      <td>0</td>\n",
       "    </tr>\n",
       "    <tr>\n",
       "      <th>4</th>\n",
       "      <td>18</td>\n",
       "      <td>38267.125142</td>\n",
       "      <td>0</td>\n",
       "      <td>0</td>\n",
       "      <td>1</td>\n",
       "      <td>0</td>\n",
       "      <td>0</td>\n",
       "      <td>1</td>\n",
       "    </tr>\n",
       "  </tbody>\n",
       "</table>\n",
       "</div>"
      ],
      "text/plain": [
       "   age           inc  acc  edu_College  edu_High School  car_Luxury  \\\n",
       "0   20  66672.500702    0            0                1           0   \n",
       "1   21  71749.949948    1            1                0           0   \n",
       "2   25  89297.226073    0            1                0           0   \n",
       "3   18  38600.858940    0            1                0           0   \n",
       "4   18  38267.125142    0            0                1           0   \n",
       "\n",
       "   car_Standard  car_Truck  \n",
       "0             1          0  \n",
       "1             1          0  \n",
       "2             1          0  \n",
       "3             1          0  \n",
       "4             0          1  "
      ]
     },
     "execution_count": 17,
     "metadata": {},
     "output_type": "execute_result"
    }
   ],
   "source": [
    "tmp_data=pd.concat([mrm_data,one_hot_edu],axis=1)\n",
    "tmp_data =tmp_data.drop(['edu'],axis=1)\n",
    "tmp_data=pd.concat([tmp_data,one_hot_car],axis=1)\n",
    "tmp_data =tmp_data.drop(['Unnamed: 0','car'],axis=1)\n",
    "mrm2 =tmp_data\n",
    "mrm2.head()"
   ]
  },
  {
   "cell_type": "markdown",
   "metadata": {},
   "source": [
    "Correlation Matrix For Non-Categorical Variables"
   ]
  },
  {
   "cell_type": "code",
   "execution_count": 18,
   "metadata": {},
   "outputs": [
    {
     "data": {
      "image/png": "[encoded data removed]",
      "text/plain": [
       "<Figure size 432x288 with 2 Axes>"
      ]
     },
     "metadata": {
      "needs_background": "light"
     },
     "output_type": "display_data"
    }
   ],
   "source": [
    "corrMatrix = mrm_data.drop(columns=['Unnamed: 0']).corr()\n",
    "sn.heatmap(corrMatrix, annot=True)\n",
    "plt.show()"
   ]
  },
  {
   "cell_type": "code",
   "execution_count": 19,
   "metadata": {},
   "outputs": [
    {
     "data": {
      "text/html": [
       "<div>\n",
       "<style scoped>\n",
       "    .dataframe tbody tr th:only-of-type {\n",
       "        vertical-align: middle;\n",
       "    }\n",
       "\n",
       "    .dataframe tbody tr th {\n",
       "        vertical-align: top;\n",
       "    }\n",
       "\n",
       "    .dataframe thead th {\n",
       "        text-align: right;\n",
       "    }\n",
       "</style>\n",
       "<table border=\"1\" class=\"dataframe\">\n",
       "  <thead>\n",
       "    <tr style=\"text-align: right;\">\n",
       "      <th></th>\n",
       "      <th>age</th>\n",
       "      <th>inc</th>\n",
       "      <th>acc</th>\n",
       "    </tr>\n",
       "  </thead>\n",
       "  <tbody>\n",
       "    <tr>\n",
       "      <th>count</th>\n",
       "      <td>30000.000000</td>\n",
       "      <td>30000.000000</td>\n",
       "      <td>30000.000000</td>\n",
       "    </tr>\n",
       "    <tr>\n",
       "      <th>mean</th>\n",
       "      <td>25.033100</td>\n",
       "      <td>80869.337116</td>\n",
       "      <td>0.067900</td>\n",
       "    </tr>\n",
       "    <tr>\n",
       "      <th>std</th>\n",
       "      <td>7.598561</td>\n",
       "      <td>24633.663980</td>\n",
       "      <td>0.278374</td>\n",
       "    </tr>\n",
       "    <tr>\n",
       "      <th>min</th>\n",
       "      <td>18.000000</td>\n",
       "      <td>6897.475627</td>\n",
       "      <td>0.000000</td>\n",
       "    </tr>\n",
       "    <tr>\n",
       "      <th>25%</th>\n",
       "      <td>20.000000</td>\n",
       "      <td>63119.116535</td>\n",
       "      <td>0.000000</td>\n",
       "    </tr>\n",
       "    <tr>\n",
       "      <th>50%</th>\n",
       "      <td>23.000000</td>\n",
       "      <td>80020.947916</td>\n",
       "      <td>0.000000</td>\n",
       "    </tr>\n",
       "    <tr>\n",
       "      <th>75%</th>\n",
       "      <td>28.000000</td>\n",
       "      <td>98102.032547</td>\n",
       "      <td>0.000000</td>\n",
       "    </tr>\n",
       "    <tr>\n",
       "      <th>max</th>\n",
       "      <td>108.000000</td>\n",
       "      <td>168742.900640</td>\n",
       "      <td>5.000000</td>\n",
       "    </tr>\n",
       "  </tbody>\n",
       "</table>\n",
       "</div>"
      ],
      "text/plain": [
       "                age            inc           acc\n",
       "count  30000.000000   30000.000000  30000.000000\n",
       "mean      25.033100   80869.337116      0.067900\n",
       "std        7.598561   24633.663980      0.278374\n",
       "min       18.000000    6897.475627      0.000000\n",
       "25%       20.000000   63119.116535      0.000000\n",
       "50%       23.000000   80020.947916      0.000000\n",
       "75%       28.000000   98102.032547      0.000000\n",
       "max      108.000000  168742.900640      5.000000"
      ]
     },
     "execution_count": 19,
     "metadata": {},
     "output_type": "execute_result"
    }
   ],
   "source": [
    "mrm_data.drop(columns=['Unnamed: 0']).describe()"
   ]
  },
  {
   "cell_type": "markdown",
   "metadata": {},
   "source": [
    "#### Counts for various subsets of variables i.e., number of each type of vehicle, number of accidents per person, college/High School breakdown\n"
   ]
  },
  {
   "cell_type": "code",
   "execution_count": 20,
   "metadata": {},
   "outputs": [
    {
     "data": {
      "text/plain": [
       "Standard    15750\n",
       "Truck       11113\n",
       "Luxury       3137\n",
       "Name: car, dtype: int64"
      ]
     },
     "execution_count": 20,
     "metadata": {},
     "output_type": "execute_result"
    }
   ],
   "source": [
    "mrm_data['car'].value_counts()"
   ]
  },
  {
   "cell_type": "code",
   "execution_count": 21,
   "metadata": {},
   "outputs": [
    {
     "data": {
      "text/plain": [
       "0    28141\n",
       "1     1708\n",
       "2      131\n",
       "3       14\n",
       "4        5\n",
       "5        1\n",
       "Name: acc, dtype: int64"
      ]
     },
     "execution_count": 21,
     "metadata": {},
     "output_type": "execute_result"
    }
   ],
   "source": [
    "mrm_data['acc'].value_counts()"
   ]
  },
  {
   "cell_type": "code",
   "execution_count": 22,
   "metadata": {},
   "outputs": [
    {
     "data": {
      "text/plain": [
       "College        19646\n",
       "High School    10354\n",
       "Name: edu, dtype: int64"
      ]
     },
     "execution_count": 22,
     "metadata": {},
     "output_type": "execute_result"
    }
   ],
   "source": [
    "mrm_data['edu'].value_counts()"
   ]
  },
  {
   "cell_type": "code",
   "execution_count": 23,
   "metadata": {
    "scrolled": true
   },
   "outputs": [
    {
     "data": {
      "image/png": "[encoded data removed]",
      "text/plain": [
       "<Figure size 432x288 with 2 Axes>"
      ]
     },
     "metadata": {
      "needs_background": "light"
     },
     "output_type": "display_data"
    }
   ],
   "source": [
    "corrMatrix = mrm2.drop(['edu_High School','edu_College'],axis=1).corr()\n",
    "sn.heatmap(corrMatrix, annot=True)\n",
    "plt.show()"
   ]
  },
  {
   "cell_type": "markdown",
   "metadata": {},
   "source": [
    "#### Plot of Age vs. Income for individuals with loss events and no loss events in their history"
   ]
  },
  {
   "cell_type": "code",
   "execution_count": 24,
   "metadata": {},
   "outputs": [
    {
     "data": {
      "text/plain": [
       "<matplotlib.legend.Legend at 0x2712ca4eb08>"
      ]
     },
     "execution_count": 24,
     "metadata": {},
     "output_type": "execute_result"
    },
    {
     "data": {
      "image/png": "[encoded data removed]",
      "text/plain": [
       "<Figure size 432x288 with 1 Axes>"
      ]
     },
     "metadata": {
      "needs_background": "light"
     },
     "output_type": "display_data"
    }
   ],
   "source": [
    "plt.scatter(mrm2['inc'][mrm2['acc']==0],mrm2['age'][mrm2['acc']==0],color='red',alpha=0.3,label= \"No Loss\")\n",
    "plt.scatter(mrm2['inc'][mrm2['acc']>0],mrm2['age'][mrm2['acc']>0],color='blue',alpha=0.3, label= \"Loss\")\n",
    "plt.xlabel('Income ($)')\n",
    "plt.ylabel('Age (Years)')\n",
    "plt.legend()"
   ]
  },
  {
   "cell_type": "markdown",
   "metadata": {},
   "source": [
    "## Single Variable Logistic Regression\n",
    "As Age and Income are highly correlated with each other it makes sense to attempt a straight forward single variable regression for event classification first.  Income has the slightly stronger correlation with Accidents so that will be the variable of interest."
   ]
  },
  {
   "cell_type": "code",
   "execution_count": 25,
   "metadata": {},
   "outputs": [
    {
     "name": "stdout",
     "output_type": "stream",
     "text": [
      "Accuracy of logistic regression classifier on test set: 0.942\n",
      "Balanced Accuracy Score: 0.500\n"
     ]
    }
   ],
   "source": [
    "X = mrm2[['inc']]\n",
    "y = mrm2['acc']\n",
    "y = y.astype('bool').astype('int') #easy conversion of (0,nonzero) to (0,1)\n",
    "y.value_counts()\n",
    "\n",
    "logreg = LogisticRegression()\n",
    "scaler = RobustScaler()\n",
    "X=scaler.fit_transform(X)\n",
    "\n",
    "# Split the dataset into 80% train and 20% test\n",
    "X_train, X_test, y_train, y_test = train_test_split(X, y, test_size=0.2, random_state=100)\n",
    "\n",
    "logreg = LogisticRegression()\n",
    "logreg.fit(X_train, y_train)\n",
    "y_pred = logreg.predict(X_test)\n",
    "#np.bincount(y_train)\n",
    "#logreg.fit(X_train,y_train)\n",
    "yhat = logreg.predict(X_test)\n",
    "yhat.sum()\n",
    "print('Accuracy of logistic regression classifier on test set: {:.3f}'.format(logreg.score(X_test, y_test)))\n",
    "print('Balanced Accuracy Score: {:.3f}'.format(balanced_accuracy_score(y_test,y_pred)))"
   ]
  },
  {
   "cell_type": "markdown",
   "metadata": {},
   "source": [
    "### Trying single variable with SMOTE Resampling"
   ]
  },
  {
   "cell_type": "code",
   "execution_count": 26,
   "metadata": {},
   "outputs": [
    {
     "name": "stdout",
     "output_type": "stream",
     "text": [
      "Accuracy of logistic regression classifier on test set: 0.523\n",
      "Balanced Accuracy Score: 0.531\n"
     ]
    }
   ],
   "source": [
    "# Import 'LogisticRegression' and create a LogisticRegression object\n",
    "logreg = LogisticRegression()\n",
    "X = mrm2[['inc']]\n",
    "y = mrm2['acc']\n",
    "y = y.astype('bool').astype('int') #easy conversion of (0,nonzero) to (0,1)\n",
    "\n",
    "scaler = RobustScaler()\n",
    "X=scaler.fit_transform(X)\n",
    "\n",
    "# Split the dataset into 80% train and 20% test\n",
    "X_train, X_test, y_train, y_test = train_test_split(X, y, test_size=0.2, random_state=100)\n",
    "\n",
    "smote = SMOTE(sampling_strategy=\"auto\")\n",
    "X_train_smote, y_train_smote = smote.fit_sample(X_train, y_train)\n",
    "logreg = LogisticRegression()\n",
    "logreg.fit(X_train_smote, y_train_smote)\n",
    "y_pred = logreg.predict(X_test)\n",
    "yhat = logreg.predict(X_test)\n",
    "yhat.sum()\n",
    "print('Accuracy of logistic regression classifier on test set: {:.3f}'.format(logreg.score(X_test, y_test)))\n",
    "print(\"Balanced Accuracy Score: {:.3f}\".format(balanced_accuracy_score(y_test,y_pred)))"
   ]
  },
  {
   "cell_type": "markdown",
   "metadata": {},
   "source": [
    "## Multivariate Logistic Regression\n",
    "As can be seen there are significantly fewer events with 1 or more accidents.  This unbalanced data is expected due to the nature of the situation and is typical for models within many industries.  (28141 No loss events, 1859 Loss events)"
   ]
  },
  {
   "cell_type": "code",
   "execution_count": 27,
   "metadata": {},
   "outputs": [
    {
     "name": "stdout",
     "output_type": "stream",
     "text": [
      "Accuracy of logistic regression classifier on test set: 0.942\n",
      "Balanced Accuracy Score: 0.500\n"
     ]
    }
   ],
   "source": [
    "X = mrm2[['age', 'inc', 'car_Luxury','car_Standard']]#, 'car_Truck']] #'edu_High School', 'edu_College',\n",
    "y = mrm2['acc']\n",
    "y = y.astype('bool').astype('int') #easy conversion of (0,nonzero) to (0,1)\n",
    "y.value_counts()\n",
    "\n",
    "logreg = LogisticRegression()\n",
    "scaler = RobustScaler()\n",
    "X=scaler.fit_transform(X)\n",
    "\n",
    "# Split the dataset into 80% train and 20% test\n",
    "X_train, X_test, y_train, y_test = train_test_split(X, y, test_size=0.2, random_state=100)\n",
    "\n",
    "logreg = LogisticRegression()\n",
    "logreg.fit(X_train, y_train)\n",
    "y_pred = logreg.predict(X_test)\n",
    "#np.bincount(y_train)\n",
    "#logreg.fit(X_train,y_train)\n",
    "yhat = logreg.predict(X_test)\n",
    "yhat.sum()\n",
    "print('Accuracy of logistic regression classifier on test set: {:.3f}'.format(logreg.score(X_test, y_test)))\n",
    "print('Balanced Accuracy Score: {:.3f}'.format(balanced_accuracy_score(y_test,y_pred)))"
   ]
  },
  {
   "cell_type": "markdown",
   "metadata": {},
   "source": [
    "A straight unweighted default sampling of the events leads to an accuracy equal to the class distribution where everything is called one class (the majority class).  This is seen in the accuracy being the distribution values and the balanced accuracy being 0.5 (100% correct majority, 100% incorrect minority)\n",
    "\n",
    "### Resampling the minority class using SMOTE\n",
    "Synthetic Minority Oversampling TEchnique (SMOTE) generates synthetic data that is similar to, but not exactly like the minority class using nearest-neightbors approach to fill in space between neighbors.  This is done by selecting k-nearest neighbors (typically k=5), chosing a random neighbor and drawing a line through the feature space and a new synthetic point is selected between the two chosen points.\n",
    "\n",
    "A downside to smote as opposed to other oversampling techniques such as ADASYN is that SMOTE creates more realistic points without weighing phase space boundary points (i.e. harder to train points) or any consideration of the minority class phase space with respect to the phase spaces of the majority class."
   ]
  },
  {
   "cell_type": "code",
   "execution_count": 28,
   "metadata": {},
   "outputs": [
    {
     "name": "stdout",
     "output_type": "stream",
     "text": [
      "Accuracy of logistic regression classifier on test set: 0.535\n",
      "Balanced Accuracy Score: 0.558\n",
      "Coefficients:  [[-0.11474891 -0.36247505 -0.01775209  0.58741078 -0.1828194  -0.40459138]]\n"
     ]
    }
   ],
   "source": [
    "# Import 'LogisticRegression' and create a LogisticRegression object\n",
    "logreg = LogisticRegression()\n",
    "X = mrm2[['age', 'inc', 'edu_High School', 'car_Luxury','car_Standard', 'car_Truck']] #'edu_High School', 'edu_College',\n",
    "y = mrm2['acc']\n",
    "y = y.astype('bool').astype('int') #easy conversion of (0,nonzero) to (0,1)\n",
    "#class_weights = class_weight.compute_class_weight('balanced',np.unique(y_train),y_train)\n",
    "scaler = RobustScaler()\n",
    "X=scaler.fit_transform(X)\n",
    "# Split the dataset into 80% train and 20% test\n",
    "X_train, X_test, y_train, y_test = train_test_split(X, y, test_size=0.2, random_state=100)\n",
    "\n",
    "smote = SMOTE(sampling_strategy=\"auto\")\n",
    "X_train_smote, y_train_smote = smote.fit_sample(X_train, y_train)\n",
    "logreg = LogisticRegression()\n",
    "logreg.fit(X_train_smote, y_train_smote)\n",
    "y_pred = logreg.predict(X_test)\n",
    "#np.bincount(y_train)\n",
    "#logreg.fit(X_train,y_train)\n",
    "yhat = logreg.predict(X_test)\n",
    "yhat.sum()\n",
    "print('Accuracy of logistic regression classifier on test set: {:.3f}'.format(logreg.score(X_test, y_test)))\n",
    "print(\"Balanced Accuracy Score: {:.3f}\".format(balanced_accuracy_score(y_test,y_pred)))\n",
    "print(\"Coefficients: \",logreg.coef_)"
   ]
  },
  {
   "cell_type": "code",
   "execution_count": 29,
   "metadata": {},
   "outputs": [
    {
     "name": "stdout",
     "output_type": "stream",
     "text": [
      "[[3007 2645]\n",
      " [ 145  203]]\n"
     ]
    },
    {
     "data": {
      "image/png": "[encoded data removed]",
      "text/plain": [
       "<Figure size 432x288 with 2 Axes>"
      ]
     },
     "metadata": {
      "needs_background": "light"
     },
     "output_type": "display_data"
    }
   ],
   "source": [
    "# Confusion Matrix of:\n",
    "#                     True Negative,  False Positive\n",
    "#                     False Negative, True Positive\n",
    "# for model prediction outputs of the test sample\n",
    "from sklearn.metrics import confusion_matrix\n",
    "confusion_matrix = confusion_matrix(y_test, y_pred)\n",
    "print(confusion_matrix)\n",
    "sn.heatmap(confusion_matrix, annot=True,annot_kws={\"size\": 20}, cmap='Blues')\n",
    "tn, fp, fn, tp = confusion_matrix.ravel()"
   ]
  },
  {
   "cell_type": "code",
   "execution_count": 30,
   "metadata": {},
   "outputs": [
    {
     "data": {
      "image/png": "[encoded data removed]",
      "text/plain": [
       "<Figure size 432x288 with 1 Axes>"
      ]
     },
     "metadata": {
      "needs_background": "light"
     },
     "output_type": "display_data"
    }
   ],
   "source": [
    "from sklearn.metrics import roc_auc_score\n",
    "from sklearn.metrics import roc_curve\n",
    "logit_roc_auc = roc_auc_score(y_test, logreg.predict(X_test))\n",
    "fpr, tpr, thresholds = roc_curve(y_test, logreg.predict_proba(X_test)[:,1])\n",
    "plt.figure()\n",
    "plt.plot(fpr, tpr, label='Logistic Regression (area = %0.2f)' % logit_roc_auc)\n",
    "plt.plot([0, 1], [0, 1],'r--')\n",
    "plt.xlim([0.0, 1.0])\n",
    "plt.ylim([0.0, 1.05])\n",
    "plt.xlabel('False Positive Rate')\n",
    "plt.ylabel('True Positive Rate')\n",
    "plt.title('Receiver Operating Characteristic')\n",
    "plt.legend(loc=\"lower right\")\n",
    "plt.savefig('Log_ROC')\n",
    "plt.show()"
   ]
  },
  {
   "cell_type": "markdown",
   "metadata": {},
   "source": [
    "## Statsmodels logit regressor"
   ]
  },
  {
   "cell_type": "code",
   "execution_count": 31,
   "metadata": {},
   "outputs": [
    {
     "name": "stdout",
     "output_type": "stream",
     "text": [
      "                 Generalized Linear Model Regression Results                  \n",
      "==============================================================================\n",
      "Dep. Variable:                    acc   No. Observations:                30000\n",
      "Model:                            GLM   Df Residuals:                    29995\n",
      "Model Family:                Binomial   Df Model:                            4\n",
      "Link Function:                  logit   Scale:                          1.0000\n",
      "Method:                          IRLS   Log-Likelihood:                -6873.8\n",
      "Date:                Sat, 14 Nov 2020   Deviance:                       13748.\n",
      "Time:                        23:34:13   Pearson chi2:                 3.03e+04\n",
      "No. Iterations:                     6                                         \n",
      "Covariance Type:            nonrobust                                         \n",
      "================================================================================\n",
      "                   coef    std err          z      P>|z|      [0.025      0.975]\n",
      "--------------------------------------------------------------------------------\n",
      "const           -1.8514      0.105    -17.693      0.000      -2.057      -1.646\n",
      "age             -0.0210      0.005     -3.824      0.000      -0.032      -0.010\n",
      "inc          -7.923e-06   1.53e-06     -5.171      0.000   -1.09e-05   -4.92e-06\n",
      "car_Luxury       0.9427      0.086     10.912      0.000       0.773       1.112\n",
      "car_Standard     0.2837      0.054      5.243      0.000       0.178       0.390\n",
      "================================================================================\n"
     ]
    }
   ],
   "source": [
    "import statsmodels.api as sm\n",
    "X = mrm2[['age', 'inc', 'car_Luxury','car_Standard']]#, 'car_Truck']] #'edu_High School', 'edu_College',\n",
    "y = mrm2['acc']\n",
    "y = y.astype('bool').astype('int') #easy conversion of (0,nonzero) to (0,1)\n",
    "exog, endog = sm.add_constant(X), y\n",
    "model = sm.GLM(endog, exog,\n",
    "             family=sm.families.Binomial())\n",
    "res = model.fit()\n",
    "print(res.summary())"
   ]
  },
  {
   "cell_type": "markdown",
   "metadata": {},
   "source": [
    "## Random Forest Classifier\n",
    "A Random Forest should be able to work well out of the box with unbalanced majority/minority data sets.  The balanced accuracy is reported which is defined as the average of recall obtained on each class."
   ]
  },
  {
   "cell_type": "code",
   "execution_count": 32,
   "metadata": {},
   "outputs": [
    {
     "name": "stdout",
     "output_type": "stream",
     "text": [
      "Balanced Accuracy Score:  0.4998648449909492\n",
      "ROC AUC Score:  0.5222632370586787\n"
     ]
    },
    {
     "data": {
      "image/png": "[encoded data removed]",
      "text/plain": [
       "<Figure size 432x288 with 1 Axes>"
      ]
     },
     "metadata": {
      "needs_background": "light"
     },
     "output_type": "display_data"
    }
   ],
   "source": [
    "from sklearn.ensemble import RandomForestClassifier\n",
    "X = mrm2[['age', 'inc', 'car_Luxury','car_Standard']]#'edu_High School', 'edu_College',\n",
    "y = mrm2['acc']\n",
    "y = y.astype('bool').astype('int') #easy conversion of (0,nonzero) to (0,1)\n",
    "scaler = RobustScaler()\n",
    "X=scaler.fit_transform(X)\n",
    "X_train, X_test, y_train, y_test = train_test_split(X, y, test_size=0.2, random_state=0)\n",
    "rfc = RandomForestClassifier(n_estimators=1000,random_state=0, class_weight='balanced')\n",
    "rfc.fit(X_train,y_train)\n",
    "pred = rfc.predict(X_test)\n",
    "print(\"Balanced Accuracy Score: \", balanced_accuracy_score(y_test,pred))\n",
    "prob = rfc.predict_proba(X_test)\n",
    "prob = [p[1] for p in prob]\n",
    "print (\"ROC AUC Score: \",roc_auc_score(y_test,prob))\n",
    "\n",
    "plt.figure();\n",
    "plt.hist(rfc.predict_proba(X_test[y_test==1])[:,1],bins=np.linspace(0,1,50),\n",
    "         histtype='step',color='midnightblue',label='Loss');\n",
    "plt.hist(rfc.predict_proba(X_test[y_test==0])[:,1],bins=np.linspace(0,1,50),\n",
    "         histtype='step',color='firebrick',label='No Loss');\n",
    "# make the plot readable\n",
    "plt.xlabel('Prediction from RF',fontsize=12);\n",
    "plt.ylabel('Events',fontsize=12);\n",
    "plt.yscale('log')\n",
    "plt.axvline(x=0.5, linestyle='--')\n",
    "plt.legend(frameon=False);"
   ]
  },
  {
   "cell_type": "markdown",
   "metadata": {},
   "source": [
    "## BDT Model with SMOTE Resampling of Minority Class"
   ]
  },
  {
   "cell_type": "code",
   "execution_count": 33,
   "metadata": {},
   "outputs": [],
   "source": [
    "X = mrm2[['age', 'inc', 'car_Luxury','car_Standard', 'car_Truck']] #'edu_High School', 'edu_College',\n",
    "y = mrm2['acc']\n",
    "y = y.astype('bool').astype('int') #easy conversion of (0,nonzero) to (0,1)\n",
    "X_train, X_test, y_train, y_test = train_test_split(X, y, train_size=0.8)\n",
    "smote = SMOTE(sampling_strategy=\"auto\")\n",
    "X_train_smote, y_train_smote = smote.fit_resample(X_train, y_train)\n",
    "np.bincount(y_train_smote)\n",
    "features = X_train.columns"
   ]
  },
  {
   "cell_type": "code",
   "execution_count": 34,
   "metadata": {},
   "outputs": [
    {
     "name": "stdout",
     "output_type": "stream",
     "text": [
      "Number of training samples: 24000\n",
      "Number of testing samples: 6000\n",
      "SMOTE: Number of training samples: 45034\n",
      "\n",
      "Number of signal events in training set: 1483\n",
      "SMOTE:Number of signal events in training set: 22517\n",
      "Number of background events in training set: 22517\n",
      "Fraction signal: 0.062\n",
      "SMOTE: Fraction signal: 0.50\n"
     ]
    }
   ],
   "source": [
    "print('Number of training samples: {}'.format(len(X_train)))\n",
    "print('Number of testing samples: {}'.format(len(X_test)))\n",
    "print('SMOTE: Number of training samples: {}'.format(len(X_train_smote)))\n",
    "\n",
    "print('\\nNumber of signal events in training set: {}'.format(len(y_train[y_train == 1])))\n",
    "print('SMOTE:Number of signal events in training set: {}'.format(len(y_train_smote[y_train_smote == 1])))\n",
    "print('Number of background events in training set: {}'.format(len(y_train[y_train == 0])))\n",
    "print('Fraction signal: {:.3f}'.format(len(y_train[y_train == 1])/(float)(len(y_train[y_train == 1]) + len(y_train[y_train == 0]))))\n",
    "print('SMOTE: Fraction signal: {:.2f}'.format(len(y_train_smote[y_train_smote == 1])/(float)(len(y_train_smote[y_train_smote == 1]) + len(y_train_smote[y_train_smote == 0]))))"
   ]
  },
  {
   "cell_type": "code",
   "execution_count": 35,
   "metadata": {},
   "outputs": [
    {
     "name": "stdout",
     "output_type": "stream",
     "text": [
      "[23:34:36] WARNING: C:\\Users\\Administrator\\workspace\\xgboost-win64_release_1.1.0\\src\\learner.cc:480: \n",
      "Parameters: { feature_names } might not be used.\n",
      "\n",
      "  This may not be accurate due to some parameters are only used in language bindings but\n",
      "  passed down to XGBoost core.  Or some parameters are not used but slip through this\n",
      "  verification. Please open an issue if you find above cases.\n",
      "\n",
      "\n"
     ]
    },
    {
     "data": {
      "text/plain": [
       "XGBClassifier(base_score=0.5, booster='gbtree', colsample_bylevel=1,\n",
       "              colsample_bynode=1, colsample_bytree=1.0,\n",
       "              feature_names=Index(['age', 'inc', 'car_Luxury', 'car_Standard', 'car_Truck'], dtype='object'),\n",
       "              gamma=0, gpu_id=-1, importance_type='gain',\n",
       "              interaction_constraints='', learning_rate=0.15, max_delta_step=0,\n",
       "              max_depth=6, min_child_weight=1, missing=nan,\n",
       "              monotone_constraints='()', n_estimators=200, n_jobs=0,\n",
       "              num_parallel_tree=1, random_state=0, reg_alpha=0, reg_lambda=1,\n",
       "              scale_pos_weight=1, subsample=1.0, tree_method='exact',\n",
       "              validate_parameters=1, verbosity=None)"
      ]
     },
     "execution_count": 35,
     "metadata": {},
     "output_type": "execute_result"
    }
   ],
   "source": [
    "binary_bdt_param = {\n",
    "    \"learning_rate\" : 0.15,\n",
    "    \"max_depth\" :6,\n",
    "    \"colsample_bytree\" : 1.0,\n",
    "    \"subsample\" : 1.0,\n",
    "    \"n_estimators\" : 200,\n",
    "    \"feature_names\" : features,\n",
    "    'objective' : 'binary:logistic' # objective function\n",
    "}\n",
    "binary_task_param = {\n",
    "    \"eval_metric\" : [\"logloss\",\"error\"],\n",
    "    \"early_stopping_rounds\" : 30,\n",
    "    \"eval_set\": [(X_train_smote[features],y_train_smote), \n",
    "                 (X_test[features],y_test)]\n",
    "}\n",
    "\n",
    "binary_bdt = xgb.XGBClassifier(**binary_bdt_param)\n",
    "binary_bdt.fit(X_train_smote[features], y_train_smote,\n",
    "              verbose=False, **binary_task_param)"
   ]
  },
  {
   "cell_type": "code",
   "execution_count": 36,
   "metadata": {},
   "outputs": [
    {
     "name": "stdout",
     "output_type": "stream",
     "text": [
      "0.8578333333333333\n"
     ]
    },
    {
     "data": {
      "text/plain": [
       "559.0"
      ]
     },
     "execution_count": 36,
     "metadata": {},
     "output_type": "execute_result"
    }
   ],
   "source": [
    "evaluated_df = X_test.copy()\n",
    "evaluated_df[\"binary_prob\"] = binary_bdt.predict_proba(X_test[features])[:,1]\n",
    "print(binary_bdt.score(X_test[features],y_test))\n",
    "\n",
    "binary_bdt.predict_proba(X_test[features])[:,1].round().sum()"
   ]
  },
  {
   "cell_type": "code",
   "execution_count": 37,
   "metadata": {},
   "outputs": [
    {
     "name": "stdout",
     "output_type": "stream",
     "text": [
      "Accuracy: 85.78%\n",
      "Thresh=0.013, n=5, Accuracy: 83.88%\n",
      "Loss Event Accuracy: 12.50%\n",
      "Balanced Accuracy: 50.58%\n",
      "Thresh=0.016, n=4, Accuracy: 83.15%\n",
      "Loss Event Accuracy: 14.63%\n",
      "Balanced Accuracy: 51.18%\n",
      "Thresh=0.235, n=3, Accuracy: 93.73%\n",
      "Loss Event Accuracy: 0.00%\n",
      "Balanced Accuracy: 50.00%\n",
      "Thresh=0.247, n=2, Accuracy: 48.55%\n",
      "Loss Event Accuracy: 55.59%\n",
      "Balanced Accuracy: 51.83%\n",
      "Thresh=0.489, n=1, Accuracy: 14.52%\n",
      "Loss Event Accuracy: 87.77%\n",
      "Balanced Accuracy: 48.69%\n"
     ]
    }
   ],
   "source": [
    "from sklearn.metrics import accuracy_score\n",
    "from sklearn.feature_selection import SelectFromModel\n",
    "\n",
    "predictions = binary_bdt.predict(X_test[features])\n",
    "accuracy = accuracy_score(y_test, predictions)\n",
    "print(\"Accuracy: %.2f%%\" % (accuracy * 100.0))\n",
    "thresholds = np.sort(binary_bdt.feature_importances_)\n",
    "for thresh in thresholds:\n",
    "    # select features using threshold\n",
    "    selection = SelectFromModel(binary_bdt, threshold=thresh, prefit=True)\n",
    "    select_X_train = selection.transform(X_train_smote[features])\n",
    "    # train model\n",
    "    selection_model = xgb.XGBClassifier()\n",
    "    selection_model.fit(select_X_train, y_train_smote)\n",
    "    # eval model\n",
    "    select_X_test = selection.transform(X_test[features])\n",
    "    predictions = selection_model.predict(select_X_test)\n",
    "    accuracy = accuracy_score(y_test, predictions)\n",
    "    bal_acc = balanced_accuracy_score(y_test,predictions)\n",
    "    print(\"Thresh=%.3f, n=%d, Accuracy: %.2f%%\" % (thresh, select_X_train.shape[1], accuracy*100.0))\n",
    "    print(\"Loss Event Accuracy: %.2f%%\"%(predictions[y_test==1].sum()/y_test.sum()*100.))\n",
    "    print(\"Balanced Accuracy: %.2f%%\"%(bal_acc*100.))"
   ]
  },
  {
   "cell_type": "code",
   "execution_count": 38,
   "metadata": {},
   "outputs": [
    {
     "data": {
      "image/png": "[encoded data removed]",
      "text/plain": [
       "<Figure size 1152x288 with 2 Axes>"
      ]
     },
     "metadata": {
      "needs_background": "light"
     },
     "output_type": "display_data"
    }
   ],
   "source": [
    "fig, ax_enum = plt.subplots(1,2, figsize=(16,4))\n",
    "xgb.plot_importance(binary_bdt, importance_type=\"weight\", ax=ax_enum[0], title=\"Weight\",show_values=False, grid=False)\n",
    "xgb.plot_importance(binary_bdt, importance_type=\"gain\", ax=ax_enum[1], title=\"Gain\", show_values=False, grid=False)\n",
    "plt.ylabel(\"\")\n",
    "plt.sca(ax_enum[1])\n",
    "plt.ylabel(\"\")\n",
    "plt.subplots_adjust(wspace=0.3)"
   ]
  },
  {
   "cell_type": "markdown",
   "metadata": {},
   "source": [
    "importance_type=Weight is how frequently splitting on the variable occurs where importance_type=Gain is how useful is the variable in terms of separation "
   ]
  },
  {
   "cell_type": "code",
   "execution_count": 39,
   "metadata": {},
   "outputs": [
    {
     "data": {
      "image/png": "[encoded data removed]",
      "text/plain": [
       "<Figure size 432x288 with 1 Axes>"
      ]
     },
     "metadata": {
      "needs_background": "light"
     },
     "output_type": "display_data"
    },
    {
     "data": {
      "image/png": "[encoded data removed]",
      "text/plain": [
       "<Figure size 432x288 with 1 Axes>"
      ]
     },
     "metadata": {
      "needs_background": "light"
     },
     "output_type": "display_data"
    }
   ],
   "source": [
    "# plot all predictions (both signal and background)\n",
    "predictions = binary_bdt.predict_proba(X_test[features])[:,1]\n",
    "plt.figure();\n",
    "plt.hist(predictions,bins=np.linspace(0,1,50),histtype='step',color='darkgreen',label='All events');\n",
    "# make the plot readable\n",
    "plt.xlabel('Prediction from BDT',fontsize=12);\n",
    "plt.ylabel('Events',fontsize=12);\n",
    "plt.legend(frameon=False);\n",
    "\n",
    "# plot signal and background separately\n",
    "plt.figure();\n",
    "plt.hist(binary_bdt.predict_proba(X_test[features][y_test==1])[:,1],bins=np.linspace(0,1,50),\n",
    "         histtype='step',color='midnightblue',label='Loss');\n",
    "plt.hist(binary_bdt.predict_proba(X_test[features][y_test==0])[:,1],bins=np.linspace(0,1,50),\n",
    "         histtype='step',color='firebrick',label='No Loss');\n",
    "# make the plot readable\n",
    "plt.xlabel('Prediction from BDT',fontsize=12);\n",
    "plt.ylabel('Events',fontsize=12);\n",
    "plt.legend(frameon=False);"
   ]
  },
  {
   "cell_type": "code",
   "execution_count": 40,
   "metadata": {},
   "outputs": [
    {
     "data": {
      "image/png": "[encoded data removed]",
      "text/plain": [
       "<Figure size 432x288 with 1 Axes>"
      ]
     },
     "metadata": {
      "needs_background": "light"
     },
     "output_type": "display_data"
    }
   ],
   "source": [
    "plt.figure();\n",
    "plt.hist(binary_bdt.predict_proba(X[features][y==1])[:,1],bins=np.linspace(0,1,50),\n",
    "         histtype='step',color='midnightblue',label='Loss');\n",
    "plt.hist(binary_bdt.predict_proba(X[features][y==0])[:,1],bins=np.linspace(0,1,50),\n",
    "         histtype='step',color='firebrick',label='No Loss');\n",
    "# make the plot readable\n",
    "plt.xlabel('Prediction from BDT',fontsize=12);\n",
    "plt.ylabel('Events',fontsize=12);\n",
    "plt.legend(frameon=False);"
   ]
  },
  {
   "cell_type": "code",
   "execution_count": 41,
   "metadata": {},
   "outputs": [
    {
     "data": {
      "image/png": "[encoded data removed]",
      "text/plain": [
       "<Figure size 432x288 with 1 Axes>"
      ]
     },
     "metadata": {
      "needs_background": "light"
     },
     "output_type": "display_data"
    }
   ],
   "source": [
    "plt.figure();\n",
    "plt.hist(binary_bdt.predict_proba(X[features][X['car_Luxury']==1][y==1])[:,1],bins=np.linspace(0,1,50),\n",
    "         histtype='step',color='midnightblue',label='Luxury');\n",
    "plt.hist(binary_bdt.predict_proba(X[features][X['car_Standard']==1][y==1])[:,1],bins=np.linspace(0,1,50),\n",
    "         histtype='step',color='firebrick',label='Standard');\n",
    "plt.hist(binary_bdt.predict_proba(X[features][X['car_Truck']==1][y==1])[:,1],bins=np.linspace(0,1,50),\n",
    "         histtype='step',color='goldenrod',label='Truck');\n",
    "# make the plot readable\n",
    "plt.xlabel('Prediction from BDT',fontsize=12);\n",
    "plt.ylabel('Events',fontsize=12);\n",
    "plt.title('True Loss Events',fontsize=14)\n",
    "plt.legend(frameon=False);"
   ]
  },
  {
   "cell_type": "code",
   "execution_count": 42,
   "metadata": {},
   "outputs": [
    {
     "data": {
      "image/png": "[encoded data removed]",
      "text/plain": [
       "<Figure size 432x288 with 1 Axes>"
      ]
     },
     "metadata": {
      "needs_background": "light"
     },
     "output_type": "display_data"
    }
   ],
   "source": [
    "plt.figure();\n",
    "plt.hist(binary_bdt.predict_proba(X[features][X['car_Luxury']==1][y==0])[:,1],bins=np.linspace(0,1,50),\n",
    "         histtype='step',color='midnightblue',label='Luxury');\n",
    "plt.hist(binary_bdt.predict_proba(X[features][X['car_Standard']==1][y==0])[:,1],bins=np.linspace(0,1,50),\n",
    "         histtype='step',color='firebrick',label='Standard');\n",
    "plt.hist(binary_bdt.predict_proba(X[features][X['car_Truck']==1][y==0])[:,1],bins=np.linspace(0,1,50),\n",
    "         histtype='step',color='goldenrod',label='Truck');\n",
    "# make the plot readable\n",
    "plt.xlabel('Prediction from BDT',fontsize=12);\n",
    "plt.ylabel('Events',fontsize=12);\n",
    "plt.title('True No Loss Events',fontsize=14)\n",
    "plt.legend(frameon=False);"
   ]
  }
 ],
 "metadata": {
  "kernelspec": {
   "display_name": "Python 3",
   "language": "python",
   "name": "python3"
  },
  "language_info": {
   "codemirror_mode": {
    "name": "ipython",
    "version": 3
   },
   "file_extension": ".py",
   "mimetype": "text/x-python",
   "name": "python",
   "nbconvert_exporter": "python",
   "pygments_lexer": "ipython3",
   "version": "3.7.6"
  }
 },
 "nbformat": 4,
 "nbformat_minor": 4
}
